{
 "cells": [
  {
   "cell_type": "code",
   "execution_count": 5,
   "id": "21bee0a3-79a7-43b2-9ac2-15cad5630e22",
   "metadata": {},
   "outputs": [],
   "source": [
    "import pandas as pd\n",
    "import numpy as np"
   ]
  },
  {
   "cell_type": "markdown",
   "id": "08544474-e883-4105-bcc3-9f3f9f014079",
   "metadata": {},
   "source": [
    "# Modelo Recurrentes con Embeddings a nivel de caracter"
   ]
  },
  {
   "cell_type": "code",
   "execution_count": 6,
   "id": "353a2d75-f0f4-4563-9842-c68d77118161",
   "metadata": {},
   "outputs": [],
   "source": [
    "df = pd.read_csv('data/acetylcholinesterase_02_bioactivity_data_preprocessed.csv')"
   ]
  },
  {
   "cell_type": "code",
   "execution_count": 7,
   "id": "d1554fa5-d9ee-456c-be20-80571e319fc6",
   "metadata": {},
   "outputs": [
    {
     "data": {
      "text/html": [
       "<div>\n",
       "<style scoped>\n",
       "    .dataframe tbody tr th:only-of-type {\n",
       "        vertical-align: middle;\n",
       "    }\n",
       "\n",
       "    .dataframe tbody tr th {\n",
       "        vertical-align: top;\n",
       "    }\n",
       "\n",
       "    .dataframe thead th {\n",
       "        text-align: right;\n",
       "    }\n",
       "</style>\n",
       "<table border=\"1\" class=\"dataframe\">\n",
       "  <thead>\n",
       "    <tr style=\"text-align: right;\">\n",
       "      <th></th>\n",
       "      <th>molecule_chembl_id</th>\n",
       "      <th>canonical_smiles</th>\n",
       "      <th>standard_value</th>\n",
       "      <th>standard_value_norm</th>\n",
       "      <th>pIC50</th>\n",
       "    </tr>\n",
       "  </thead>\n",
       "  <tbody>\n",
       "    <tr>\n",
       "      <th>0</th>\n",
       "      <td>CHEMBL133897</td>\n",
       "      <td>CCOc1nn(-c2cccc(OCc3ccccc3)c2)c(=O)o1</td>\n",
       "      <td>750.0</td>\n",
       "      <td>750.0</td>\n",
       "      <td>6.124939</td>\n",
       "    </tr>\n",
       "    <tr>\n",
       "      <th>1</th>\n",
       "      <td>CHEMBL336398</td>\n",
       "      <td>O=C(N1CCCCC1)n1nc(-c2ccc(Cl)cc2)nc1SCC1CC1</td>\n",
       "      <td>100.0</td>\n",
       "      <td>100.0</td>\n",
       "      <td>7.000000</td>\n",
       "    </tr>\n",
       "    <tr>\n",
       "      <th>2</th>\n",
       "      <td>CHEMBL131588</td>\n",
       "      <td>CN(C(=O)n1nc(-c2ccc(Cl)cc2)nc1SCC(F)(F)F)c1ccccc1</td>\n",
       "      <td>50000.0</td>\n",
       "      <td>50000.0</td>\n",
       "      <td>4.301030</td>\n",
       "    </tr>\n",
       "    <tr>\n",
       "      <th>3</th>\n",
       "      <td>CHEMBL130628</td>\n",
       "      <td>O=C(N1CCCCC1)n1nc(-c2ccc(Cl)cc2)nc1SCC(F)(F)F</td>\n",
       "      <td>300.0</td>\n",
       "      <td>300.0</td>\n",
       "      <td>6.522879</td>\n",
       "    </tr>\n",
       "    <tr>\n",
       "      <th>4</th>\n",
       "      <td>CHEMBL130478</td>\n",
       "      <td>CSc1nc(-c2ccc(OC(F)(F)F)cc2)nn1C(=O)N(C)C</td>\n",
       "      <td>800.0</td>\n",
       "      <td>800.0</td>\n",
       "      <td>6.096910</td>\n",
       "    </tr>\n",
       "  </tbody>\n",
       "</table>\n",
       "</div>"
      ],
      "text/plain": [
       "  molecule_chembl_id                                   canonical_smiles  \\\n",
       "0       CHEMBL133897              CCOc1nn(-c2cccc(OCc3ccccc3)c2)c(=O)o1   \n",
       "1       CHEMBL336398         O=C(N1CCCCC1)n1nc(-c2ccc(Cl)cc2)nc1SCC1CC1   \n",
       "2       CHEMBL131588  CN(C(=O)n1nc(-c2ccc(Cl)cc2)nc1SCC(F)(F)F)c1ccccc1   \n",
       "3       CHEMBL130628      O=C(N1CCCCC1)n1nc(-c2ccc(Cl)cc2)nc1SCC(F)(F)F   \n",
       "4       CHEMBL130478          CSc1nc(-c2ccc(OC(F)(F)F)cc2)nn1C(=O)N(C)C   \n",
       "\n",
       "   standard_value  standard_value_norm     pIC50  \n",
       "0           750.0                750.0  6.124939  \n",
       "1           100.0                100.0  7.000000  \n",
       "2         50000.0              50000.0  4.301030  \n",
       "3           300.0                300.0  6.522879  \n",
       "4           800.0                800.0  6.096910  "
      ]
     },
     "execution_count": 7,
     "metadata": {},
     "output_type": "execute_result"
    }
   ],
   "source": [
    "df.head()"
   ]
  },
  {
   "cell_type": "markdown",
   "id": "2985df76-23b9-45a8-83ed-ce8ae510219f",
   "metadata": {},
   "source": [
    "# Canonical_smiles To secuence"
   ]
  },
  {
   "cell_type": "code",
   "execution_count": 8,
   "id": "87e524d2-e7e9-4d3b-b1f1-b62254a0bc66",
   "metadata": {},
   "outputs": [],
   "source": [
    "from tensorflow.keras.preprocessing.text import Tokenizer\n",
    "from tensorflow.keras.preprocessing.sequence import pad_sequences"
   ]
  },
  {
   "cell_type": "markdown",
   "id": "b524afd5-79ed-433d-827b-ac04510ae8ad",
   "metadata": {},
   "source": [
    "Utilizando Tokenizer y pad_sequences de keras a nivel de caracter, obtener la entrada tokenizada. Por ejemplo:\n",
    "\n",
    "**El smiles**:\n",
    "\n",
    "'C[C@@]12CC[C@H]3[C@]4(C)CCC[C@@]5(C)C(=O)OCC[N+](C)(C)CCCCCCCCC[N+](C)(C)CCOC(=O)[C@]6(C)CCC[C@]7(C)[C@@H]6CC[C@@]68C[C@@H](OC(=O)CCCCCCCCC(=O)O[C@@H]1C[C@@]3(CC[C@@H]45)C2)[C@@](C)(CC[C@@H]76)C8.[Br-].[Br-]'\n",
    "\n",
    "**Tendría que quedar algo asi (puede que no sea exacto):**\n",
    "\n",
    "array([ 2, 11,  2, 13, 13, 12,  5,  7,  2,  2, 11,  2, 13, 16, 12, 10, 11,\n",
    "        2, 13, 12, 15,  3,  2,  4,  2,  2,  2, 11,  2, 13, 13, 12, 23,  3,\n",
    "        2,  4,  2,  3,  9,  6,  4,  6,  2,  2, 11,  8, 21, 12,  3,  2,  4,\n",
    "        3,  2,  4,  2,  2,  2,  2,  2,  2,  2,  2,  2, 11,  8, 21, 12,  3,\n",
    "        2,  4,  3,  2,  4,  2,  2,  6,  2,  3,  9,  6,  4, 11,  2, 13, 12,\n",
    "       30,  3,  2,  4,  2,  2,  2, 11,  2, 13, 12, 35,  3,  2,  4, 11,  2,\n",
    "       13, 13, 16, 12, 30,  2,  2, 11,  2, 13, 13, 12, 30, 36,  2, 11,  2,\n",
    "       13, 13, 16, 12,  3,  6,  2,  3,  9,  6,  4,  2,  2,  2,  2,  2,  2,\n",
    "        2,  2,  2,  3,  9,  6,  4,  6, 11,  2, 13, 13, 16, 12,  5,  2, 11,\n",
    "        2, 13, 13, 12, 10,  3,  2,  2, 11,  2, 13, 13, 16, 12, 15, 23,  4,\n",
    "        2,  7,  4, 11,  2, 13, 13, 12,  3,  2,  4,  3,  2,  2, 11,  2, 13,\n",
    "       13, 16, 12, 35, 30,  4,  2, 36, 20, 11, 25, 26, 17, 12, 20, 11, 25,\n",
    "       26, 17, 12], dtype=int32)\n",
    "       \n",
    "\n",
    "**Otro ejemplo:**\n",
    "smiles: 'NC(=O)O'\n",
    "\n",
    "array([0, 0, 0, 0, 0, 0, 0, 0, 0, 0, 0, 0, 0, 0, 0, 0, 0, 0, 0, 0, 0, 0,\n",
    "       0, 0, 0, 0, 0, 0, 0, 0, 0, 0, 0, 0, 0, 0, 0, 0, 0, 0, 0, 0, 0, 0,\n",
    "       0, 0, 0, 0, 0, 0, 0, 0, 0, 0, 0, 0, 0, 0, 0, 0, 0, 0, 0, 0, 0, 0,\n",
    "       0, 0, 0, 0, 0, 0, 0, 0, 0, 0, 0, 0, 0, 0, 0, 0, 0, 0, 0, 0, 0, 0,\n",
    "       0, 0, 0, 0, 0, 0, 0, 0, 0, 0, 0, 0, 0, 0, 0, 0, 0, 0, 0, 0, 0, 0,\n",
    "       0, 0, 0, 0, 0, 0, 0, 0, 0, 0, 0, 0, 0, 0, 0, 0, 0, 0, 0, 0, 0, 0,\n",
    "       0, 0, 0, 0, 0, 0, 0, 0, 0, 0, 0, 0, 0, 0, 0, 0, 0, 0, 0, 0, 0, 0,\n",
    "       0, 0, 0, 0, 0, 0, 0, 0, 0, 0, 0, 0, 0, 0, 0, 0, 0, 0, 0, 0, 0, 0,\n",
    "       0, 0, 0, 0, 0, 0, 0, 0, 0, 0, 0, 0, 0, 0, 0, 0, 0, 0, 0, 0, 0, 0,\n",
    "       0, 0, 8, 2, 3, 9, 6, 4, 6], dtype=int32)\n",
    "\n",
    "**Tener en cuenta:**\n",
    "\n",
    "- Ver cuanta es la máxima longitud para agregar el padding correspondiente\n",
    "- En el ejemplo se agrego padding a la izquierda"
   ]
  },
  {
   "cell_type": "code",
   "execution_count": 9,
   "id": "07f8fff5-c1f6-48d6-9e19-ee5defde20b1",
   "metadata": {},
   "outputs": [],
   "source": [
    "max_len_idx = df['canonical_smiles'].apply(len).argmax()\n",
    "min_len_idx = df['canonical_smiles'].apply(len).argmin()"
   ]
  },
  {
   "cell_type": "code",
   "execution_count": 10,
   "id": "703325ab-0193-4bf5-9b66-a880d7bc346b",
   "metadata": {},
   "outputs": [],
   "source": [
    "X = df['canonical_smiles']\n",
    "y = df['pIC50']"
   ]
  },
  {
   "cell_type": "code",
   "execution_count": 12,
   "id": "18bb3aec",
   "metadata": {},
   "outputs": [
    {
     "name": "stdout",
     "output_type": "stream",
     "text": [
      "2929\n",
      "595\n"
     ]
    }
   ],
   "source": [
    "print(max_len_idx)\n",
    "print(min_len_idx)"
   ]
  },
  {
   "cell_type": "code",
   "execution_count": 24,
   "id": "8efac7a8",
   "metadata": {},
   "outputs": [
    {
     "name": "stdout",
     "output_type": "stream",
     "text": [
      "7\n",
      "207\n"
     ]
    }
   ],
   "source": [
    "print(len(X[min_len_idx]))\n",
    "print(len(X[max_len_idx]))"
   ]
  },
  {
   "cell_type": "code",
   "execution_count": 25,
   "id": "1c520a16",
   "metadata": {},
   "outputs": [
    {
     "data": {
      "text/plain": [
       "'NC(=O)O'"
      ]
     },
     "execution_count": 25,
     "metadata": {},
     "output_type": "execute_result"
    }
   ],
   "source": [
    "X[min_len_idx]"
   ]
  },
  {
   "cell_type": "code",
   "execution_count": 13,
   "id": "4c1cafaf",
   "metadata": {},
   "outputs": [
    {
     "data": {
      "text/plain": [
       "0                   CCOc1nn(-c2cccc(OCc3ccccc3)c2)c(=O)o1\n",
       "1              O=C(N1CCCCC1)n1nc(-c2ccc(Cl)cc2)nc1SCC1CC1\n",
       "2       CN(C(=O)n1nc(-c2ccc(Cl)cc2)nc1SCC(F)(F)F)c1ccccc1\n",
       "3           O=C(N1CCCCC1)n1nc(-c2ccc(Cl)cc2)nc1SCC(F)(F)F\n",
       "4               CSc1nc(-c2ccc(OC(F)(F)F)cc2)nn1C(=O)N(C)C\n",
       "                              ...                        \n",
       "5098               CN(C)C(=O)Oc1ccc(C(O)CNC2CCCCC2)cc1.Cl\n",
       "5099     COc1ccc(CCC(=O)Nc2nc(-c3cc4ccccc4oc3=O)cs2)cc1OC\n",
       "5100                COc1ccc(-c2csc(NC(=O)CCN3CCCC3)n2)cc1\n",
       "5101    COc1cc(C2C3=C(CCCC3=O)NC3=C2C(=O)CCC3)ccc1OCc1...\n",
       "5102    O=C1CCCC2=C1C(c1ccc(OCc3cccc(F)c3)c(Br)c1)C1=C...\n",
       "Name: canonical_smiles, Length: 5103, dtype: object"
      ]
     },
     "execution_count": 13,
     "metadata": {},
     "output_type": "execute_result"
    }
   ],
   "source": [
    "X"
   ]
  },
  {
   "cell_type": "code",
   "execution_count": 35,
   "id": "09894d86-4408-469c-b1f9-60f6d7218b5c",
   "metadata": {},
   "outputs": [],
   "source": [
    "# Implementar tokenización y guardar en X_seq_pad el dataset tokenizado\n",
    "\n",
    "t  = Tokenizer(char_level=True, filters='', lower=False)\n",
    "t.fit_on_texts(X)\n"
   ]
  },
  {
   "cell_type": "code",
   "execution_count": 36,
   "id": "bcf0de0b",
   "metadata": {},
   "outputs": [
    {
     "data": {
      "text/plain": [
       "array([[ 0,  0,  0, ...,  4, 24,  5],\n",
       "       [ 0,  0,  0, ...,  2,  2,  5],\n",
       "       [ 0,  0,  0, ...,  1,  1,  5],\n",
       "       ...,\n",
       "       [ 0,  0,  0, ...,  1,  1,  5],\n",
       "       [ 0,  0,  0, ...,  1,  1,  5],\n",
       "       [ 0,  0,  0, ...,  4,  8,  7]])"
      ]
     },
     "execution_count": 36,
     "metadata": {},
     "output_type": "execute_result"
    }
   ],
   "source": [
    "X_seq_pad = pad_sequences( t.texts_to_sequences(X))\n",
    "\n",
    "X_seq_pad"
   ]
  },
  {
   "cell_type": "code",
   "execution_count": 37,
   "id": "4f1e46a2",
   "metadata": {},
   "outputs": [
    {
     "data": {
      "text/plain": [
       "207"
      ]
     },
     "execution_count": 37,
     "metadata": {},
     "output_type": "execute_result"
    }
   ],
   "source": [
    "len(X_seq_pad[1])"
   ]
  },
  {
   "cell_type": "code",
   "execution_count": 39,
   "id": "be4f4cee",
   "metadata": {},
   "outputs": [
    {
     "data": {
      "text/plain": [
       "(5103, 207)"
      ]
     },
     "execution_count": 39,
     "metadata": {},
     "output_type": "execute_result"
    }
   ],
   "source": [
    "# verifico shape si longitud coincide con la del vector del indice mayor X[max_len_idx]\n",
    "# y cantidad de filas con las del df original\n",
    "X_seq_pad.shape"
   ]
  },
  {
   "cell_type": "markdown",
   "id": "4233710d-9274-4dae-b22d-cf42b57ad862",
   "metadata": {},
   "source": [
    "# Split"
   ]
  },
  {
   "cell_type": "code",
   "execution_count": 40,
   "id": "ce7a95e6-2486-42fb-97fb-865e3fd6a561",
   "metadata": {},
   "outputs": [],
   "source": [
    "from sklearn.model_selection import train_test_split"
   ]
  },
  {
   "cell_type": "code",
   "execution_count": 41,
   "id": "fcb9840f-2f41-45be-99a5-f05f3ab73ed8",
   "metadata": {},
   "outputs": [],
   "source": [
    "X_train, X_test, y_train, y_test = train_test_split(X_seq_pad, y, test_size=0.2, random_state=42)"
   ]
  },
  {
   "cell_type": "code",
   "execution_count": 42,
   "id": "4ad17134-3e15-42d1-b8c9-0c793169e145",
   "metadata": {},
   "outputs": [
    {
     "data": {
      "text/plain": [
       "(4082, 4082, 1021)"
      ]
     },
     "execution_count": 42,
     "metadata": {},
     "output_type": "execute_result"
    }
   ],
   "source": [
    "len(X_train), len(y_train), len(X_test)"
   ]
  },
  {
   "cell_type": "markdown",
   "id": "85941430-2534-4d7d-ba52-d934a31c1bf6",
   "metadata": {},
   "source": [
    "# Network Model"
   ]
  },
  {
   "cell_type": "code",
   "execution_count": 43,
   "id": "6bd5d1bf-4640-4cbc-acd3-72881ddcc07e",
   "metadata": {},
   "outputs": [],
   "source": [
    "from tensorflow.keras import Sequential\n",
    "from tensorflow.keras.layers import LSTM, Dense, Embedding, Bidirectional, Dropout, Activation, BatchNormalization\n",
    "from tensorflow.keras.callbacks import ModelCheckpoint\n",
    "from tensorflow.keras.optimizers import Adam, RMSprop\n",
    "from tensorflow.keras import backend as K"
   ]
  },
  {
   "cell_type": "code",
   "execution_count": 44,
   "id": "4bf115a2-9f1b-42b8-9b62-59728f1da977",
   "metadata": {},
   "outputs": [],
   "source": [
    "# Métrica\n",
    "\n",
    "def R2(y_true, y_pred):\n",
    "    SS_res =  K.sum(K.square( y_true-y_pred ))\n",
    "    SS_tot = K.sum(K.square( y_true - K.mean(y_true) ) )\n",
    "    return ( 1 - SS_res/(SS_tot + K.epsilon()) )"
   ]
  },
  {
   "cell_type": "code",
   "execution_count": 45,
   "id": "4e442387",
   "metadata": {},
   "outputs": [
    {
     "data": {
      "text/plain": [
       "{'c': 1,\n",
       " 'C': 2,\n",
       " '(': 3,\n",
       " ')': 4,\n",
       " '1': 5,\n",
       " 'O': 6,\n",
       " '2': 7,\n",
       " 'N': 8,\n",
       " '=': 9,\n",
       " '3': 10,\n",
       " '[': 11,\n",
       " ']': 12,\n",
       " '@': 13,\n",
       " 'n': 14,\n",
       " '4': 15,\n",
       " 'H': 16,\n",
       " '-': 17,\n",
       " '/': 18,\n",
       " 'l': 19,\n",
       " '.': 20,\n",
       " '+': 21,\n",
       " 'F': 22,\n",
       " '5': 23,\n",
       " 'o': 24,\n",
       " 'B': 25,\n",
       " 'r': 26,\n",
       " 'S': 27,\n",
       " '\\\\': 28,\n",
       " '#': 29,\n",
       " '6': 30,\n",
       " 's': 31,\n",
       " 'I': 32,\n",
       " 'e': 33,\n",
       " 'P': 34,\n",
       " '7': 35,\n",
       " '8': 36,\n",
       " 'i': 37,\n",
       " 'a': 38}"
      ]
     },
     "execution_count": 45,
     "metadata": {},
     "output_type": "execute_result"
    }
   ],
   "source": [
    "t.word_index"
   ]
  },
  {
   "cell_type": "code",
   "execution_count": 34,
   "id": "f44541e2",
   "metadata": {},
   "outputs": [
    {
     "data": {
      "text/plain": [
       "2520"
      ]
     },
     "execution_count": 34,
     "metadata": {},
     "output_type": "execute_result"
    }
   ],
   "source": [
    "len(t.word_index)"
   ]
  },
  {
   "cell_type": "code",
   "execution_count": 47,
   "id": "92d30b68-3110-459c-887d-a06f056d067b",
   "metadata": {},
   "outputs": [
    {
     "data": {
      "text/plain": [
       "38"
      ]
     },
     "execution_count": 47,
     "metadata": {},
     "output_type": "execute_result"
    }
   ],
   "source": [
    "# vocab_size = # Completar largo del vocabulario\n",
    "vocab_size = len(t.word_index)\n",
    "vocab_size"
   ]
  },
  {
   "cell_type": "code",
   "execution_count": 51,
   "id": "6166a72b-ccd1-459c-a3a1-fa43bf31a369",
   "metadata": {},
   "outputs": [
    {
     "data": {
      "text/plain": [
       "207"
      ]
     },
     "execution_count": 51,
     "metadata": {},
     "output_type": "execute_result"
    }
   ],
   "source": [
    "max_sequence_len = len(X[max_len_idx])\n",
    "max_sequence_len"
   ]
  },
  {
   "cell_type": "markdown",
   "id": "cc91cd42-b885-4ab5-b348-57296b0c0d10",
   "metadata": {},
   "source": [
    "# Armar modelo en keras de LSTM\n",
    "El de abajo es un ejemplo propuesto pero puede armar otro similar (siempre con LSTM o GRU)"
   ]
  },
  {
   "cell_type": "raw",
   "id": "9883ed67-e2d9-412a-8f8b-1e463df69ed8",
   "metadata": {},
   "source": [
    "Model: \"sequential\"\n",
    "_________________________________________________________________\n",
    "Layer (type)                 Output Shape              Param #   \n",
    "=================================================================\n",
    "embedding (Embedding)        (None, 207, 64)           2496      \n",
    "_________________________________________________________________\n",
    "bidirectional (Bidirectional (None, 200)               132000    \n",
    "_________________________________________________________________\n",
    "dense (Dense)                (None, 50)                10050     \n",
    "_________________________________________________________________\n",
    "batch_normalization (BatchNo (None, 50)                200       \n",
    "_________________________________________________________________\n",
    "activation (Activation)      (None, 50)                0         \n",
    "_________________________________________________________________\n",
    "dense_1 (Dense)              (None, 1)                 51        \n",
    "=================================================================\n",
    "Total params: 144,797\n",
    "Trainable params: 144,697\n",
    "Non-trainable params: 100\n",
    "_________________________________________________________________"
   ]
  },
  {
   "cell_type": "code",
   "execution_count": 59,
   "id": "d05209e0-5358-40c0-b806-2e98367e9f1c",
   "metadata": {},
   "outputs": [],
   "source": [
    "model = Sequential()\n",
    "\n",
    "# Implementar modelo completo\n",
    "\n",
    "model.add(Embedding(input_dim = vocab_size + 1, output_dim= 64, input_length=max_sequence_len))\n",
    "model.add(Bidirectional(LSTM(100, return_sequences=False, activation='tanh')))\n",
    "model.add(Dense(50))\n",
    "model.add(BatchNormalization())\n",
    "model.add(Activation('relu'))\n",
    "model.add(Dense(1))"
   ]
  },
  {
   "cell_type": "code",
   "execution_count": 60,
   "id": "237c1327-028f-4f70-bd29-ea94cd999686",
   "metadata": {},
   "outputs": [
    {
     "name": "stdout",
     "output_type": "stream",
     "text": [
      "Model: \"sequential_2\"\n",
      "_________________________________________________________________\n",
      "Layer (type)                 Output Shape              Param #   \n",
      "=================================================================\n",
      "embedding_2 (Embedding)      (None, 207, 64)           2496      \n",
      "_________________________________________________________________\n",
      "bidirectional_1 (Bidirection (None, 200)               132000    \n",
      "_________________________________________________________________\n",
      "dense_2 (Dense)              (None, 50)                10050     \n",
      "_________________________________________________________________\n",
      "batch_normalization_1 (Batch (None, 50)                200       \n",
      "_________________________________________________________________\n",
      "activation_1 (Activation)    (None, 50)                0         \n",
      "_________________________________________________________________\n",
      "dense_3 (Dense)              (None, 1)                 51        \n",
      "=================================================================\n",
      "Total params: 144,797\n",
      "Trainable params: 144,697\n",
      "Non-trainable params: 100\n",
      "_________________________________________________________________\n"
     ]
    }
   ],
   "source": [
    "model.summary()"
   ]
  },
  {
   "cell_type": "code",
   "execution_count": 62,
   "id": "9138b411-fc5d-41bd-8c8e-c12580cc5b14",
   "metadata": {},
   "outputs": [],
   "source": [
    "model.compile(optimizer=RMSprop(learning_rate=0.001), loss='mse', metrics=[R2])"
   ]
  },
  {
   "cell_type": "code",
   "execution_count": 63,
   "id": "62c3f792-f413-4150-8ebf-1f59c5fb986d",
   "metadata": {},
   "outputs": [],
   "source": [
    "mcp = ModelCheckpoint('models/best_model_{epoch}', save_best_only=True, save_format=\"h5\")"
   ]
  },
  {
   "cell_type": "code",
   "execution_count": 64,
   "id": "3f37ab4e-0e3a-44c6-a572-ba5c67930c61",
   "metadata": {},
   "outputs": [
    {
     "name": "stdout",
     "output_type": "stream",
     "text": [
      "Epoch 1/100\n",
      "32/32 [==============================] - 37s 881ms/step - loss: 19.1711 - R2: -6.2355 - val_loss: 30.7250 - val_R2: -10.1347\n",
      "Epoch 2/100\n",
      "32/32 [==============================] - 27s 847ms/step - loss: 11.3935 - R2: -3.2963 - val_loss: 23.4170 - val_R2: -7.4741\n",
      "Epoch 3/100\n",
      "32/32 [==============================] - 28s 872ms/step - loss: 6.9892 - R2: -1.5674 - val_loss: 15.2166 - val_R2: -4.4911\n",
      "Epoch 4/100\n",
      "32/32 [==============================] - 34s 1s/step - loss: 4.0311 - R2: -0.4798 - val_loss: 14.5755 - val_R2: -4.2584\n",
      "Epoch 5/100\n",
      "32/32 [==============================] - 28s 881ms/step - loss: 2.6921 - R2: 0.0170 - val_loss: 9.6863 - val_R2: -2.4866\n",
      "Epoch 6/100\n",
      "32/32 [==============================] - 28s 881ms/step - loss: 2.3519 - R2: 0.1483 - val_loss: 9.6997 - val_R2: -2.4930\n",
      "Epoch 7/100\n",
      "32/32 [==============================] - 27s 839ms/step - loss: 2.1943 - R2: 0.1956 - val_loss: 7.9231 - val_R2: -1.8402\n",
      "Epoch 8/100\n",
      "32/32 [==============================] - 28s 870ms/step - loss: 2.1171 - R2: 0.2226 - val_loss: 6.7298 - val_R2: -1.4119\n",
      "Epoch 9/100\n",
      "32/32 [==============================] - 29s 893ms/step - loss: 1.9744 - R2: 0.2803 - val_loss: 3.3733 - val_R2: -0.2044\n",
      "Epoch 10/100\n",
      "32/32 [==============================] - 27s 850ms/step - loss: 1.9864 - R2: 0.2780 - val_loss: 3.9996 - val_R2: -0.4242\n",
      "Epoch 11/100\n",
      "32/32 [==============================] - 28s 890ms/step - loss: 1.9340 - R2: 0.2955 - val_loss: 2.2275 - val_R2: 0.2128\n",
      "Epoch 12/100\n",
      "32/32 [==============================] - 28s 884ms/step - loss: 1.8331 - R2: 0.3275 - val_loss: 2.3186 - val_R2: 0.1710\n",
      "Epoch 13/100\n",
      "32/32 [==============================] - 28s 886ms/step - loss: 1.8438 - R2: 0.3219 - val_loss: 1.9341 - val_R2: 0.3179\n",
      "Epoch 14/100\n",
      "32/32 [==============================] - 28s 878ms/step - loss: 1.8126 - R2: 0.3368 - val_loss: 2.3149 - val_R2: 0.1940\n",
      "Epoch 15/100\n",
      "32/32 [==============================] - 28s 879ms/step - loss: 1.8351 - R2: 0.3331 - val_loss: 34.4317 - val_R2: -11.5484\n",
      "Epoch 16/100\n",
      "32/32 [==============================] - 28s 880ms/step - loss: 1.7157 - R2: 0.3694 - val_loss: 15.1918 - val_R2: -4.5361\n",
      "Epoch 17/100\n",
      "32/32 [==============================] - 28s 886ms/step - loss: 1.6520 - R2: 0.3963 - val_loss: 2.4719 - val_R2: 0.1216\n",
      "Epoch 18/100\n",
      "32/32 [==============================] - 28s 888ms/step - loss: 1.6745 - R2: 0.3907 - val_loss: 1.8953 - val_R2: 0.3211\n",
      "Epoch 19/100\n",
      "32/32 [==============================] - 29s 899ms/step - loss: 1.6879 - R2: 0.3761 - val_loss: 6.6867 - val_R2: -1.4297\n",
      "Epoch 20/100\n",
      "32/32 [==============================] - 29s 919ms/step - loss: 1.6052 - R2: 0.4112 - val_loss: 3.4256 - val_R2: -0.2457\n",
      "Epoch 21/100\n",
      "32/32 [==============================] - 29s 918ms/step - loss: 1.5317 - R2: 0.4401 - val_loss: 3.8730 - val_R2: -0.4111\n",
      "Epoch 22/100\n",
      "32/32 [==============================] - 28s 889ms/step - loss: 1.5450 - R2: 0.4305 - val_loss: 3.8006 - val_R2: -0.3803\n",
      "Epoch 23/100\n",
      "32/32 [==============================] - 29s 895ms/step - loss: 1.4924 - R2: 0.4546 - val_loss: 2.2980 - val_R2: 0.1682\n",
      "Epoch 24/100\n",
      "32/32 [==============================] - 29s 899ms/step - loss: 1.5631 - R2: 0.4260 - val_loss: 2.2312 - val_R2: 0.1846\n",
      "Epoch 25/100\n",
      "32/32 [==============================] - 29s 909ms/step - loss: 1.4695 - R2: 0.4542 - val_loss: 3.1056 - val_R2: -0.1284\n",
      "Epoch 26/100\n",
      "32/32 [==============================] - 29s 907ms/step - loss: 1.4735 - R2: 0.4613 - val_loss: 1.7725 - val_R2: 0.3570\n",
      "Epoch 27/100\n",
      "32/32 [==============================] - 29s 903ms/step - loss: 1.4000 - R2: 0.4816 - val_loss: 1.5231 - val_R2: 0.4453\n",
      "Epoch 28/100\n",
      "32/32 [==============================] - 29s 905ms/step - loss: 1.3145 - R2: 0.5161 - val_loss: 1.8869 - val_R2: 0.3221\n",
      "Epoch 29/100\n",
      "32/32 [==============================] - 29s 894ms/step - loss: 1.2985 - R2: 0.5173 - val_loss: 5.4471 - val_R2: -0.9891\n",
      "Epoch 30/100\n",
      "32/32 [==============================] - 29s 896ms/step - loss: 1.3014 - R2: 0.5204 - val_loss: 1.7560 - val_R2: 0.3716\n",
      "Epoch 31/100\n",
      "32/32 [==============================] - 29s 900ms/step - loss: 1.2783 - R2: 0.5283 - val_loss: 2.7157 - val_R2: 0.0220\n",
      "Epoch 32/100\n",
      "32/32 [==============================] - 29s 893ms/step - loss: 1.2349 - R2: 0.5438 - val_loss: 2.4244 - val_R2: 0.1174\n",
      "Epoch 33/100\n",
      "32/32 [==============================] - 29s 897ms/step - loss: 1.2072 - R2: 0.5459 - val_loss: 2.4629 - val_R2: 0.1120\n",
      "Epoch 34/100\n",
      "32/32 [==============================] - 28s 883ms/step - loss: 1.1981 - R2: 0.5553 - val_loss: 2.2763 - val_R2: 0.1689\n",
      "Epoch 35/100\n",
      "32/32 [==============================] - 28s 882ms/step - loss: 1.1421 - R2: 0.5720 - val_loss: 1.4664 - val_R2: 0.4620\n",
      "Epoch 36/100\n",
      "32/32 [==============================] - 28s 885ms/step - loss: 1.1993 - R2: 0.5515 - val_loss: 1.5473 - val_R2: 0.4379\n",
      "Epoch 37/100\n",
      "32/32 [==============================] - 28s 870ms/step - loss: 1.1192 - R2: 0.5884 - val_loss: 1.5529 - val_R2: 0.4322\n",
      "Epoch 38/100\n",
      "32/32 [==============================] - 28s 880ms/step - loss: 1.1028 - R2: 0.5913 - val_loss: 1.4436 - val_R2: 0.4764\n",
      "Epoch 39/100\n",
      "32/32 [==============================] - 28s 878ms/step - loss: 1.1149 - R2: 0.5854 - val_loss: 1.4122 - val_R2: 0.4871\n",
      "Epoch 40/100\n",
      "32/32 [==============================] - 28s 879ms/step - loss: 1.0454 - R2: 0.6085 - val_loss: 1.3164 - val_R2: 0.5236\n",
      "Epoch 41/100\n",
      "32/32 [==============================] - 28s 878ms/step - loss: 1.0316 - R2: 0.6150 - val_loss: 1.4055 - val_R2: 0.5000\n",
      "Epoch 42/100\n",
      "32/32 [==============================] - 28s 868ms/step - loss: 1.0449 - R2: 0.6146 - val_loss: 1.4059 - val_R2: 0.4967\n",
      "Epoch 43/100\n",
      "32/32 [==============================] - 28s 870ms/step - loss: 1.0258 - R2: 0.6182 - val_loss: 1.3361 - val_R2: 0.5111\n",
      "Epoch 44/100\n",
      "32/32 [==============================] - 28s 883ms/step - loss: 0.9654 - R2: 0.6413 - val_loss: 1.4901 - val_R2: 0.4634\n",
      "Epoch 45/100\n",
      "32/32 [==============================] - 28s 877ms/step - loss: 0.9638 - R2: 0.6429 - val_loss: 1.3180 - val_R2: 0.5283\n",
      "Epoch 46/100\n",
      "32/32 [==============================] - 28s 879ms/step - loss: 0.9712 - R2: 0.6362 - val_loss: 1.3267 - val_R2: 0.5169\n",
      "Epoch 47/100\n",
      "32/32 [==============================] - 28s 882ms/step - loss: 0.9423 - R2: 0.6516 - val_loss: 1.3779 - val_R2: 0.5016\n",
      "Epoch 48/100\n",
      "32/32 [==============================] - 28s 871ms/step - loss: 0.8743 - R2: 0.6783 - val_loss: 1.3951 - val_R2: 0.4896\n",
      "Epoch 49/100\n",
      "32/32 [==============================] - 28s 878ms/step - loss: 0.9389 - R2: 0.6494 - val_loss: 1.3724 - val_R2: 0.4986\n",
      "Epoch 50/100\n",
      "32/32 [==============================] - 28s 881ms/step - loss: 0.8782 - R2: 0.6757 - val_loss: 1.3005 - val_R2: 0.5192\n",
      "Epoch 51/100\n",
      "32/32 [==============================] - 28s 880ms/step - loss: 0.8533 - R2: 0.6842 - val_loss: 1.7772 - val_R2: 0.3481\n",
      "Epoch 52/100\n",
      "32/32 [==============================] - 28s 888ms/step - loss: 0.8267 - R2: 0.6923 - val_loss: 1.3715 - val_R2: 0.5034\n",
      "Epoch 53/100\n",
      "32/32 [==============================] - 29s 899ms/step - loss: 0.8381 - R2: 0.6883 - val_loss: 1.2524 - val_R2: 0.5438\n",
      "Epoch 54/100\n",
      "32/32 [==============================] - 28s 873ms/step - loss: 0.8091 - R2: 0.7025 - val_loss: 1.5309 - val_R2: 0.4415\n",
      "Epoch 55/100\n",
      "32/32 [==============================] - 29s 913ms/step - loss: 0.7941 - R2: 0.7055 - val_loss: 1.4320 - val_R2: 0.4793\n",
      "Epoch 56/100\n",
      "32/32 [==============================] - 28s 864ms/step - loss: 0.7670 - R2: 0.7134 - val_loss: 1.5151 - val_R2: 0.4431\n",
      "Epoch 57/100\n",
      "32/32 [==============================] - 28s 891ms/step - loss: 0.7696 - R2: 0.7179 - val_loss: 1.3228 - val_R2: 0.5204\n",
      "Epoch 58/100\n",
      "32/32 [==============================] - 29s 894ms/step - loss: 0.7439 - R2: 0.7217 - val_loss: 1.2633 - val_R2: 0.5376\n",
      "Epoch 59/100\n",
      "32/32 [==============================] - 28s 865ms/step - loss: 0.7215 - R2: 0.7353 - val_loss: 1.2323 - val_R2: 0.5559\n",
      "Epoch 60/100\n",
      "32/32 [==============================] - 27s 846ms/step - loss: 0.7309 - R2: 0.7297 - val_loss: 1.2507 - val_R2: 0.5487\n",
      "Epoch 61/100\n",
      "32/32 [==============================] - 27s 853ms/step - loss: 0.6913 - R2: 0.7460 - val_loss: 2.0105 - val_R2: 0.2718\n",
      "Epoch 62/100\n",
      "32/32 [==============================] - 27s 851ms/step - loss: 0.6911 - R2: 0.7424 - val_loss: 1.5919 - val_R2: 0.4235\n",
      "Epoch 63/100\n",
      "32/32 [==============================] - 27s 854ms/step - loss: 0.7007 - R2: 0.7346 - val_loss: 1.5238 - val_R2: 0.4477\n",
      "Epoch 64/100\n",
      "32/32 [==============================] - 27s 849ms/step - loss: 0.6788 - R2: 0.7499 - val_loss: 3.0259 - val_R2: -0.1091\n",
      "Epoch 65/100\n",
      "32/32 [==============================] - 28s 870ms/step - loss: 0.6556 - R2: 0.7573 - val_loss: 1.6695 - val_R2: 0.4069\n",
      "Epoch 66/100\n",
      "32/32 [==============================] - 28s 870ms/step - loss: 0.6580 - R2: 0.7552 - val_loss: 1.4878 - val_R2: 0.4592\n",
      "Epoch 67/100\n",
      "32/32 [==============================] - 30s 929ms/step - loss: 0.6346 - R2: 0.7691 - val_loss: 1.1734 - val_R2: 0.5735\n",
      "Epoch 68/100\n",
      "32/32 [==============================] - 31s 956ms/step - loss: 0.5949 - R2: 0.7772 - val_loss: 1.1827 - val_R2: 0.5756\n",
      "Epoch 69/100\n",
      "32/32 [==============================] - 29s 920ms/step - loss: 0.6148 - R2: 0.7736 - val_loss: 2.0254 - val_R2: 0.2666\n",
      "Epoch 70/100\n",
      "32/32 [==============================] - 28s 884ms/step - loss: 0.5967 - R2: 0.7833 - val_loss: 1.3232 - val_R2: 0.5164\n",
      "Epoch 71/100\n",
      "32/32 [==============================] - 28s 870ms/step - loss: 0.5800 - R2: 0.7857 - val_loss: 1.0896 - val_R2: 0.6030\n",
      "Epoch 72/100\n",
      "32/32 [==============================] - 28s 862ms/step - loss: 0.5476 - R2: 0.7998 - val_loss: 1.3862 - val_R2: 0.5009\n",
      "Epoch 73/100\n",
      "32/32 [==============================] - 30s 931ms/step - loss: 0.5493 - R2: 0.7998 - val_loss: 1.5464 - val_R2: 0.4334\n",
      "Epoch 74/100\n",
      "32/32 [==============================] - 29s 900ms/step - loss: 0.5616 - R2: 0.7915 - val_loss: 1.1365 - val_R2: 0.5877\n",
      "Epoch 75/100\n",
      "32/32 [==============================] - 29s 900ms/step - loss: 0.5407 - R2: 0.8015 - val_loss: 1.3143 - val_R2: 0.5250\n",
      "Epoch 76/100\n",
      "32/32 [==============================] - 31s 969ms/step - loss: 0.5523 - R2: 0.7984 - val_loss: 1.1237 - val_R2: 0.5905\n",
      "Epoch 77/100\n",
      "32/32 [==============================] - 31s 961ms/step - loss: 0.5328 - R2: 0.8028 - val_loss: 1.6765 - val_R2: 0.3931\n",
      "Epoch 78/100\n",
      "32/32 [==============================] - 29s 921ms/step - loss: 0.5067 - R2: 0.8136 - val_loss: 1.3241 - val_R2: 0.5293\n",
      "Epoch 79/100\n",
      "32/32 [==============================] - 28s 874ms/step - loss: 0.5170 - R2: 0.8051 - val_loss: 1.1067 - val_R2: 0.5988\n",
      "Epoch 80/100\n",
      "32/32 [==============================] - 28s 882ms/step - loss: 0.4817 - R2: 0.8209 - val_loss: 1.2770 - val_R2: 0.5423\n",
      "Epoch 81/100\n",
      "32/32 [==============================] - 30s 924ms/step - loss: 0.4777 - R2: 0.8276 - val_loss: 1.0839 - val_R2: 0.6029\n",
      "Epoch 82/100\n",
      "32/32 [==============================] - 30s 954ms/step - loss: 0.4874 - R2: 0.8204 - val_loss: 1.2226 - val_R2: 0.5521\n",
      "Epoch 83/100\n",
      "32/32 [==============================] - 30s 930ms/step - loss: 0.4698 - R2: 0.8279 - val_loss: 1.1231 - val_R2: 0.5912\n",
      "Epoch 84/100\n",
      "32/32 [==============================] - 29s 920ms/step - loss: 0.4976 - R2: 0.8191 - val_loss: 1.2551 - val_R2: 0.5429\n",
      "Epoch 85/100\n",
      "32/32 [==============================] - 28s 869ms/step - loss: 0.4317 - R2: 0.8406 - val_loss: 1.2264 - val_R2: 0.5492\n",
      "Epoch 86/100\n",
      "32/32 [==============================] - 28s 891ms/step - loss: 0.4418 - R2: 0.8329 - val_loss: 1.6724 - val_R2: 0.3896\n",
      "Epoch 87/100\n",
      "32/32 [==============================] - 29s 901ms/step - loss: 0.4253 - R2: 0.8469 - val_loss: 1.3346 - val_R2: 0.5114\n",
      "Epoch 88/100\n",
      "32/32 [==============================] - 28s 889ms/step - loss: 0.4372 - R2: 0.8378 - val_loss: 1.1697 - val_R2: 0.5734\n",
      "Epoch 89/100\n",
      "32/32 [==============================] - 28s 877ms/step - loss: 0.4298 - R2: 0.8418 - val_loss: 1.3359 - val_R2: 0.5121\n",
      "Epoch 90/100\n",
      "32/32 [==============================] - 28s 891ms/step - loss: 0.4417 - R2: 0.8361 - val_loss: 1.1921 - val_R2: 0.5745\n",
      "Epoch 91/100\n",
      "32/32 [==============================] - 29s 893ms/step - loss: 0.4071 - R2: 0.8497 - val_loss: 1.1096 - val_R2: 0.5942\n",
      "Epoch 92/100\n",
      "32/32 [==============================] - 29s 893ms/step - loss: 0.3924 - R2: 0.8584 - val_loss: 1.0798 - val_R2: 0.6073\n",
      "Epoch 93/100\n",
      "32/32 [==============================] - 28s 883ms/step - loss: 0.4343 - R2: 0.8405 - val_loss: 1.0456 - val_R2: 0.6218\n",
      "Epoch 94/100\n",
      "32/32 [==============================] - 29s 902ms/step - loss: 0.3897 - R2: 0.8535 - val_loss: 1.1125 - val_R2: 0.6024\n",
      "Epoch 95/100\n",
      "32/32 [==============================] - 28s 880ms/step - loss: 0.3734 - R2: 0.8612 - val_loss: 1.1634 - val_R2: 0.5756\n",
      "Epoch 96/100\n",
      "32/32 [==============================] - 29s 913ms/step - loss: 0.3697 - R2: 0.8620 - val_loss: 1.0692 - val_R2: 0.6127\n",
      "Epoch 97/100\n",
      "32/32 [==============================] - 28s 888ms/step - loss: 0.3747 - R2: 0.8624 - val_loss: 1.1269 - val_R2: 0.5942\n",
      "Epoch 98/100\n",
      "32/32 [==============================] - 29s 891ms/step - loss: 0.3994 - R2: 0.8548 - val_loss: 1.0621 - val_R2: 0.6150\n",
      "Epoch 99/100\n",
      "32/32 [==============================] - 28s 888ms/step - loss: 0.3646 - R2: 0.8663 - val_loss: 1.0793 - val_R2: 0.6090\n",
      "Epoch 100/100\n",
      "32/32 [==============================] - 28s 878ms/step - loss: 0.3549 - R2: 0.8683 - val_loss: 1.0886 - val_R2: 0.6042\n"
     ]
    }
   ],
   "source": [
    "history = model.fit(X_train, y_train, epochs=100, batch_size=128, validation_data=(X_test, y_test), callbacks=[])"
   ]
  },
  {
   "cell_type": "code",
   "execution_count": 65,
   "id": "0084fbb1-e83e-4808-99bf-1458f3ea3076",
   "metadata": {},
   "outputs": [],
   "source": [
    "y_pred = model.predict(X_test)"
   ]
  },
  {
   "cell_type": "markdown",
   "id": "382979a3-f299-4762-8b6d-10a6ea4d3c70",
   "metadata": {},
   "source": [
    "# Score"
   ]
  },
  {
   "cell_type": "code",
   "execution_count": 70,
   "id": "f9fd5d60-841f-46c3-94b6-5755b4d548cd",
   "metadata": {},
   "outputs": [],
   "source": [
    "from sklearn.metrics import r2_score\n",
    "r2 = r2_score(y_test, y_pred)\n",
    "# r2 = 1 - ((y_test.values - y_pred.reshape(-1)) ** 2).sum() / ((y_test - y_test.mean()) ** 2).sum()"
   ]
  },
  {
   "cell_type": "code",
   "execution_count": 71,
   "id": "4d2bfabe-2e3e-40cf-a1e8-2d458ee7f328",
   "metadata": {},
   "outputs": [
    {
     "data": {
      "text/plain": [
       "0.6228695897702403"
      ]
     },
     "execution_count": 71,
     "metadata": {},
     "output_type": "execute_result"
    }
   ],
   "source": [
    "r2\n",
    "# 0.4984533246797399"
   ]
  },
  {
   "cell_type": "code",
   "execution_count": 72,
   "id": "85262541-e04a-4ff2-b3e6-a47643db66f6",
   "metadata": {},
   "outputs": [],
   "source": [
    "model.save('models/embed_64_bi_lstm_100_dense_50_bn.h5', )"
   ]
  },
  {
   "cell_type": "markdown",
   "id": "5f683e18-c876-4f7c-93ea-a33d495dcdaa",
   "metadata": {},
   "source": [
    "# Load model (solo si se grabo el modelo)"
   ]
  },
  {
   "cell_type": "code",
   "execution_count": 73,
   "id": "285c8740-f0bb-4237-8593-ff9b815de0e3",
   "metadata": {},
   "outputs": [],
   "source": [
    "from tensorflow.keras.models import load_model"
   ]
  },
  {
   "cell_type": "code",
   "execution_count": 74,
   "id": "2168984f-770c-436e-92da-c1344b1d3abc",
   "metadata": {},
   "outputs": [],
   "source": [
    "model_loaded = load_model('models/embed_64_bi_lstm_100_dense_50_bn.h5', custom_objects={'R2': R2})"
   ]
  },
  {
   "cell_type": "code",
   "execution_count": 75,
   "id": "13a9d7d8-41e0-44a0-a8b9-02157a11f8f2",
   "metadata": {},
   "outputs": [],
   "source": [
    "y_pred = model_loaded.predict(X_test)"
   ]
  },
  {
   "cell_type": "code",
   "execution_count": 76,
   "id": "26c63493-3f25-4383-9654-58ee62aa3ae5",
   "metadata": {},
   "outputs": [
    {
     "data": {
      "text/plain": [
       "0.6228695897702403"
      ]
     },
     "execution_count": 76,
     "metadata": {},
     "output_type": "execute_result"
    }
   ],
   "source": [
    "# r2 = 1 - ((y_test.values - y_pred.reshape(-1)) ** 2).sum() / ((y_test - y_test.mean()) ** 2).sum()\n",
    "r2 = r2_score(y_test, y_pred)\n",
    "r2"
   ]
  },
  {
   "cell_type": "markdown",
   "id": "c8ab60bf-7b98-4f46-b1dd-b08b5fbf8bed",
   "metadata": {},
   "source": [
    "¿Hasta que valores de r2 logró?"
   ]
  },
  {
   "cell_type": "markdown",
   "id": "cd252895-4430-4dd2-ae47-7f6a76cd2be6",
   "metadata": {},
   "source": [
    "0.6228 superior al 0.52 de XGBoost y 0.51 de Random Forest"
   ]
  },
  {
   "cell_type": "markdown",
   "id": "7f1a6260-e31f-4e5e-a923-ce67bf31152f",
   "metadata": {},
   "source": [
    "# Evaluación"
   ]
  },
  {
   "cell_type": "code",
   "execution_count": 77,
   "id": "7dd9d7e6-2789-459e-b9dd-593e10847fc4",
   "metadata": {},
   "outputs": [
    {
     "data": {
      "text/plain": [
       "<function matplotlib.pyplot.show(close=None, block=None)>"
      ]
     },
     "execution_count": 77,
     "metadata": {},
     "output_type": "execute_result"
    },
    {
     "data": {
      "image/png": "[encoded data removed]",
      "text/plain": [
       "<Figure size 360x360 with 1 Axes>"
      ]
     },
     "metadata": {},
     "output_type": "display_data"
    }
   ],
   "source": [
    "import seaborn as sns\n",
    "import matplotlib.pyplot as plt\n",
    "\n",
    "sns.set(color_codes=True)\n",
    "sns.set_style(\"white\")\n",
    "\n",
    "ax = sns.regplot(x=y_test, y=y_pred, scatter_kws={'alpha':0.4})\n",
    "ax.set_xlabel('Experimental pIC50', fontsize='large', fontweight='bold')\n",
    "ax.set_ylabel('Predicted pIC50', fontsize='large', fontweight='bold')\n",
    "ax.set_xlim(0, 12)\n",
    "ax.set_ylim(0, 12)\n",
    "ax.figure.set_size_inches(5, 5)\n",
    "plt.show"
   ]
  }
 ],
 "metadata": {
  "kernelspec": {
   "display_name": "Python 3",
   "language": "python",
   "name": "python3"
  },
  "language_info": {
   "codemirror_mode": {
    "name": "ipython",
    "version": 3
   },
   "file_extension": ".py",
   "mimetype": "text/x-python",
   "name": "python",
   "nbconvert_exporter": "python",
   "pygments_lexer": "ipython3",
   "version": "3.6.2"
  }
 },
 "nbformat": 4,
 "nbformat_minor": 5
}
