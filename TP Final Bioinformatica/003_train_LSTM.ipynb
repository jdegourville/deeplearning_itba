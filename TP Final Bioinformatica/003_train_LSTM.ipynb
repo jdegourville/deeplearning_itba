{
 "cells": [
  {
   "cell_type": "code",
   "execution_count": 40,
   "id": "21bee0a3-79a7-43b2-9ac2-15cad5630e22",
   "metadata": {},
   "outputs": [],
   "source": [
    "import pandas as pd\n",
    "import numpy as np"
   ]
  },
  {
   "cell_type": "markdown",
   "id": "08544474-e883-4105-bcc3-9f3f9f014079",
   "metadata": {},
   "source": [
    "# Modelo Recurrentes con Embeddings a nivel de caracter"
   ]
  },
  {
   "cell_type": "code",
   "execution_count": 41,
   "id": "353a2d75-f0f4-4563-9842-c68d77118161",
   "metadata": {},
   "outputs": [],
   "source": [
    "df = pd.read_csv('data/acetylcholinesterase_02_bioactivity_data_preprocessed.csv')"
   ]
  },
  {
   "cell_type": "code",
   "execution_count": 42,
   "id": "d1554fa5-d9ee-456c-be20-80571e319fc6",
   "metadata": {},
   "outputs": [
    {
     "data": {
      "text/html": [
       "<div>\n",
       "<style scoped>\n",
       "    .dataframe tbody tr th:only-of-type {\n",
       "        vertical-align: middle;\n",
       "    }\n",
       "\n",
       "    .dataframe tbody tr th {\n",
       "        vertical-align: top;\n",
       "    }\n",
       "\n",
       "    .dataframe thead th {\n",
       "        text-align: right;\n",
       "    }\n",
       "</style>\n",
       "<table border=\"1\" class=\"dataframe\">\n",
       "  <thead>\n",
       "    <tr style=\"text-align: right;\">\n",
       "      <th></th>\n",
       "      <th>molecule_chembl_id</th>\n",
       "      <th>canonical_smiles</th>\n",
       "      <th>standard_value</th>\n",
       "      <th>standard_value_norm</th>\n",
       "      <th>pIC50</th>\n",
       "    </tr>\n",
       "  </thead>\n",
       "  <tbody>\n",
       "    <tr>\n",
       "      <th>0</th>\n",
       "      <td>CHEMBL133897</td>\n",
       "      <td>CCOc1nn(-c2cccc(OCc3ccccc3)c2)c(=O)o1</td>\n",
       "      <td>750.0</td>\n",
       "      <td>750.0</td>\n",
       "      <td>6.124939</td>\n",
       "    </tr>\n",
       "    <tr>\n",
       "      <th>1</th>\n",
       "      <td>CHEMBL336398</td>\n",
       "      <td>O=C(N1CCCCC1)n1nc(-c2ccc(Cl)cc2)nc1SCC1CC1</td>\n",
       "      <td>100.0</td>\n",
       "      <td>100.0</td>\n",
       "      <td>7.000000</td>\n",
       "    </tr>\n",
       "    <tr>\n",
       "      <th>2</th>\n",
       "      <td>CHEMBL131588</td>\n",
       "      <td>CN(C(=O)n1nc(-c2ccc(Cl)cc2)nc1SCC(F)(F)F)c1ccccc1</td>\n",
       "      <td>50000.0</td>\n",
       "      <td>50000.0</td>\n",
       "      <td>4.301030</td>\n",
       "    </tr>\n",
       "    <tr>\n",
       "      <th>3</th>\n",
       "      <td>CHEMBL130628</td>\n",
       "      <td>O=C(N1CCCCC1)n1nc(-c2ccc(Cl)cc2)nc1SCC(F)(F)F</td>\n",
       "      <td>300.0</td>\n",
       "      <td>300.0</td>\n",
       "      <td>6.522879</td>\n",
       "    </tr>\n",
       "    <tr>\n",
       "      <th>4</th>\n",
       "      <td>CHEMBL130478</td>\n",
       "      <td>CSc1nc(-c2ccc(OC(F)(F)F)cc2)nn1C(=O)N(C)C</td>\n",
       "      <td>800.0</td>\n",
       "      <td>800.0</td>\n",
       "      <td>6.096910</td>\n",
       "    </tr>\n",
       "  </tbody>\n",
       "</table>\n",
       "</div>"
      ],
      "text/plain": [
       "  molecule_chembl_id                                   canonical_smiles  \\\n",
       "0       CHEMBL133897              CCOc1nn(-c2cccc(OCc3ccccc3)c2)c(=O)o1   \n",
       "1       CHEMBL336398         O=C(N1CCCCC1)n1nc(-c2ccc(Cl)cc2)nc1SCC1CC1   \n",
       "2       CHEMBL131588  CN(C(=O)n1nc(-c2ccc(Cl)cc2)nc1SCC(F)(F)F)c1ccccc1   \n",
       "3       CHEMBL130628      O=C(N1CCCCC1)n1nc(-c2ccc(Cl)cc2)nc1SCC(F)(F)F   \n",
       "4       CHEMBL130478          CSc1nc(-c2ccc(OC(F)(F)F)cc2)nn1C(=O)N(C)C   \n",
       "\n",
       "   standard_value  standard_value_norm     pIC50  \n",
       "0           750.0                750.0  6.124939  \n",
       "1           100.0                100.0  7.000000  \n",
       "2         50000.0              50000.0  4.301030  \n",
       "3           300.0                300.0  6.522879  \n",
       "4           800.0                800.0  6.096910  "
      ]
     },
     "execution_count": 42,
     "metadata": {},
     "output_type": "execute_result"
    }
   ],
   "source": [
    "df.head()"
   ]
  },
  {
   "cell_type": "markdown",
   "id": "2985df76-23b9-45a8-83ed-ce8ae510219f",
   "metadata": {},
   "source": [
    "# Canonical_smiles To secuence"
   ]
  },
  {
   "cell_type": "code",
   "execution_count": 43,
   "id": "87e524d2-e7e9-4d3b-b1f1-b62254a0bc66",
   "metadata": {},
   "outputs": [],
   "source": [
    "from tensorflow.keras.preprocessing.text import Tokenizer\n",
    "from tensorflow.keras.preprocessing.sequence import pad_sequences"
   ]
  },
  {
   "cell_type": "code",
   "execution_count": 44,
   "id": "40fa0b36",
   "metadata": {},
   "outputs": [],
   "source": [
    "import tensorflow as tf\n",
    "physical_devices = tf.config.list_physical_devices('GPU')\n",
    "\n",
    "tf.config.experimental.set_memory_growth(physical_devices[0], enable=True)"
   ]
  },
  {
   "cell_type": "code",
   "execution_count": 45,
   "id": "aaf439d3",
   "metadata": {},
   "outputs": [
    {
     "name": "stdout",
     "output_type": "stream",
     "text": [
      "[PhysicalDevice(name='/physical_device:GPU:0', device_type='GPU')]\n"
     ]
    }
   ],
   "source": [
    "print(physical_devices)"
   ]
  },
  {
   "cell_type": "markdown",
   "id": "b524afd5-79ed-433d-827b-ac04510ae8ad",
   "metadata": {},
   "source": [
    "Utilizando Tokenizer y pad_sequences de keras a nivel de caracter, obtener la entrada tokenizada. Por ejemplo:\n",
    "\n",
    "**El smiles**:\n",
    "\n",
    "'C[C@@]12CC[C@H]3[C@]4(C)CCC[C@@]5(C)C(=O)OCC[N+](C)(C)CCCCCCCCC[N+](C)(C)CCOC(=O)[C@]6(C)CCC[C@]7(C)[C@@H]6CC[C@@]68C[C@@H](OC(=O)CCCCCCCCC(=O)O[C@@H]1C[C@@]3(CC[C@@H]45)C2)[C@@](C)(CC[C@@H]76)C8.[Br-].[Br-]'\n",
    "\n",
    "**Tendría que quedar algo asi (puede que no sea exacto):**\n",
    "\n",
    "array([ 2, 11,  2, 13, 13, 12,  5,  7,  2,  2, 11,  2, 13, 16, 12, 10, 11,\n",
    "        2, 13, 12, 15,  3,  2,  4,  2,  2,  2, 11,  2, 13, 13, 12, 23,  3,\n",
    "        2,  4,  2,  3,  9,  6,  4,  6,  2,  2, 11,  8, 21, 12,  3,  2,  4,\n",
    "        3,  2,  4,  2,  2,  2,  2,  2,  2,  2,  2,  2, 11,  8, 21, 12,  3,\n",
    "        2,  4,  3,  2,  4,  2,  2,  6,  2,  3,  9,  6,  4, 11,  2, 13, 12,\n",
    "       30,  3,  2,  4,  2,  2,  2, 11,  2, 13, 12, 35,  3,  2,  4, 11,  2,\n",
    "       13, 13, 16, 12, 30,  2,  2, 11,  2, 13, 13, 12, 30, 36,  2, 11,  2,\n",
    "       13, 13, 16, 12,  3,  6,  2,  3,  9,  6,  4,  2,  2,  2,  2,  2,  2,\n",
    "        2,  2,  2,  3,  9,  6,  4,  6, 11,  2, 13, 13, 16, 12,  5,  2, 11,\n",
    "        2, 13, 13, 12, 10,  3,  2,  2, 11,  2, 13, 13, 16, 12, 15, 23,  4,\n",
    "        2,  7,  4, 11,  2, 13, 13, 12,  3,  2,  4,  3,  2,  2, 11,  2, 13,\n",
    "       13, 16, 12, 35, 30,  4,  2, 36, 20, 11, 25, 26, 17, 12, 20, 11, 25,\n",
    "       26, 17, 12], dtype=int32)\n",
    "       \n",
    "\n",
    "**Otro ejemplo:**\n",
    "smiles: 'NC(=O)O'\n",
    "\n",
    "array([0, 0, 0, 0, 0, 0, 0, 0, 0, 0, 0, 0, 0, 0, 0, 0, 0, 0, 0, 0, 0, 0,\n",
    "       0, 0, 0, 0, 0, 0, 0, 0, 0, 0, 0, 0, 0, 0, 0, 0, 0, 0, 0, 0, 0, 0,\n",
    "       0, 0, 0, 0, 0, 0, 0, 0, 0, 0, 0, 0, 0, 0, 0, 0, 0, 0, 0, 0, 0, 0,\n",
    "       0, 0, 0, 0, 0, 0, 0, 0, 0, 0, 0, 0, 0, 0, 0, 0, 0, 0, 0, 0, 0, 0,\n",
    "       0, 0, 0, 0, 0, 0, 0, 0, 0, 0, 0, 0, 0, 0, 0, 0, 0, 0, 0, 0, 0, 0,\n",
    "       0, 0, 0, 0, 0, 0, 0, 0, 0, 0, 0, 0, 0, 0, 0, 0, 0, 0, 0, 0, 0, 0,\n",
    "       0, 0, 0, 0, 0, 0, 0, 0, 0, 0, 0, 0, 0, 0, 0, 0, 0, 0, 0, 0, 0, 0,\n",
    "       0, 0, 0, 0, 0, 0, 0, 0, 0, 0, 0, 0, 0, 0, 0, 0, 0, 0, 0, 0, 0, 0,\n",
    "       0, 0, 0, 0, 0, 0, 0, 0, 0, 0, 0, 0, 0, 0, 0, 0, 0, 0, 0, 0, 0, 0,\n",
    "       0, 0, 8, 2, 3, 9, 6, 4, 6], dtype=int32)\n",
    "\n",
    "**Tener en cuenta:**\n",
    "\n",
    "- Ver cuanta es la máxima longitud para agregar el padding correspondiente\n",
    "- En el ejemplo se agrego padding a la izquierda"
   ]
  },
  {
   "cell_type": "code",
   "execution_count": 46,
   "id": "07f8fff5-c1f6-48d6-9e19-ee5defde20b1",
   "metadata": {},
   "outputs": [],
   "source": [
    "max_len_idx = df['canonical_smiles'].apply(len).argmax()\n",
    "min_len_idx = df['canonical_smiles'].apply(len).argmin()"
   ]
  },
  {
   "cell_type": "code",
   "execution_count": 47,
   "id": "703325ab-0193-4bf5-9b66-a880d7bc346b",
   "metadata": {},
   "outputs": [],
   "source": [
    "X = df['canonical_smiles']\n",
    "y = df['pIC50']"
   ]
  },
  {
   "cell_type": "code",
   "execution_count": 48,
   "id": "18bb3aec",
   "metadata": {},
   "outputs": [
    {
     "name": "stdout",
     "output_type": "stream",
     "text": [
      "2929\n",
      "595\n"
     ]
    }
   ],
   "source": [
    "print(max_len_idx)\n",
    "print(min_len_idx)"
   ]
  },
  {
   "cell_type": "code",
   "execution_count": 49,
   "id": "8efac7a8",
   "metadata": {},
   "outputs": [
    {
     "name": "stdout",
     "output_type": "stream",
     "text": [
      "7\n",
      "207\n"
     ]
    }
   ],
   "source": [
    "print(len(X[min_len_idx]))\n",
    "print(len(X[max_len_idx]))"
   ]
  },
  {
   "cell_type": "code",
   "execution_count": 50,
   "id": "1c520a16",
   "metadata": {},
   "outputs": [
    {
     "data": {
      "text/plain": [
       "'NC(=O)O'"
      ]
     },
     "execution_count": 50,
     "metadata": {},
     "output_type": "execute_result"
    }
   ],
   "source": [
    "X[min_len_idx]"
   ]
  },
  {
   "cell_type": "code",
   "execution_count": 51,
   "id": "4c1cafaf",
   "metadata": {},
   "outputs": [
    {
     "data": {
      "text/plain": [
       "0                   CCOc1nn(-c2cccc(OCc3ccccc3)c2)c(=O)o1\n",
       "1              O=C(N1CCCCC1)n1nc(-c2ccc(Cl)cc2)nc1SCC1CC1\n",
       "2       CN(C(=O)n1nc(-c2ccc(Cl)cc2)nc1SCC(F)(F)F)c1ccccc1\n",
       "3           O=C(N1CCCCC1)n1nc(-c2ccc(Cl)cc2)nc1SCC(F)(F)F\n",
       "4               CSc1nc(-c2ccc(OC(F)(F)F)cc2)nn1C(=O)N(C)C\n",
       "                              ...                        \n",
       "5098               CN(C)C(=O)Oc1ccc(C(O)CNC2CCCCC2)cc1.Cl\n",
       "5099     COc1ccc(CCC(=O)Nc2nc(-c3cc4ccccc4oc3=O)cs2)cc1OC\n",
       "5100                COc1ccc(-c2csc(NC(=O)CCN3CCCC3)n2)cc1\n",
       "5101    COc1cc(C2C3=C(CCCC3=O)NC3=C2C(=O)CCC3)ccc1OCc1...\n",
       "5102    O=C1CCCC2=C1C(c1ccc(OCc3cccc(F)c3)c(Br)c1)C1=C...\n",
       "Name: canonical_smiles, Length: 5103, dtype: object"
      ]
     },
     "execution_count": 51,
     "metadata": {},
     "output_type": "execute_result"
    }
   ],
   "source": [
    "X"
   ]
  },
  {
   "cell_type": "code",
   "execution_count": 52,
   "id": "09894d86-4408-469c-b1f9-60f6d7218b5c",
   "metadata": {},
   "outputs": [],
   "source": [
    "# Implementar tokenización y guardar en X_seq_pad el dataset tokenizado\n",
    "\n",
    "t  = Tokenizer(char_level=True, filters='', lower=False)\n",
    "t.fit_on_texts(X)\n"
   ]
  },
  {
   "cell_type": "code",
   "execution_count": 53,
   "id": "bcf0de0b",
   "metadata": {},
   "outputs": [
    {
     "data": {
      "text/plain": [
       "array([[ 0,  0,  0, ...,  4, 24,  5],\n",
       "       [ 0,  0,  0, ...,  2,  2,  5],\n",
       "       [ 0,  0,  0, ...,  1,  1,  5],\n",
       "       ...,\n",
       "       [ 0,  0,  0, ...,  1,  1,  5],\n",
       "       [ 0,  0,  0, ...,  1,  1,  5],\n",
       "       [ 0,  0,  0, ...,  4,  8,  7]])"
      ]
     },
     "execution_count": 53,
     "metadata": {},
     "output_type": "execute_result"
    }
   ],
   "source": [
    "X_seq_pad = pad_sequences( t.texts_to_sequences(X))\n",
    "\n",
    "X_seq_pad"
   ]
  },
  {
   "cell_type": "code",
   "execution_count": 54,
   "id": "4f1e46a2",
   "metadata": {},
   "outputs": [
    {
     "data": {
      "text/plain": [
       "207"
      ]
     },
     "execution_count": 54,
     "metadata": {},
     "output_type": "execute_result"
    }
   ],
   "source": [
    "len(X_seq_pad[1])"
   ]
  },
  {
   "cell_type": "code",
   "execution_count": 55,
   "id": "be4f4cee",
   "metadata": {},
   "outputs": [
    {
     "data": {
      "text/plain": [
       "(5103, 207)"
      ]
     },
     "execution_count": 55,
     "metadata": {},
     "output_type": "execute_result"
    }
   ],
   "source": [
    "# verifico shape si longitud coincide con la del vector del indice mayor X[max_len_idx]\n",
    "# y cantidad de filas con las del df original\n",
    "X_seq_pad.shape"
   ]
  },
  {
   "cell_type": "markdown",
   "id": "4233710d-9274-4dae-b22d-cf42b57ad862",
   "metadata": {},
   "source": [
    "# Split"
   ]
  },
  {
   "cell_type": "code",
   "execution_count": 56,
   "id": "ce7a95e6-2486-42fb-97fb-865e3fd6a561",
   "metadata": {},
   "outputs": [],
   "source": [
    "from sklearn.model_selection import train_test_split"
   ]
  },
  {
   "cell_type": "code",
   "execution_count": 57,
   "id": "fcb9840f-2f41-45be-99a5-f05f3ab73ed8",
   "metadata": {},
   "outputs": [],
   "source": [
    "X_train, X_test, y_train, y_test = train_test_split(X_seq_pad, y, test_size=0.2, random_state=42)"
   ]
  },
  {
   "cell_type": "code",
   "execution_count": 58,
   "id": "4ad17134-3e15-42d1-b8c9-0c793169e145",
   "metadata": {},
   "outputs": [
    {
     "data": {
      "text/plain": [
       "(4082, 4082, 1021)"
      ]
     },
     "execution_count": 58,
     "metadata": {},
     "output_type": "execute_result"
    }
   ],
   "source": [
    "len(X_train), len(y_train), len(X_test)"
   ]
  },
  {
   "cell_type": "markdown",
   "id": "85941430-2534-4d7d-ba52-d934a31c1bf6",
   "metadata": {},
   "source": [
    "# Network Model"
   ]
  },
  {
   "cell_type": "code",
   "execution_count": 59,
   "id": "6bd5d1bf-4640-4cbc-acd3-72881ddcc07e",
   "metadata": {},
   "outputs": [],
   "source": [
    "from tensorflow.keras import Sequential\n",
    "from tensorflow.keras.layers import LSTM, Dense, Embedding, Bidirectional, Dropout, Activation, BatchNormalization\n",
    "from tensorflow.keras.callbacks import ModelCheckpoint\n",
    "from tensorflow.keras.optimizers import Adam, RMSprop\n",
    "from tensorflow.keras import backend as K"
   ]
  },
  {
   "cell_type": "code",
   "execution_count": 60,
   "id": "4bf115a2-9f1b-42b8-9b62-59728f1da977",
   "metadata": {},
   "outputs": [],
   "source": [
    "# Métrica\n",
    "\n",
    "def R2(y_true, y_pred):\n",
    "    SS_res =  K.sum(K.square( y_true-y_pred ))\n",
    "    SS_tot = K.sum(K.square( y_true - K.mean(y_true) ) )\n",
    "    return ( 1 - SS_res/(SS_tot + K.epsilon()) )"
   ]
  },
  {
   "cell_type": "code",
   "execution_count": 61,
   "id": "4e442387",
   "metadata": {},
   "outputs": [
    {
     "data": {
      "text/plain": [
       "{'c': 1,\n",
       " 'C': 2,\n",
       " '(': 3,\n",
       " ')': 4,\n",
       " '1': 5,\n",
       " 'O': 6,\n",
       " '2': 7,\n",
       " 'N': 8,\n",
       " '=': 9,\n",
       " '3': 10,\n",
       " '[': 11,\n",
       " ']': 12,\n",
       " '@': 13,\n",
       " 'n': 14,\n",
       " '4': 15,\n",
       " 'H': 16,\n",
       " '-': 17,\n",
       " '/': 18,\n",
       " 'l': 19,\n",
       " '.': 20,\n",
       " '+': 21,\n",
       " 'F': 22,\n",
       " '5': 23,\n",
       " 'o': 24,\n",
       " 'B': 25,\n",
       " 'r': 26,\n",
       " 'S': 27,\n",
       " '\\\\': 28,\n",
       " '#': 29,\n",
       " '6': 30,\n",
       " 's': 31,\n",
       " 'I': 32,\n",
       " 'e': 33,\n",
       " 'P': 34,\n",
       " '7': 35,\n",
       " '8': 36,\n",
       " 'i': 37,\n",
       " 'a': 38}"
      ]
     },
     "execution_count": 61,
     "metadata": {},
     "output_type": "execute_result"
    }
   ],
   "source": [
    "t.word_index"
   ]
  },
  {
   "cell_type": "code",
   "execution_count": 62,
   "id": "f44541e2",
   "metadata": {},
   "outputs": [
    {
     "data": {
      "text/plain": [
       "38"
      ]
     },
     "execution_count": 62,
     "metadata": {},
     "output_type": "execute_result"
    }
   ],
   "source": [
    "len(t.word_index)"
   ]
  },
  {
   "cell_type": "code",
   "execution_count": 63,
   "id": "92d30b68-3110-459c-887d-a06f056d067b",
   "metadata": {},
   "outputs": [
    {
     "data": {
      "text/plain": [
       "38"
      ]
     },
     "execution_count": 63,
     "metadata": {},
     "output_type": "execute_result"
    }
   ],
   "source": [
    "# vocab_size = # Completar largo del vocabulario\n",
    "vocab_size = len(t.word_index)\n",
    "vocab_size"
   ]
  },
  {
   "cell_type": "code",
   "execution_count": 64,
   "id": "6166a72b-ccd1-459c-a3a1-fa43bf31a369",
   "metadata": {},
   "outputs": [
    {
     "data": {
      "text/plain": [
       "207"
      ]
     },
     "execution_count": 64,
     "metadata": {},
     "output_type": "execute_result"
    }
   ],
   "source": [
    "max_sequence_len = len(X[max_len_idx])\n",
    "max_sequence_len"
   ]
  },
  {
   "cell_type": "markdown",
   "id": "cc91cd42-b885-4ab5-b348-57296b0c0d10",
   "metadata": {},
   "source": [
    "# Armar modelo en keras de LSTM\n",
    "El de abajo es un ejemplo propuesto pero puede armar otro similar (siempre con LSTM o GRU)"
   ]
  },
  {
   "cell_type": "raw",
   "id": "9883ed67-e2d9-412a-8f8b-1e463df69ed8",
   "metadata": {},
   "source": [
    "Model: \"sequential\"\n",
    "_________________________________________________________________\n",
    "Layer (type)                 Output Shape              Param #   \n",
    "=================================================================\n",
    "embedding (Embedding)        (None, 207, 64)           2496      \n",
    "_________________________________________________________________\n",
    "bidirectional (Bidirectional (None, 200)               132000    \n",
    "_________________________________________________________________\n",
    "dense (Dense)                (None, 50)                10050     \n",
    "_________________________________________________________________\n",
    "batch_normalization (BatchNo (None, 50)                200       \n",
    "_________________________________________________________________\n",
    "activation (Activation)      (None, 50)                0         \n",
    "_________________________________________________________________\n",
    "dense_1 (Dense)              (None, 1)                 51        \n",
    "=================================================================\n",
    "Total params: 144,797\n",
    "Trainable params: 144,697\n",
    "Non-trainable params: 100\n",
    "_________________________________________________________________"
   ]
  },
  {
   "cell_type": "code",
   "execution_count": 65,
   "id": "d05209e0-5358-40c0-b806-2e98367e9f1c",
   "metadata": {},
   "outputs": [],
   "source": [
    "model = Sequential()\n",
    "\n",
    "# Implementar modelo completo\n",
    "\n",
    "model.add(Embedding(input_dim = vocab_size + 1, output_dim= 64, input_length=max_sequence_len))\n",
    "model.add(Bidirectional(LSTM(100, return_sequences=False, activation='tanh')))\n",
    "model.add(Dense(50))\n",
    "model.add(BatchNormalization())\n",
    "model.add(Activation('relu'))\n",
    "model.add(Dense(1))"
   ]
  },
  {
   "cell_type": "code",
   "execution_count": 66,
   "id": "237c1327-028f-4f70-bd29-ea94cd999686",
   "metadata": {},
   "outputs": [
    {
     "name": "stdout",
     "output_type": "stream",
     "text": [
      "Model: \"sequential_1\"\n",
      "_________________________________________________________________\n",
      "Layer (type)                 Output Shape              Param #   \n",
      "=================================================================\n",
      "embedding_1 (Embedding)      (None, 207, 64)           2496      \n",
      "_________________________________________________________________\n",
      "bidirectional_1 (Bidirection (None, 200)               132000    \n",
      "_________________________________________________________________\n",
      "dense_2 (Dense)              (None, 50)                10050     \n",
      "_________________________________________________________________\n",
      "batch_normalization_1 (Batch (None, 50)                200       \n",
      "_________________________________________________________________\n",
      "activation_1 (Activation)    (None, 50)                0         \n",
      "_________________________________________________________________\n",
      "dense_3 (Dense)              (None, 1)                 51        \n",
      "=================================================================\n",
      "Total params: 144,797\n",
      "Trainable params: 144,697\n",
      "Non-trainable params: 100\n",
      "_________________________________________________________________\n"
     ]
    }
   ],
   "source": [
    "model.summary()"
   ]
  },
  {
   "cell_type": "code",
   "execution_count": 67,
   "id": "9138b411-fc5d-41bd-8c8e-c12580cc5b14",
   "metadata": {},
   "outputs": [],
   "source": [
    "model.compile(optimizer=RMSprop(learning_rate=0.001), loss='mse', metrics=[R2])"
   ]
  },
  {
   "cell_type": "code",
   "execution_count": 68,
   "id": "62c3f792-f413-4150-8ebf-1f59c5fb986d",
   "metadata": {},
   "outputs": [],
   "source": [
    "mcp = ModelCheckpoint('models/best_model_{epoch}', save_best_only=True, save_format=\"h5\")"
   ]
  },
  {
   "cell_type": "code",
   "execution_count": 69,
   "id": "3f37ab4e-0e3a-44c6-a572-ba5c67930c61",
   "metadata": {},
   "outputs": [
    {
     "name": "stdout",
     "output_type": "stream",
     "text": [
      "Epoch 1/100\n",
      "32/32 [==============================] - 8s 88ms/step - loss: 19.0726 - R2: -6.1777 - val_loss: 22.9065 - val_R2: -7.3015\n",
      "Epoch 2/100\n",
      "32/32 [==============================] - 2s 54ms/step - loss: 11.5385 - R2: -3.3448 - val_loss: 19.7465 - val_R2: -6.1519\n",
      "Epoch 3/100\n",
      "32/32 [==============================] - 2s 54ms/step - loss: 7.5459 - R2: -1.7908 - val_loss: 10.9267 - val_R2: -2.9420\n",
      "Epoch 4/100\n",
      "32/32 [==============================] - 2s 55ms/step - loss: 4.6609 - R2: -0.7167 - val_loss: 10.3862 - val_R2: -2.7312\n",
      "Epoch 5/100\n",
      "32/32 [==============================] - 2s 53ms/step - loss: 3.0139 - R2: -0.0988 - val_loss: 9.0513 - val_R2: -2.2410\n",
      "Epoch 6/100\n",
      "32/32 [==============================] - 2s 55ms/step - loss: 2.6509 - R2: 0.0356 - val_loss: 8.4814 - val_R2: -2.0381\n",
      "Epoch 7/100\n",
      "32/32 [==============================] - 2s 54ms/step - loss: 2.2698 - R2: 0.1821 - val_loss: 5.4787 - val_R2: -0.9538\n",
      "Epoch 8/100\n",
      "32/32 [==============================] - 2s 54ms/step - loss: 2.2536 - R2: 0.1733 - val_loss: 4.4474 - val_R2: -0.5809\n",
      "Epoch 9/100\n",
      "32/32 [==============================] - 2s 55ms/step - loss: 2.1149 - R2: 0.2331 - val_loss: 4.2761 - val_R2: -0.5154\n",
      "Epoch 10/100\n",
      "32/32 [==============================] - 2s 56ms/step - loss: 2.0501 - R2: 0.2521 - val_loss: 4.3725 - val_R2: -0.5492\n",
      "Epoch 11/100\n",
      "32/32 [==============================] - 2s 55ms/step - loss: 1.9852 - R2: 0.2739 - val_loss: 2.9418 - val_R2: -0.0512\n",
      "Epoch 12/100\n",
      "32/32 [==============================] - 2s 54ms/step - loss: 1.9771 - R2: 0.2796 - val_loss: 47.2848 - val_R2: -16.1996\n",
      "Epoch 13/100\n",
      "32/32 [==============================] - 2s 54ms/step - loss: 1.9245 - R2: 0.3020 - val_loss: 4.0757 - val_R2: -0.4411\n",
      "Epoch 14/100\n",
      "32/32 [==============================] - 2s 55ms/step - loss: 1.8461 - R2: 0.3298 - val_loss: 3.5863 - val_R2: -0.2720\n",
      "Epoch 15/100\n",
      "32/32 [==============================] - 2s 54ms/step - loss: 1.7848 - R2: 0.3502 - val_loss: 2.4214 - val_R2: 0.1483\n",
      "Epoch 16/100\n",
      "32/32 [==============================] - 2s 55ms/step - loss: 1.7880 - R2: 0.3492 - val_loss: 31.6779 - val_R2: -10.5514\n",
      "Epoch 17/100\n",
      "32/32 [==============================] - 2s 54ms/step - loss: 1.7546 - R2: 0.3594 - val_loss: 3.3038 - val_R2: -0.1879\n",
      "Epoch 18/100\n",
      "32/32 [==============================] - 2s 55ms/step - loss: 1.7490 - R2: 0.3578 - val_loss: 2.3384 - val_R2: 0.1632\n",
      "Epoch 19/100\n",
      "32/32 [==============================] - 2s 54ms/step - loss: 1.7836 - R2: 0.3466 - val_loss: 5.9531 - val_R2: -1.1372\n",
      "Epoch 20/100\n",
      "32/32 [==============================] - 2s 56ms/step - loss: 1.6360 - R2: 0.3917 - val_loss: 2.4251 - val_R2: 0.1263\n",
      "Epoch 21/100\n",
      "32/32 [==============================] - 2s 54ms/step - loss: 1.6442 - R2: 0.3911 - val_loss: 4.2454 - val_R2: -0.5239\n",
      "Epoch 22/100\n",
      "32/32 [==============================] - 2s 55ms/step - loss: 1.6020 - R2: 0.4179 - val_loss: 10.5056 - val_R2: -2.7897\n",
      "Epoch 23/100\n",
      "32/32 [==============================] - 2s 54ms/step - loss: 1.6055 - R2: 0.4086 - val_loss: 3.4442 - val_R2: -0.2364\n",
      "Epoch 24/100\n",
      "32/32 [==============================] - 2s 55ms/step - loss: 1.5577 - R2: 0.4271 - val_loss: 3.5741 - val_R2: -0.3027\n",
      "Epoch 25/100\n",
      "32/32 [==============================] - 2s 54ms/step - loss: 1.5118 - R2: 0.4448 - val_loss: 8.0932 - val_R2: -1.9631\n",
      "Epoch 26/100\n",
      "32/32 [==============================] - 2s 54ms/step - loss: 1.5025 - R2: 0.4497 - val_loss: 4.1702 - val_R2: -0.5197\n",
      "Epoch 27/100\n",
      "32/32 [==============================] - 2s 55ms/step - loss: 1.4544 - R2: 0.4678 - val_loss: 4.2271 - val_R2: -0.5447\n",
      "Epoch 28/100\n",
      "32/32 [==============================] - 2s 55ms/step - loss: 1.4631 - R2: 0.4585 - val_loss: 1.7184 - val_R2: 0.3790\n",
      "Epoch 29/100\n",
      "32/32 [==============================] - 2s 55ms/step - loss: 1.4133 - R2: 0.4806 - val_loss: 23.9921 - val_R2: -7.6668\n",
      "Epoch 30/100\n",
      "32/32 [==============================] - 2s 54ms/step - loss: 1.3885 - R2: 0.4875 - val_loss: 18.0607 - val_R2: -5.5343\n",
      "Epoch 31/100\n",
      "32/32 [==============================] - 2s 55ms/step - loss: 1.3558 - R2: 0.4924 - val_loss: 5.6915 - val_R2: -1.0519\n",
      "Epoch 32/100\n",
      "32/32 [==============================] - 2s 55ms/step - loss: 1.3281 - R2: 0.5129 - val_loss: 5.8419 - val_R2: -1.1458\n",
      "Epoch 33/100\n",
      "32/32 [==============================] - 2s 54ms/step - loss: 1.2964 - R2: 0.5227 - val_loss: 9.6644 - val_R2: -2.5307\n",
      "Epoch 34/100\n",
      "32/32 [==============================] - 2s 55ms/step - loss: 1.3062 - R2: 0.5087 - val_loss: 3.6230 - val_R2: -0.3324\n",
      "Epoch 35/100\n",
      "32/32 [==============================] - 2s 54ms/step - loss: 1.2518 - R2: 0.5360 - val_loss: 3.0343 - val_R2: -0.1109\n",
      "Epoch 36/100\n",
      "32/32 [==============================] - 2s 55ms/step - loss: 1.5425 - R2: 0.4238 - val_loss: 6.5378 - val_R2: -1.4007\n",
      "Epoch 37/100\n",
      "32/32 [==============================] - 2s 56ms/step - loss: 1.2254 - R2: 0.5525 - val_loss: 4.5478 - val_R2: -0.6631\n",
      "Epoch 38/100\n",
      "32/32 [==============================] - 2s 54ms/step - loss: 1.2822 - R2: 0.5305 - val_loss: 4.2790 - val_R2: -0.5570\n",
      "Epoch 39/100\n",
      "32/32 [==============================] - 2s 54ms/step - loss: 1.1973 - R2: 0.5571 - val_loss: 2.8650 - val_R2: -0.0340\n",
      "Epoch 40/100\n",
      "32/32 [==============================] - 2s 54ms/step - loss: 1.1658 - R2: 0.5694 - val_loss: 2.1493 - val_R2: 0.2195\n",
      "Epoch 41/100\n",
      "32/32 [==============================] - 2s 55ms/step - loss: 1.1061 - R2: 0.5976 - val_loss: 1.3973 - val_R2: 0.4865\n",
      "Epoch 42/100\n",
      "32/32 [==============================] - 2s 54ms/step - loss: 1.0853 - R2: 0.5980 - val_loss: 6.3697 - val_R2: -1.3271\n",
      "Epoch 43/100\n",
      "32/32 [==============================] - 2s 54ms/step - loss: 1.0776 - R2: 0.5979 - val_loss: 3.8441 - val_R2: -0.4149\n",
      "Epoch 44/100\n",
      "32/32 [==============================] - 2s 55ms/step - loss: 1.0533 - R2: 0.6164 - val_loss: 2.8454 - val_R2: -0.0451\n",
      "Epoch 45/100\n",
      "32/32 [==============================] - 2s 54ms/step - loss: 1.0374 - R2: 0.6174 - val_loss: 3.7512 - val_R2: -0.3758\n",
      "Epoch 46/100\n",
      "32/32 [==============================] - 2s 55ms/step - loss: 1.0162 - R2: 0.6265 - val_loss: 2.3818 - val_R2: 0.1191\n",
      "Epoch 47/100\n",
      "32/32 [==============================] - 2s 54ms/step - loss: 0.9996 - R2: 0.6301 - val_loss: 1.5823 - val_R2: 0.4163\n",
      "Epoch 48/100\n",
      "32/32 [==============================] - 2s 55ms/step - loss: 0.9913 - R2: 0.6334 - val_loss: 4.2135 - val_R2: -0.5460\n",
      "Epoch 49/100\n",
      "32/32 [==============================] - 2s 54ms/step - loss: 0.9317 - R2: 0.6553 - val_loss: 10.6886 - val_R2: -2.8996\n",
      "Epoch 50/100\n",
      "32/32 [==============================] - 2s 56ms/step - loss: 0.9897 - R2: 0.6278 - val_loss: 2.5349 - val_R2: 0.0724\n",
      "Epoch 51/100\n",
      "32/32 [==============================] - 2s 53ms/step - loss: 0.9538 - R2: 0.6397 - val_loss: 1.7598 - val_R2: 0.3677\n",
      "Epoch 52/100\n",
      "32/32 [==============================] - 2s 54ms/step - loss: 0.9179 - R2: 0.6597 - val_loss: 1.5210 - val_R2: 0.4385\n",
      "Epoch 53/100\n",
      "32/32 [==============================] - 2s 55ms/step - loss: 0.8721 - R2: 0.6814 - val_loss: 1.4167 - val_R2: 0.4802\n",
      "Epoch 54/100\n",
      "32/32 [==============================] - 2s 55ms/step - loss: 0.8842 - R2: 0.6679 - val_loss: 1.3851 - val_R2: 0.4885\n",
      "Epoch 55/100\n",
      "32/32 [==============================] - 2s 56ms/step - loss: 0.8479 - R2: 0.6870 - val_loss: 2.2831 - val_R2: 0.1654\n",
      "Epoch 56/100\n",
      "32/32 [==============================] - 2s 54ms/step - loss: 0.7898 - R2: 0.7034 - val_loss: 1.6322 - val_R2: 0.3981\n",
      "Epoch 57/100\n",
      "32/32 [==============================] - 2s 55ms/step - loss: 0.8013 - R2: 0.7064 - val_loss: 2.3198 - val_R2: 0.1584\n",
      "Epoch 58/100\n",
      "32/32 [==============================] - 2s 55ms/step - loss: 0.7926 - R2: 0.7110 - val_loss: 1.7299 - val_R2: 0.3733\n",
      "Epoch 59/100\n",
      "32/32 [==============================] - 2s 55ms/step - loss: 0.7749 - R2: 0.7154 - val_loss: 9.9957 - val_R2: -2.6500\n",
      "Epoch 60/100\n",
      "32/32 [==============================] - 2s 55ms/step - loss: 0.7546 - R2: 0.7205 - val_loss: 2.7832 - val_R2: -0.0247\n",
      "Epoch 61/100\n",
      "32/32 [==============================] - 2s 54ms/step - loss: 0.7367 - R2: 0.7292 - val_loss: 2.1585 - val_R2: 0.2249\n",
      "Epoch 62/100\n",
      "32/32 [==============================] - 2s 55ms/step - loss: 0.7371 - R2: 0.7304 - val_loss: 1.4130 - val_R2: 0.4863\n",
      "Epoch 63/100\n",
      "32/32 [==============================] - 2s 55ms/step - loss: 0.6966 - R2: 0.7398 - val_loss: 4.1734 - val_R2: -0.5220\n",
      "Epoch 64/100\n",
      "32/32 [==============================] - 2s 57ms/step - loss: 0.6979 - R2: 0.7413 - val_loss: 2.1771 - val_R2: 0.2034\n",
      "Epoch 65/100\n",
      "32/32 [==============================] - 2s 54ms/step - loss: 0.6827 - R2: 0.7477 - val_loss: 1.5436 - val_R2: 0.4437\n",
      "Epoch 66/100\n",
      "32/32 [==============================] - 2s 55ms/step - loss: 0.6608 - R2: 0.7582 - val_loss: 4.3951 - val_R2: -0.5749\n",
      "Epoch 67/100\n",
      "32/32 [==============================] - 2s 55ms/step - loss: 0.7324 - R2: 0.7374 - val_loss: 3.7617 - val_R2: -0.3407\n",
      "Epoch 68/100\n",
      "32/32 [==============================] - 2s 55ms/step - loss: 0.6293 - R2: 0.7699 - val_loss: 1.7825 - val_R2: 0.3588\n",
      "Epoch 69/100\n",
      "32/32 [==============================] - 2s 55ms/step - loss: 0.6387 - R2: 0.7645 - val_loss: 1.5686 - val_R2: 0.4348\n",
      "Epoch 70/100\n",
      "32/32 [==============================] - 2s 55ms/step - loss: 0.6283 - R2: 0.7691 - val_loss: 1.4739 - val_R2: 0.4687\n",
      "Epoch 71/100\n",
      "32/32 [==============================] - 2s 54ms/step - loss: 0.6349 - R2: 0.7656 - val_loss: 1.4855 - val_R2: 0.4708\n",
      "Epoch 72/100\n",
      "32/32 [==============================] - 2s 54ms/step - loss: 0.6197 - R2: 0.7720 - val_loss: 1.6695 - val_R2: 0.3929\n",
      "Epoch 73/100\n",
      "32/32 [==============================] - 2s 55ms/step - loss: 0.6033 - R2: 0.7779 - val_loss: 7.5512 - val_R2: -1.7246\n",
      "Epoch 74/100\n",
      "32/32 [==============================] - 2s 57ms/step - loss: 0.5952 - R2: 0.7822 - val_loss: 3.9399 - val_R2: -0.4186\n",
      "Epoch 75/100\n",
      "32/32 [==============================] - 2s 54ms/step - loss: 0.5634 - R2: 0.7917 - val_loss: 4.4014 - val_R2: -0.5737\n",
      "Epoch 76/100\n",
      "32/32 [==============================] - 2s 55ms/step - loss: 0.5651 - R2: 0.7904 - val_loss: 4.7439 - val_R2: -0.7079\n",
      "Epoch 77/100\n",
      "32/32 [==============================] - 2s 54ms/step - loss: 0.5652 - R2: 0.7941 - val_loss: 1.5584 - val_R2: 0.4375\n",
      "Epoch 78/100\n",
      "32/32 [==============================] - 2s 55ms/step - loss: 0.5569 - R2: 0.7935 - val_loss: 2.2723 - val_R2: 0.1907\n",
      "Epoch 79/100\n",
      "32/32 [==============================] - 2s 58ms/step - loss: 0.5347 - R2: 0.8057 - val_loss: 1.3176 - val_R2: 0.5275\n",
      "Epoch 80/100\n",
      "32/32 [==============================] - 2s 54ms/step - loss: 0.5328 - R2: 0.8024 - val_loss: 2.3435 - val_R2: 0.1419\n",
      "Epoch 81/100\n",
      "32/32 [==============================] - 2s 55ms/step - loss: 0.5162 - R2: 0.8058 - val_loss: 4.5238 - val_R2: -0.6531\n",
      "Epoch 82/100\n",
      "32/32 [==============================] - 2s 55ms/step - loss: 0.5144 - R2: 0.8086 - val_loss: 5.3388 - val_R2: -0.9469\n",
      "Epoch 83/100\n",
      "32/32 [==============================] - 2s 54ms/step - loss: 0.5067 - R2: 0.8129 - val_loss: 2.5136 - val_R2: 0.0818\n",
      "Epoch 84/100\n",
      "32/32 [==============================] - 2s 56ms/step - loss: 0.4794 - R2: 0.8246 - val_loss: 1.6114 - val_R2: 0.4141\n",
      "Epoch 85/100\n",
      "32/32 [==============================] - 2s 55ms/step - loss: 0.4696 - R2: 0.8265 - val_loss: 1.5822 - val_R2: 0.4270\n",
      "Epoch 86/100\n",
      "32/32 [==============================] - 2s 54ms/step - loss: 0.4781 - R2: 0.8237 - val_loss: 1.2535 - val_R2: 0.5447\n",
      "Epoch 87/100\n",
      "32/32 [==============================] - 2s 55ms/step - loss: 0.4820 - R2: 0.8250 - val_loss: 1.4770 - val_R2: 0.4627\n",
      "Epoch 88/100\n",
      "32/32 [==============================] - 2s 55ms/step - loss: 0.4796 - R2: 0.8233 - val_loss: 1.2833 - val_R2: 0.5328\n",
      "Epoch 89/100\n",
      "32/32 [==============================] - 2s 54ms/step - loss: 0.4535 - R2: 0.8327 - val_loss: 1.2428 - val_R2: 0.5513\n",
      "Epoch 90/100\n",
      "32/32 [==============================] - 2s 56ms/step - loss: 0.4611 - R2: 0.8270 - val_loss: 1.2581 - val_R2: 0.5475\n",
      "Epoch 91/100\n",
      "32/32 [==============================] - 2s 54ms/step - loss: 0.4231 - R2: 0.8439 - val_loss: 1.1650 - val_R2: 0.5833\n",
      "Epoch 92/100\n",
      "32/32 [==============================] - 2s 55ms/step - loss: 0.4340 - R2: 0.8405 - val_loss: 1.2665 - val_R2: 0.5478\n",
      "Epoch 93/100\n",
      "32/32 [==============================] - 2s 55ms/step - loss: 0.4342 - R2: 0.8426 - val_loss: 1.2746 - val_R2: 0.5402\n",
      "Epoch 94/100\n",
      "32/32 [==============================] - 2s 55ms/step - loss: 0.4371 - R2: 0.8403 - val_loss: 2.5117 - val_R2: 0.0890\n",
      "Epoch 95/100\n",
      "32/32 [==============================] - 2s 56ms/step - loss: 0.4318 - R2: 0.8409 - val_loss: 2.6096 - val_R2: 0.0569\n",
      "Epoch 96/100\n",
      "32/32 [==============================] - 2s 54ms/step - loss: 0.4131 - R2: 0.8501 - val_loss: 1.7629 - val_R2: 0.3560\n",
      "Epoch 97/100\n",
      "32/32 [==============================] - 2s 55ms/step - loss: 0.4287 - R2: 0.8393 - val_loss: 1.4124 - val_R2: 0.4852\n",
      "Epoch 98/100\n",
      "32/32 [==============================] - 2s 55ms/step - loss: 0.4096 - R2: 0.8474 - val_loss: 1.3879 - val_R2: 0.4941\n",
      "Epoch 99/100\n",
      "32/32 [==============================] - ETA: 0s - loss: 0.3963 - R2: 0.85 - 2s 56ms/step - loss: 0.3960 - R2: 0.8548 - val_loss: 1.2233 - val_R2: 0.5542\n",
      "Epoch 100/100\n",
      "32/32 [==============================] - 2s 53ms/step - loss: 0.4110 - R2: 0.8474 - val_loss: 1.1176 - val_R2: 0.5979\n"
     ]
    }
   ],
   "source": [
    "history = model.fit(X_train, y_train, epochs=100, batch_size=128, validation_data=(X_test, y_test), callbacks=[])"
   ]
  },
  {
   "cell_type": "code",
   "execution_count": 70,
   "id": "0084fbb1-e83e-4808-99bf-1458f3ea3076",
   "metadata": {},
   "outputs": [],
   "source": [
    "y_pred = model.predict(X_test)"
   ]
  },
  {
   "cell_type": "markdown",
   "id": "382979a3-f299-4762-8b6d-10a6ea4d3c70",
   "metadata": {},
   "source": [
    "# Score"
   ]
  },
  {
   "cell_type": "code",
   "execution_count": 71,
   "id": "f9fd5d60-841f-46c3-94b6-5755b4d548cd",
   "metadata": {},
   "outputs": [],
   "source": [
    "from sklearn.metrics import r2_score\n",
    "r2 = r2_score(y_test, y_pred)\n",
    "# r2 = 1 - ((y_test.values - y_pred.reshape(-1)) ** 2).sum() / ((y_test - y_test.mean()) ** 2).sum()"
   ]
  },
  {
   "cell_type": "code",
   "execution_count": 72,
   "id": "4d2bfabe-2e3e-40cf-a1e8-2d458ee7f328",
   "metadata": {},
   "outputs": [
    {
     "data": {
      "text/plain": [
       "0.6128032050000516"
      ]
     },
     "execution_count": 72,
     "metadata": {},
     "output_type": "execute_result"
    }
   ],
   "source": [
    "r2\n",
    "# 0.4984533246797399"
   ]
  },
  {
   "cell_type": "code",
   "execution_count": 73,
   "id": "85262541-e04a-4ff2-b3e6-a47643db66f6",
   "metadata": {},
   "outputs": [],
   "source": [
    "model.save('models/embed_64_bi_lstm_100_dense_50_bn.h5', )"
   ]
  },
  {
   "cell_type": "markdown",
   "id": "5f683e18-c876-4f7c-93ea-a33d495dcdaa",
   "metadata": {},
   "source": [
    "# Load model (solo si se grabo el modelo)"
   ]
  },
  {
   "cell_type": "code",
   "execution_count": 74,
   "id": "285c8740-f0bb-4237-8593-ff9b815de0e3",
   "metadata": {},
   "outputs": [],
   "source": [
    "from tensorflow.keras.models import load_model"
   ]
  },
  {
   "cell_type": "code",
   "execution_count": 75,
   "id": "2168984f-770c-436e-92da-c1344b1d3abc",
   "metadata": {},
   "outputs": [],
   "source": [
    "model_loaded = load_model('models/embed_64_bi_lstm_100_dense_50_bn.h5', custom_objects={'R2': R2})"
   ]
  },
  {
   "cell_type": "code",
   "execution_count": 76,
   "id": "13a9d7d8-41e0-44a0-a8b9-02157a11f8f2",
   "metadata": {},
   "outputs": [],
   "source": [
    "y_pred = model_loaded.predict(X_test)"
   ]
  },
  {
   "cell_type": "code",
   "execution_count": 77,
   "id": "26c63493-3f25-4383-9654-58ee62aa3ae5",
   "metadata": {},
   "outputs": [
    {
     "data": {
      "text/plain": [
       "0.6128032050000516"
      ]
     },
     "execution_count": 77,
     "metadata": {},
     "output_type": "execute_result"
    }
   ],
   "source": [
    "# r2 = 1 - ((y_test.values - y_pred.reshape(-1)) ** 2).sum() / ((y_test - y_test.mean()) ** 2).sum()\n",
    "r2 = r2_score(y_test, y_pred)\n",
    "r2"
   ]
  },
  {
   "cell_type": "markdown",
   "id": "c8ab60bf-7b98-4f46-b1dd-b08b5fbf8bed",
   "metadata": {},
   "source": [
    "¿Hasta que valores de r2 logró?"
   ]
  },
  {
   "cell_type": "markdown",
   "id": "cd252895-4430-4dd2-ae47-7f6a76cd2be6",
   "metadata": {},
   "source": [
    "0.6128 superior al 0.52 de XGBoost y 0.51 de Random Forest"
   ]
  },
  {
   "cell_type": "markdown",
   "id": "7f1a6260-e31f-4e5e-a923-ce67bf31152f",
   "metadata": {},
   "source": [
    "# Evaluación"
   ]
  },
  {
   "cell_type": "code",
   "execution_count": 78,
   "id": "7dd9d7e6-2789-459e-b9dd-593e10847fc4",
   "metadata": {},
   "outputs": [
    {
     "data": {
      "text/plain": [
       "<function matplotlib.pyplot.show(close=None, block=None)>"
      ]
     },
     "execution_count": 78,
     "metadata": {},
     "output_type": "execute_result"
    },
    {
     "data": {
      "image/png": "[encoded data removed]",
      "text/plain": [
       "<Figure size 360x360 with 1 Axes>"
      ]
     },
     "metadata": {},
     "output_type": "display_data"
    }
   ],
   "source": [
    "import seaborn as sns\n",
    "import matplotlib.pyplot as plt\n",
    "\n",
    "sns.set(color_codes=True)\n",
    "sns.set_style(\"white\")\n",
    "\n",
    "ax = sns.regplot(x=y_test, y=y_pred, scatter_kws={'alpha':0.4})\n",
    "ax.set_xlabel('Experimental pIC50', fontsize='large', fontweight='bold')\n",
    "ax.set_ylabel('Predicted pIC50', fontsize='large', fontweight='bold')\n",
    "ax.set_xlim(0, 12)\n",
    "ax.set_ylim(0, 12)\n",
    "ax.figure.set_size_inches(5, 5)\n",
    "plt.show"
   ]
  }
 ],
 "metadata": {
  "kernelspec": {
   "display_name": "Python 3",
   "language": "python",
   "name": "python3"
  },
  "language_info": {
   "codemirror_mode": {
    "name": "ipython",
    "version": 3
   },
   "file_extension": ".py",
   "mimetype": "text/x-python",
   "name": "python",
   "nbconvert_exporter": "python",
   "pygments_lexer": "ipython3",
   "version": "3.9.7"
  }
 },
 "nbformat": 4,
 "nbformat_minor": 5
}
