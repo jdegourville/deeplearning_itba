{
 "cells": [
  {
   "cell_type": "code",
   "execution_count": 46,
   "id": "3ac13f6c-a061-4c24-a5fc-081ea6283a62",
   "metadata": {},
   "outputs": [],
   "source": [
    "%load_ext autoreload\n",
    "%autoreload 2"
   ]
  },
  {
   "cell_type": "markdown",
   "id": "9dab7de8-eb23-47d7-a771-28a2397d0a54",
   "metadata": {},
   "source": [
    "# Modelo CNN con generador, embedings de smiles y data-augmentation"
   ]
  },
  {
   "cell_type": "code",
   "execution_count": 47,
   "id": "21bee0a3-79a7-43b2-9ac2-15cad5630e22",
   "metadata": {},
   "outputs": [],
   "source": [
    "import pandas as pd\n",
    "import numpy as np\n",
    "from datagen import smiles_dict, smiles_to_seq"
   ]
  },
  {
   "cell_type": "code",
   "execution_count": 48,
   "id": "b8e10d97",
   "metadata": {},
   "outputs": [
    {
     "name": "stdout",
     "output_type": "stream",
     "text": [
      "[PhysicalDevice(name='/physical_device:GPU:0', device_type='GPU')]\n"
     ]
    }
   ],
   "source": [
    "#seteo uso de gpu\n",
    "import tensorflow as tf\n",
    "\n",
    "physical_devices = tf.config.list_physical_devices('GPU')\n",
    "print(physical_devices)\n"
   ]
  },
  {
   "cell_type": "code",
   "execution_count": 49,
   "id": "08362a2f",
   "metadata": {},
   "outputs": [],
   "source": [
    "\n",
    "tf.config.experimental.set_memory_growth(physical_devices[0], enable=True)"
   ]
  },
  {
   "cell_type": "markdown",
   "id": "20aa799f-b75c-4d23-869b-fea6d041a6e9",
   "metadata": {},
   "source": [
    "### smiles_dict"
   ]
  },
  {
   "cell_type": "code",
   "execution_count": 50,
   "id": "628a3149-eabe-4de3-8404-d86eb6ad3baf",
   "metadata": {},
   "outputs": [
    {
     "data": {
      "text/plain": [
       "42"
      ]
     },
     "execution_count": 50,
     "metadata": {},
     "output_type": "execute_result"
    }
   ],
   "source": [
    "len(smiles_dict)"
   ]
  },
  {
   "cell_type": "markdown",
   "id": "b9c9312c-4232-414c-b0ff-1e6fb6dba1a6",
   "metadata": {},
   "source": [
    "smiles_dict nos da un tokenizador para simplificar el problema. Puede ver como se construyó en la notebook **deep_chem**.\n",
    "Si al momento de correr el modelo con este diccionario encuentra problemas de key_error, puede agregar los faltantes al diccionario\n",
    "\n",
    "Mirar dentro de **datagen.py** como se usa este diccionario con la función **smiles_to_seq** para tokenizar. El código es muy sencillo"
   ]
  },
  {
   "cell_type": "code",
   "execution_count": 51,
   "id": "e29ef48f-4b67-42a4-83af-e7d0bb980c4b",
   "metadata": {},
   "outputs": [
    {
     "name": "stdout",
     "output_type": "stream",
     "text": [
      "{'#': 1, '(': 2, ')': 3, '+': 4, '-': 5, '/': 6, '1': 7, '2': 8, '3': 9, '4': 10, '5': 11, '6': 12, '7': 13, '8': 14, '=': 15, 'C': 16, 'F': 17, 'H': 18, 'I': 19, 'N': 20, 'O': 21, 'P': 22, 'S': 23, '[': 24, '\\\\': 25, ']': 26, '_': 27, 'c': 28, 'Cl': 29, 'Br': 30, 'n': 31, 'o': 32, 's': 33, '@': 34, '.': 35, 'a': 36, 'B': 37, 'e': 38, 'i': 39, '9': 40, '10': 41, '11': 42}\n"
     ]
    }
   ],
   "source": [
    "print(smiles_dict)"
   ]
  },
  {
   "cell_type": "markdown",
   "id": "b103a4e0-038d-406b-aab8-5c9452ede04e",
   "metadata": {},
   "source": [
    "# Carga de los datos"
   ]
  },
  {
   "cell_type": "code",
   "execution_count": 52,
   "id": "353a2d75-f0f4-4563-9842-c68d77118161",
   "metadata": {},
   "outputs": [],
   "source": [
    "df = pd.read_csv('data/acetylcholinesterase_02_bioactivity_data_preprocessed.csv')"
   ]
  },
  {
   "cell_type": "code",
   "execution_count": 53,
   "id": "4e7fcdcb-ad53-4ebf-bc17-a241c79269da",
   "metadata": {},
   "outputs": [],
   "source": [
    "max_len_idx = df['canonical_smiles'].apply(len).argmax()\n",
    "min_len_idx = df['canonical_smiles'].apply(len).argmin()\n",
    "max_sequence_len = len(df['canonical_smiles'].iloc[max_len_idx]) + 20"
   ]
  },
  {
   "cell_type": "code",
   "execution_count": 54,
   "id": "d1554fa5-d9ee-456c-be20-80571e319fc6",
   "metadata": {},
   "outputs": [
    {
     "data": {
      "text/html": [
       "<div>\n",
       "<style scoped>\n",
       "    .dataframe tbody tr th:only-of-type {\n",
       "        vertical-align: middle;\n",
       "    }\n",
       "\n",
       "    .dataframe tbody tr th {\n",
       "        vertical-align: top;\n",
       "    }\n",
       "\n",
       "    .dataframe thead th {\n",
       "        text-align: right;\n",
       "    }\n",
       "</style>\n",
       "<table border=\"1\" class=\"dataframe\">\n",
       "  <thead>\n",
       "    <tr style=\"text-align: right;\">\n",
       "      <th></th>\n",
       "      <th>molecule_chembl_id</th>\n",
       "      <th>canonical_smiles</th>\n",
       "      <th>standard_value</th>\n",
       "      <th>standard_value_norm</th>\n",
       "      <th>pIC50</th>\n",
       "    </tr>\n",
       "  </thead>\n",
       "  <tbody>\n",
       "    <tr>\n",
       "      <th>0</th>\n",
       "      <td>CHEMBL133897</td>\n",
       "      <td>CCOc1nn(-c2cccc(OCc3ccccc3)c2)c(=O)o1</td>\n",
       "      <td>750.0</td>\n",
       "      <td>750.0</td>\n",
       "      <td>6.124939</td>\n",
       "    </tr>\n",
       "    <tr>\n",
       "      <th>1</th>\n",
       "      <td>CHEMBL336398</td>\n",
       "      <td>O=C(N1CCCCC1)n1nc(-c2ccc(Cl)cc2)nc1SCC1CC1</td>\n",
       "      <td>100.0</td>\n",
       "      <td>100.0</td>\n",
       "      <td>7.000000</td>\n",
       "    </tr>\n",
       "    <tr>\n",
       "      <th>2</th>\n",
       "      <td>CHEMBL131588</td>\n",
       "      <td>CN(C(=O)n1nc(-c2ccc(Cl)cc2)nc1SCC(F)(F)F)c1ccccc1</td>\n",
       "      <td>50000.0</td>\n",
       "      <td>50000.0</td>\n",
       "      <td>4.301030</td>\n",
       "    </tr>\n",
       "    <tr>\n",
       "      <th>3</th>\n",
       "      <td>CHEMBL130628</td>\n",
       "      <td>O=C(N1CCCCC1)n1nc(-c2ccc(Cl)cc2)nc1SCC(F)(F)F</td>\n",
       "      <td>300.0</td>\n",
       "      <td>300.0</td>\n",
       "      <td>6.522879</td>\n",
       "    </tr>\n",
       "    <tr>\n",
       "      <th>4</th>\n",
       "      <td>CHEMBL130478</td>\n",
       "      <td>CSc1nc(-c2ccc(OC(F)(F)F)cc2)nn1C(=O)N(C)C</td>\n",
       "      <td>800.0</td>\n",
       "      <td>800.0</td>\n",
       "      <td>6.096910</td>\n",
       "    </tr>\n",
       "  </tbody>\n",
       "</table>\n",
       "</div>"
      ],
      "text/plain": [
       "  molecule_chembl_id                                   canonical_smiles  \\\n",
       "0       CHEMBL133897              CCOc1nn(-c2cccc(OCc3ccccc3)c2)c(=O)o1   \n",
       "1       CHEMBL336398         O=C(N1CCCCC1)n1nc(-c2ccc(Cl)cc2)nc1SCC1CC1   \n",
       "2       CHEMBL131588  CN(C(=O)n1nc(-c2ccc(Cl)cc2)nc1SCC(F)(F)F)c1ccccc1   \n",
       "3       CHEMBL130628      O=C(N1CCCCC1)n1nc(-c2ccc(Cl)cc2)nc1SCC(F)(F)F   \n",
       "4       CHEMBL130478          CSc1nc(-c2ccc(OC(F)(F)F)cc2)nn1C(=O)N(C)C   \n",
       "\n",
       "   standard_value  standard_value_norm     pIC50  \n",
       "0           750.0                750.0  6.124939  \n",
       "1           100.0                100.0  7.000000  \n",
       "2         50000.0              50000.0  4.301030  \n",
       "3           300.0                300.0  6.522879  \n",
       "4           800.0                800.0  6.096910  "
      ]
     },
     "execution_count": 54,
     "metadata": {},
     "output_type": "execute_result"
    }
   ],
   "source": [
    "df.head()"
   ]
  },
  {
   "cell_type": "code",
   "execution_count": 55,
   "id": "9675f7e8-a8e6-44ff-b1c5-b229cbbeb2e9",
   "metadata": {},
   "outputs": [],
   "source": [
    "X = df['canonical_smiles'].values\n",
    "y = df['pIC50'].values"
   ]
  },
  {
   "cell_type": "code",
   "execution_count": 68,
   "id": "ed681944",
   "metadata": {},
   "outputs": [
    {
     "data": {
      "text/plain": [
       "array(['CCOc1nn(-c2cccc(OCc3ccccc3)c2)c(=O)o1',\n",
       "       'O=C(N1CCCCC1)n1nc(-c2ccc(Cl)cc2)nc1SCC1CC1',\n",
       "       'CN(C(=O)n1nc(-c2ccc(Cl)cc2)nc1SCC(F)(F)F)c1ccccc1', ...,\n",
       "       'COc1ccc(-c2csc(NC(=O)CCN3CCCC3)n2)cc1',\n",
       "       'COc1cc(C2C3=C(CCCC3=O)NC3=C2C(=O)CCC3)ccc1OCc1ccc(F)cc1',\n",
       "       'O=C1CCCC2=C1C(c1ccc(OCc3cccc(F)c3)c(Br)c1)C1=C(CCCC1=O)N2'],\n",
       "      dtype=object)"
      ]
     },
     "execution_count": 68,
     "metadata": {},
     "output_type": "execute_result"
    }
   ],
   "source": [
    "X"
   ]
  },
  {
   "cell_type": "markdown",
   "id": "dd87900d-dca2-4f0e-a5c2-58fef4266a67",
   "metadata": {},
   "source": [
    "# Data augmentation:\n",
    "\n",
    "https://arxiv.org/pdf/1703.07076.pdf\n",
    "\n",
    "https://github.com/EBjerrum/molvecgen\n",
    "\n",
    "https://github.com/Ebjerrum/SMILES-enumeration"
   ]
  },
  {
   "cell_type": "markdown",
   "id": "605fb205-e7e7-45fb-99bd-2e6f490977a8",
   "metadata": {},
   "source": [
    "En la publicación de arriba se describe una técnica de aumentación de datos para los smiles. Leerla si es de su interes (Opcional)\n",
    "\n",
    "En el módulo **dataug.py**, tomando como referencia los repositorios arriba citados se implementó la aumentación de datos"
   ]
  },
  {
   "cell_type": "code",
   "execution_count": 56,
   "id": "d4733af9-9c49-4c2f-bb1d-dc7f180cc66f",
   "metadata": {},
   "outputs": [
    {
     "name": "stdout",
     "output_type": "stream",
     "text": [
      "c1(OCc2ccccc2)cccc(-n2c(=O)oc(SC)n2)c1\n",
      "C1CN(C(=O)n2nc(-c3ccc(Cl)cc3)nc2SCC(F)(F)F)CCC1\n",
      "c1cc(OCc2ccccc2)cc(-n2c(=O)oc(SC)n2)c1\n",
      "c1(Cl)ccc(-c2nc(SCC(F)(F)F)n(C(=O)N3CCCCC3)n2)cc1\n",
      "c1ccc(COc2cc(-n3nc(SC)oc3=O)ccc2)cc1\n",
      "c1c(-c2nc(SCC(F)(F)F)n(C(N3CCCCC3)=O)n2)ccc(Cl)c1\n",
      "CSc1oc(=O)n(-c2cccc(OCc3ccccc3)c2)n1\n",
      "C1N(C(=O)n2nc(-c3ccc(Cl)cc3)nc2SCC(F)(F)F)CCCC1\n",
      "c1c(OCc2ccccc2)cccc1-n1nc(SC)oc1=O\n",
      "c1(SCC(F)(F)F)nc(-c2ccc(Cl)cc2)nn1C(=O)N1CCCCC1\n",
      "CSc1nn(-c2cccc(OCc3ccccc3)c2)c(=O)o1\n",
      "O=C(N1CCCCC1)n1c(SCC(F)(F)F)nc(-c2ccc(Cl)cc2)n1\n",
      "O(Cc1ccccc1)c1cc(-n2c(=O)oc(SC)n2)ccc1\n",
      "c1(SCC(F)(F)F)n(C(=O)N2CCCCC2)nc(-c2ccc(Cl)cc2)n1\n",
      "n1c(SC)oc(=O)n1-c1cccc(OCc2ccccc2)c1\n",
      "C(=O)(n1c(SCC(F)(F)F)nc(-c2ccc(Cl)cc2)n1)N1CCCCC1\n",
      "c1cccc(COc2cccc(-n3nc(SC)oc3=O)c2)c1\n",
      "FC(F)(CSc1n(C(=O)N2CCCCC2)nc(-c2ccc(Cl)cc2)n1)F\n",
      "S(c1nn(-c2cccc(OCc3ccccc3)c2)c(=O)o1)C\n",
      "FC(CSc1n(C(=O)N2CCCCC2)nc(-c2ccc(Cl)cc2)n1)(F)F\n"
     ]
    }
   ],
   "source": [
    "from dataaug import SmilesEnumerator\n",
    "sme = SmilesEnumerator()\n",
    "for i in range(10):\n",
    "    print(sme.randomize_smiles('CSc1nn(-c2cccc(OCc3ccccc3)c2)c(=O)o1'))\n",
    "    print(sme.randomize_smiles('O=C(N1CCCCC1)n1nc(-c2ccc(Cl)cc2)nc1SCC(F)(F)F'))"
   ]
  },
  {
   "cell_type": "markdown",
   "id": "7a1923d3-1df0-4df1-a43c-ec30eff6fe4d",
   "metadata": {},
   "source": [
    "# DataGenerator"
   ]
  },
  {
   "cell_type": "markdown",
   "id": "fc6a3c67-9f44-4052-9e93-9e274f08c1b5",
   "metadata": {},
   "source": [
    "Construir un generador al que se le pase al instanciarlo:\n",
    "- X: smiles (formula química)\n",
    "- y: pIC50\n",
    "- batch_size\n",
    "- max_sequence_len (int): La máxima longitud de las secuencias (para hacer el padding)\n",
    "- data_augmentation (boolean): si quiero hacer o no data-augmentation. \n",
    "- shuffle (boolean)\n",
    "\n",
    "Guardarlo en el módulo **datagen.py** con el nombre de la clase **DataGenerator**\n",
    "\n",
    "Notar que el módulo **datagen.py** ya tiene una estructura para completar"
   ]
  },
  {
   "cell_type": "markdown",
   "id": "f602f3e4-24aa-41ee-9f83-89ec3acc96f1",
   "metadata": {},
   "source": [
    "### Importamos el módulo y lo probamos"
   ]
  },
  {
   "cell_type": "code",
   "execution_count": 57,
   "id": "413bce05-2685-4c84-8a43-c3dd8ed74e11",
   "metadata": {},
   "outputs": [],
   "source": [
    "from datagen import DataGenerator"
   ]
  },
  {
   "cell_type": "code",
   "execution_count": 58,
   "id": "52aa520a-a84b-4d8b-a22e-6b4a5cc7e65a",
   "metadata": {},
   "outputs": [],
   "source": [
    "dgen = DataGenerator(X, y, max_sequence_len, batch_size=16)"
   ]
  },
  {
   "cell_type": "code",
   "execution_count": 59,
   "id": "b3212e31-dd2c-4ebc-b9a0-78ed4bb5d78d",
   "metadata": {},
   "outputs": [
    {
     "data": {
      "text/plain": [
       "5104"
      ]
     },
     "execution_count": 59,
     "metadata": {},
     "output_type": "execute_result"
    }
   ],
   "source": [
    "len(dgen) * dgen.batch_size"
   ]
  },
  {
   "cell_type": "code",
   "execution_count": 60,
   "id": "133033ed-a3b1-4572-aaaf-f4cb2a055724",
   "metadata": {},
   "outputs": [
    {
     "name": "stdout",
     "output_type": "stream",
     "text": [
      "318\r"
     ]
    }
   ],
   "source": [
    "for i, (X_b, y_b) in enumerate(dgen):\n",
    "    print(f'{i}\\r', end='')"
   ]
  },
  {
   "cell_type": "markdown",
   "id": "4233710d-9274-4dae-b22d-cf42b57ad862",
   "metadata": {},
   "source": [
    "# Split"
   ]
  },
  {
   "cell_type": "code",
   "execution_count": 61,
   "id": "ce7a95e6-2486-42fb-97fb-865e3fd6a561",
   "metadata": {},
   "outputs": [],
   "source": [
    "from sklearn.model_selection import train_test_split"
   ]
  },
  {
   "cell_type": "code",
   "execution_count": 62,
   "id": "fcb9840f-2f41-45be-99a5-f05f3ab73ed8",
   "metadata": {},
   "outputs": [],
   "source": [
    "X_train, X_test, y_train, y_test = train_test_split(X, y, test_size=0.2, random_state=42)"
   ]
  },
  {
   "cell_type": "code",
   "execution_count": 63,
   "id": "4ad17134-3e15-42d1-b8c9-0c793169e145",
   "metadata": {},
   "outputs": [
    {
     "data": {
      "text/plain": [
       "(4082, 4082, 1021)"
      ]
     },
     "execution_count": 63,
     "metadata": {},
     "output_type": "execute_result"
    }
   ],
   "source": [
    "len(X_train), len(y_train), len(X_test)"
   ]
  },
  {
   "cell_type": "code",
   "execution_count": 64,
   "id": "929de60c-7128-4e35-8efc-4b5f9ee9471c",
   "metadata": {},
   "outputs": [
    {
     "data": {
      "text/plain": [
       "array(['COc1ccccc1C(=O)Nc1ccc2c(c1)CN(C(=O)c1cccc(Cl)c1)C(=O)C2',\n",
       "       'c1ccc2oc(CNCCCCCCCNc3c4c(nc5ccccc35)CCCC4)cc2c1',\n",
       "       'C=C1c2cc(Cl)ccc2N=C2CCCCCN12', ...,\n",
       "       'O=C(Cc1cc(=O)oc2cc(O)ccc12)N/N=C1\\\\SCC(=O)N1c1c2c(nc3ccccc13)CCCC2',\n",
       "       'O=C(NCCCCCc1ccccc1)Oc1ccc(-n2cc(COc3ccc4ccc(=O)oc4c3)nn2)cc1',\n",
       "       'CN(C)Cc1ccc(CSCCCCCCCCSCc2ccc(CN(C)C)o2)o1'], dtype=object)"
      ]
     },
     "execution_count": 64,
     "metadata": {},
     "output_type": "execute_result"
    }
   ],
   "source": [
    "X_train"
   ]
  },
  {
   "cell_type": "code",
   "execution_count": 65,
   "id": "dd72855a-8310-4a5e-b5c8-7fe181ea8edd",
   "metadata": {},
   "outputs": [],
   "source": [
    "dgen_train = DataGenerator(X_train, y_train, seq_length=max_sequence_len, batch_size=128, data_augmentation=True)\n",
    "dgen_test = DataGenerator(X_test, y_test, seq_length=max_sequence_len, batch_size=128, data_augmentation=False)"
   ]
  },
  {
   "cell_type": "code",
   "execution_count": 67,
   "id": "c0d8e25b",
   "metadata": {},
   "outputs": [
    {
     "data": {
      "text/plain": [
       "(array([[16,  7, 16, ...,  0,  0,  0],\n",
       "        [28,  7,  2, ...,  0,  0,  0],\n",
       "        [16,  7, 31, ...,  0,  0,  0],\n",
       "        ...,\n",
       "        [16,  7, 16, ...,  0,  0,  0],\n",
       "        [21, 15, 16, ...,  0,  0,  0],\n",
       "        [16,  7, 24, ...,  0,  0,  0]]),\n",
       " array([6.1426675 , 7.00788851, 7.87614836, 6.40893539, 5.39794001,\n",
       "        7.92081875, 7.        , 4.77989191, 4.60084567, 8.60205999,\n",
       "        5.52287875, 4.95330978, 7.39924485, 4.26760624, 6.74472749,\n",
       "        7.36653154, 4.91364017, 4.        , 8.09691001, 6.52287875,\n",
       "        5.95078198, 4.31000002, 6.69250396, 5.95860731, 7.74472749,\n",
       "        2.947     , 4.88372441, 5.05799195, 4.64016452, 7.28399666,\n",
       "        6.61978876, 8.11861534, 7.52287875, 9.22914799, 5.14999987,\n",
       "        5.23657201, 6.02641038, 3.30103   , 5.62525165, 5.        ,\n",
       "        6.85387196, 4.        , 5.17263073, 5.5559552 , 5.25181197,\n",
       "        7.15926677, 6.84499816, 5.77000093, 2.8827287 , 4.67985371,\n",
       "        4.81247928, 4.        , 5.7212464 , 6.37161107, 9.18708664,\n",
       "        7.84771166, 7.04575749, 7.69250396, 3.89907832, 4.30103   ,\n",
       "        7.28650946, 5.39794001, 5.41000016, 6.03151705, 6.48148606,\n",
       "        4.6476245 , 5.13667714, 5.43651891, 7.36653154, 6.55284197,\n",
       "        6.12493874, 5.        , 6.33724217, 6.4436975 , 5.2823295 ,\n",
       "        6.79588002, 5.4202164 , 2.60623182, 2.86646109, 4.46382047,\n",
       "        6.41623463, 5.45717457, 7.30103   , 7.11918641, 3.70333481,\n",
       "        8.34678749, 6.00130484, 6.02687215, 5.58004425, 7.88941029,\n",
       "        6.04575749, 6.86043573, 6.21041929, 3.327     , 3.69897   ,\n",
       "        5.63638802, 6.63638802, 4.60205999, 3.        , 2.67778071,\n",
       "        7.74472749, 6.63264408, 5.21      , 5.21395879, 3.        ,\n",
       "        5.60205999, 6.74472749, 8.4609239 , 3.69897   , 7.58004425,\n",
       "        5.22184875, 7.26760624, 4.48999994, 5.02687215, 6.20065945,\n",
       "        6.23657201, 6.92081875, 6.39999691, 4.15490196, 5.        ,\n",
       "        7.52287875, 7.52287875, 6.7000571 , 6.97757163, 6.10513034,\n",
       "        6.92099975, 6.91009489, 4.86000008]))"
      ]
     },
     "execution_count": 67,
     "metadata": {},
     "output_type": "execute_result"
    }
   ],
   "source": [
    "dgen_train[0]"
   ]
  },
  {
   "cell_type": "code",
   "execution_count": 66,
   "id": "1bf28e8f-b29e-4b60-b7a2-4f08ff5a547b",
   "metadata": {},
   "outputs": [
    {
     "name": "stdout",
     "output_type": "stream",
     "text": [
      "7\r"
     ]
    }
   ],
   "source": [
    "for i, (X_b, y_b) in enumerate(dgen_test):\n",
    "    print(f'{i}\\r', end='')"
   ]
  },
  {
   "cell_type": "code",
   "execution_count": 21,
   "id": "222c7f1c-7f3e-40b4-9fb5-5b3ea340c3b0",
   "metadata": {},
   "outputs": [
    {
     "data": {
      "text/plain": [
       "(125, 227)"
      ]
     },
     "execution_count": 21,
     "metadata": {},
     "output_type": "execute_result"
    }
   ],
   "source": [
    "X_b.shape"
   ]
  },
  {
   "cell_type": "markdown",
   "id": "85941430-2534-4d7d-ba52-d934a31c1bf6",
   "metadata": {},
   "source": [
    "# Network Model"
   ]
  },
  {
   "cell_type": "code",
   "execution_count": 22,
   "id": "6bd5d1bf-4640-4cbc-acd3-72881ddcc07e",
   "metadata": {},
   "outputs": [],
   "source": [
    "from tensorflow.keras import Sequential\n",
    "from tensorflow.keras.layers import LSTM, Dense, Embedding, Bidirectional, Dropout, Activation, BatchNormalization, Conv1D, MaxPool1D, GlobalAveragePooling1D, Flatten\n",
    "from tensorflow.keras.callbacks import ModelCheckpoint\n",
    "from tensorflow.keras.optimizers import Adam, RMSprop\n",
    "from tensorflow.keras import backend as K\n",
    "import tensorflow as tf\n",
    "from tensorflow.keras import layers as L"
   ]
  },
  {
   "cell_type": "code",
   "execution_count": 23,
   "id": "98aa4201-cd4e-4d7f-b695-9e32b5dfe1c6",
   "metadata": {},
   "outputs": [],
   "source": [
    "# Implementar modelo de TextCNN\n",
    "def text_cnn_1d(sequence_length, vocab_size, embedding_size, filter_sizes, num_filters):\n",
    "    # Recordar que estamos en la funcional model API y hay que entender que conectar con que.\n",
    "    input_x = L.Input(shape=(sequence_length,), name='input_x')\n",
    "    embedding = L.Embedding(input_dim = vocab_size + 1, output_dim = embedding_size, name='embedding')(input_x)\n",
    "    pooled_outputs = []\n",
    "    for filter_size in filter_sizes:\n",
    "        conv = L.Conv1D(filters=num_filters, kernel_size=filter_size, padding='same', activation='relu')(embedding)\n",
    "        max_p = L.MaxPool1D(pool_size=2, strides=1)(conv)\n",
    "        pooled_outputs.append(max_p)\n",
    "        \n",
    "    h_pool = L.Concatenate(axis=2)(pooled_outputs)\n",
    "    dense = L.Flatten()(h_pool)\n",
    "    dense = L.Dense(200, activation='relu')(dense)\n",
    "    dense = L.Dense(50, activation='relu')(dense)\n",
    "    dense = L.Dense(1)(dense) # Salida\n",
    "    model = tf.keras.models.Model(input_x, dense)\n",
    "    return model"
   ]
  },
  {
   "cell_type": "code",
   "execution_count": 24,
   "id": "d3db729c-1a80-40ad-b3e5-59329b172ee0",
   "metadata": {},
   "outputs": [],
   "source": [
    "# Puede cambiar estos hiperparámtros. Son solo de referencia\n",
    "FILTER_SIZES = (2, 3, 5, 8, 13)\n",
    "NUM_FILTERS = 32\n",
    "vocab_size = len(smiles_dict)\n",
    "embeddings_size = 200"
   ]
  },
  {
   "cell_type": "code",
   "execution_count": 25,
   "id": "0e0903a5-9840-4994-9964-8e2d3e9eb326",
   "metadata": {},
   "outputs": [
    {
     "name": "stdout",
     "output_type": "stream",
     "text": [
      "Model: \"model\"\n",
      "__________________________________________________________________________________________________\n",
      "Layer (type)                    Output Shape         Param #     Connected to                     \n",
      "==================================================================================================\n",
      "input_x (InputLayer)            [(None, 227)]        0                                            \n",
      "__________________________________________________________________________________________________\n",
      "embedding (Embedding)           (None, 227, 200)     8600        input_x[0][0]                    \n",
      "__________________________________________________________________________________________________\n",
      "conv1d (Conv1D)                 (None, 227, 32)      12832       embedding[0][0]                  \n",
      "__________________________________________________________________________________________________\n",
      "conv1d_1 (Conv1D)               (None, 227, 32)      19232       embedding[0][0]                  \n",
      "__________________________________________________________________________________________________\n",
      "conv1d_2 (Conv1D)               (None, 227, 32)      32032       embedding[0][0]                  \n",
      "__________________________________________________________________________________________________\n",
      "conv1d_3 (Conv1D)               (None, 227, 32)      51232       embedding[0][0]                  \n",
      "__________________________________________________________________________________________________\n",
      "conv1d_4 (Conv1D)               (None, 227, 32)      83232       embedding[0][0]                  \n",
      "__________________________________________________________________________________________________\n",
      "max_pooling1d (MaxPooling1D)    (None, 226, 32)      0           conv1d[0][0]                     \n",
      "__________________________________________________________________________________________________\n",
      "max_pooling1d_1 (MaxPooling1D)  (None, 226, 32)      0           conv1d_1[0][0]                   \n",
      "__________________________________________________________________________________________________\n",
      "max_pooling1d_2 (MaxPooling1D)  (None, 226, 32)      0           conv1d_2[0][0]                   \n",
      "__________________________________________________________________________________________________\n",
      "max_pooling1d_3 (MaxPooling1D)  (None, 226, 32)      0           conv1d_3[0][0]                   \n",
      "__________________________________________________________________________________________________\n",
      "max_pooling1d_4 (MaxPooling1D)  (None, 226, 32)      0           conv1d_4[0][0]                   \n",
      "__________________________________________________________________________________________________\n",
      "concatenate (Concatenate)       (None, 226, 160)     0           max_pooling1d[0][0]              \n",
      "                                                                 max_pooling1d_1[0][0]            \n",
      "                                                                 max_pooling1d_2[0][0]            \n",
      "                                                                 max_pooling1d_3[0][0]            \n",
      "                                                                 max_pooling1d_4[0][0]            \n",
      "__________________________________________________________________________________________________\n",
      "flatten (Flatten)               (None, 36160)        0           concatenate[0][0]                \n",
      "__________________________________________________________________________________________________\n",
      "dense (Dense)                   (None, 200)          7232200     flatten[0][0]                    \n",
      "__________________________________________________________________________________________________\n",
      "dense_1 (Dense)                 (None, 50)           10050       dense[0][0]                      \n",
      "__________________________________________________________________________________________________\n",
      "dense_2 (Dense)                 (None, 1)            51          dense_1[0][0]                    \n",
      "==================================================================================================\n",
      "Total params: 7,449,461\n",
      "Trainable params: 7,449,461\n",
      "Non-trainable params: 0\n",
      "__________________________________________________________________________________________________\n"
     ]
    }
   ],
   "source": [
    "model = text_cnn_1d(max_sequence_len, vocab_size, embeddings_size, FILTER_SIZES, NUM_FILTERS)\n",
    "model.summary()"
   ]
  },
  {
   "cell_type": "code",
   "execution_count": 26,
   "id": "4c4ab9a3-2878-483b-bc76-2627d64fb13e",
   "metadata": {},
   "outputs": [
    {
     "name": "stdout",
     "output_type": "stream",
     "text": [
      "Model: \"model\"\n",
      "__________________________________________________________________________________________________\n",
      "Layer (type)                    Output Shape         Param #     Connected to                     \n",
      "==================================================================================================\n",
      "input_x (InputLayer)            [(None, 227)]        0                                            \n",
      "__________________________________________________________________________________________________\n",
      "embedding (Embedding)           (None, 227, 200)     8600        input_x[0][0]                    \n",
      "__________________________________________________________________________________________________\n",
      "conv1d (Conv1D)                 (None, 227, 32)      12832       embedding[0][0]                  \n",
      "__________________________________________________________________________________________________\n",
      "conv1d_1 (Conv1D)               (None, 227, 32)      19232       embedding[0][0]                  \n",
      "__________________________________________________________________________________________________\n",
      "conv1d_2 (Conv1D)               (None, 227, 32)      32032       embedding[0][0]                  \n",
      "__________________________________________________________________________________________________\n",
      "conv1d_3 (Conv1D)               (None, 227, 32)      51232       embedding[0][0]                  \n",
      "__________________________________________________________________________________________________\n",
      "conv1d_4 (Conv1D)               (None, 227, 32)      83232       embedding[0][0]                  \n",
      "__________________________________________________________________________________________________\n",
      "max_pooling1d (MaxPooling1D)    (None, 226, 32)      0           conv1d[0][0]                     \n",
      "__________________________________________________________________________________________________\n",
      "max_pooling1d_1 (MaxPooling1D)  (None, 226, 32)      0           conv1d_1[0][0]                   \n",
      "__________________________________________________________________________________________________\n",
      "max_pooling1d_2 (MaxPooling1D)  (None, 226, 32)      0           conv1d_2[0][0]                   \n",
      "__________________________________________________________________________________________________\n",
      "max_pooling1d_3 (MaxPooling1D)  (None, 226, 32)      0           conv1d_3[0][0]                   \n",
      "__________________________________________________________________________________________________\n",
      "max_pooling1d_4 (MaxPooling1D)  (None, 226, 32)      0           conv1d_4[0][0]                   \n",
      "__________________________________________________________________________________________________\n",
      "concatenate (Concatenate)       (None, 226, 160)     0           max_pooling1d[0][0]              \n",
      "                                                                 max_pooling1d_1[0][0]            \n",
      "                                                                 max_pooling1d_2[0][0]            \n",
      "                                                                 max_pooling1d_3[0][0]            \n",
      "                                                                 max_pooling1d_4[0][0]            \n",
      "__________________________________________________________________________________________________\n",
      "flatten (Flatten)               (None, 36160)        0           concatenate[0][0]                \n",
      "__________________________________________________________________________________________________\n",
      "dense (Dense)                   (None, 200)          7232200     flatten[0][0]                    \n",
      "__________________________________________________________________________________________________\n",
      "dense_1 (Dense)                 (None, 50)           10050       dense[0][0]                      \n",
      "__________________________________________________________________________________________________\n",
      "dense_2 (Dense)                 (None, 1)            51          dense_1[0][0]                    \n",
      "==================================================================================================\n",
      "Total params: 7,449,461\n",
      "Trainable params: 7,449,461\n",
      "Non-trainable params: 0\n",
      "__________________________________________________________________________________________________\n"
     ]
    }
   ],
   "source": [
    "model.summary()"
   ]
  },
  {
   "cell_type": "code",
   "execution_count": 27,
   "id": "4bf115a2-9f1b-42b8-9b62-59728f1da977",
   "metadata": {},
   "outputs": [],
   "source": [
    "def R2(y_true, y_pred):\n",
    "    SS_res =  K.sum(K.square( y_true-y_pred ))\n",
    "    SS_tot = K.sum(K.square( y_true - K.mean(y_true) ) )\n",
    "    return ( 1 - SS_res/(SS_tot + K.epsilon()) )"
   ]
  },
  {
   "cell_type": "code",
   "execution_count": 28,
   "id": "9138b411-fc5d-41bd-8c8e-c12580cc5b14",
   "metadata": {},
   "outputs": [],
   "source": [
    "model.compile(optimizer=Adam(learning_rate=0.001), loss='mse', metrics=[R2])"
   ]
  },
  {
   "cell_type": "code",
   "execution_count": 29,
   "id": "62c3f792-f413-4150-8ebf-1f59c5fb986d",
   "metadata": {},
   "outputs": [],
   "source": [
    "mcp = ModelCheckpoint('models/best_model_{epoch}', save_best_only=True, save_format=\"h5\")"
   ]
  },
  {
   "cell_type": "code",
   "execution_count": 30,
   "id": "3f37ab4e-0e3a-44c6-a572-ba5c67930c61",
   "metadata": {
    "tags": []
   },
   "outputs": [
    {
     "name": "stdout",
     "output_type": "stream",
     "text": [
      "Epoch 1/100\n",
      "32/32 [==============================] - 10s 164ms/step - loss: 4.9546 - R2: -0.9219 - val_loss: 2.4751 - val_R2: 0.1368\n",
      "Epoch 2/100\n",
      "32/32 [==============================] - 3s 99ms/step - loss: 2.3160 - R2: 0.1637 - val_loss: 2.3992 - val_R2: 0.1731\n",
      "Epoch 3/100\n",
      "32/32 [==============================] - 3s 102ms/step - loss: 2.2125 - R2: 0.2073 - val_loss: 2.1953 - val_R2: 0.2446\n",
      "Epoch 4/100\n",
      "32/32 [==============================] - 3s 97ms/step - loss: 2.0667 - R2: 0.2572 - val_loss: 2.1230 - val_R2: 0.2466\n",
      "Epoch 5/100\n",
      "32/32 [==============================] - 3s 100ms/step - loss: 2.0176 - R2: 0.2712 - val_loss: 2.0905 - val_R2: 0.2803\n",
      "Epoch 6/100\n",
      "32/32 [==============================] - 3s 100ms/step - loss: 2.0659 - R2: 0.2538 - val_loss: 2.1018 - val_R2: 0.2737\n",
      "Epoch 7/100\n",
      "32/32 [==============================] - 3s 102ms/step - loss: 1.9736 - R2: 0.2932 - val_loss: 2.0913 - val_R2: 0.2731\n",
      "Epoch 8/100\n",
      "32/32 [==============================] - 4s 116ms/step - loss: 1.9269 - R2: 0.3027 - val_loss: 2.1047 - val_R2: 0.2605\n",
      "Epoch 9/100\n",
      "32/32 [==============================] - 3s 106ms/step - loss: 1.8001 - R2: 0.3542 - val_loss: 1.9847 - val_R2: 0.3094\n",
      "Epoch 10/100\n",
      "32/32 [==============================] - 3s 102ms/step - loss: 1.7480 - R2: 0.3710 - val_loss: 1.9169 - val_R2: 0.3278\n",
      "Epoch 11/100\n",
      "32/32 [==============================] - 3s 102ms/step - loss: 1.6870 - R2: 0.3935 - val_loss: 1.8486 - val_R2: 0.3598\n",
      "Epoch 12/100\n",
      "32/32 [==============================] - 3s 101ms/step - loss: 1.6554 - R2: 0.4028 - val_loss: 1.9034 - val_R2: 0.3362\n",
      "Epoch 13/100\n",
      "32/32 [==============================] - 3s 100ms/step - loss: 1.6232 - R2: 0.4114 - val_loss: 1.7839 - val_R2: 0.3793\n",
      "Epoch 14/100\n",
      "32/32 [==============================] - 3s 100ms/step - loss: 1.6442 - R2: 0.4052 - val_loss: 1.7838 - val_R2: 0.3705\n",
      "Epoch 15/100\n",
      "32/32 [==============================] - 3s 103ms/step - loss: 1.6089 - R2: 0.4196 - val_loss: 1.8099 - val_R2: 0.3634\n",
      "Epoch 16/100\n",
      "32/32 [==============================] - 3s 101ms/step - loss: 1.5380 - R2: 0.4433 - val_loss: 1.8272 - val_R2: 0.3615\n",
      "Epoch 17/100\n",
      "32/32 [==============================] - 3s 102ms/step - loss: 1.5140 - R2: 0.4558 - val_loss: 1.7943 - val_R2: 0.3751\n",
      "Epoch 18/100\n",
      "32/32 [==============================] - 3s 101ms/step - loss: 1.4405 - R2: 0.4800 - val_loss: 1.7099 - val_R2: 0.3974\n",
      "Epoch 19/100\n",
      "32/32 [==============================] - 3s 102ms/step - loss: 1.5418 - R2: 0.4385 - val_loss: 1.7763 - val_R2: 0.3724\n",
      "Epoch 20/100\n",
      "32/32 [==============================] - 3s 101ms/step - loss: 1.4679 - R2: 0.4681 - val_loss: 1.8149 - val_R2: 0.3745\n",
      "Epoch 21/100\n",
      "32/32 [==============================] - 3s 102ms/step - loss: 1.3772 - R2: 0.5000 - val_loss: 1.6868 - val_R2: 0.4130\n",
      "Epoch 22/100\n",
      "32/32 [==============================] - 3s 97ms/step - loss: 1.4087 - R2: 0.4951 - val_loss: 1.6197 - val_R2: 0.4318\n",
      "Epoch 23/100\n",
      "32/32 [==============================] - 3s 98ms/step - loss: 1.3711 - R2: 0.5048 - val_loss: 1.5994 - val_R2: 0.4419\n",
      "Epoch 24/100\n",
      "32/32 [==============================] - 3s 98ms/step - loss: 1.4574 - R2: 0.4684 - val_loss: 1.8571 - val_R2: 0.3505\n",
      "Epoch 25/100\n",
      "32/32 [==============================] - 3s 105ms/step - loss: 1.4615 - R2: 0.4719 - val_loss: 1.6150 - val_R2: 0.4327\n",
      "Epoch 26/100\n",
      "32/32 [==============================] - 3s 100ms/step - loss: 1.4006 - R2: 0.4869 - val_loss: 1.5880 - val_R2: 0.4490\n",
      "Epoch 27/100\n",
      "32/32 [==============================] - 3s 101ms/step - loss: 1.3238 - R2: 0.5200 - val_loss: 1.5522 - val_R2: 0.4604\n",
      "Epoch 28/100\n",
      "32/32 [==============================] - 3s 99ms/step - loss: 1.2818 - R2: 0.5350 - val_loss: 1.6342 - val_R2: 0.4251\n",
      "Epoch 29/100\n",
      "32/32 [==============================] - 3s 102ms/step - loss: 1.2790 - R2: 0.5379 - val_loss: 1.5425 - val_R2: 0.4622\n",
      "Epoch 30/100\n",
      "32/32 [==============================] - 3s 105ms/step - loss: 1.2691 - R2: 0.5388 - val_loss: 1.5453 - val_R2: 0.4751\n",
      "Epoch 31/100\n",
      "32/32 [==============================] - 3s 99ms/step - loss: 1.2889 - R2: 0.5297 - val_loss: 1.4855 - val_R2: 0.4845\n",
      "Epoch 32/100\n",
      "32/32 [==============================] - 3s 100ms/step - loss: 1.2269 - R2: 0.5549 - val_loss: 1.5023 - val_R2: 0.4770\n",
      "Epoch 33/100\n",
      "32/32 [==============================] - 3s 99ms/step - loss: 1.1931 - R2: 0.5629 - val_loss: 1.8242 - val_R2: 0.3406\n",
      "Epoch 34/100\n",
      "32/32 [==============================] - 3s 97ms/step - loss: 1.1557 - R2: 0.5796 - val_loss: 1.4571 - val_R2: 0.4926\n",
      "Epoch 35/100\n",
      "32/32 [==============================] - 3s 99ms/step - loss: 1.1829 - R2: 0.5689 - val_loss: 1.4518 - val_R2: 0.4940\n",
      "Epoch 36/100\n",
      "32/32 [==============================] - 3s 103ms/step - loss: 1.1602 - R2: 0.5749 - val_loss: 1.7094 - val_R2: 0.3769\n",
      "Epoch 37/100\n",
      "32/32 [==============================] - 3s 100ms/step - loss: 1.1352 - R2: 0.5824 - val_loss: 1.4232 - val_R2: 0.5006\n",
      "Epoch 38/100\n",
      "32/32 [==============================] - 3s 98ms/step - loss: 1.1182 - R2: 0.5879 - val_loss: 1.4490 - val_R2: 0.4863\n",
      "Epoch 39/100\n",
      "32/32 [==============================] - 3s 99ms/step - loss: 1.1153 - R2: 0.5945 - val_loss: 1.5031 - val_R2: 0.4880\n",
      "Epoch 40/100\n",
      "32/32 [==============================] - 3s 104ms/step - loss: 1.3044 - R2: 0.5238 - val_loss: 1.3749 - val_R2: 0.5126\n",
      "Epoch 41/100\n",
      "32/32 [==============================] - 3s 99ms/step - loss: 1.1261 - R2: 0.5893 - val_loss: 1.3278 - val_R2: 0.5379\n",
      "Epoch 42/100\n",
      "32/32 [==============================] - 3s 101ms/step - loss: 1.0657 - R2: 0.6079 - val_loss: 1.3375 - val_R2: 0.5303\n",
      "Epoch 43/100\n",
      "32/32 [==============================] - 3s 98ms/step - loss: 1.0362 - R2: 0.6158 - val_loss: 1.3036 - val_R2: 0.5381\n",
      "Epoch 44/100\n",
      "32/32 [==============================] - 3s 98ms/step - loss: 1.0665 - R2: 0.6138 - val_loss: 1.4055 - val_R2: 0.5099\n",
      "Epoch 45/100\n",
      "32/32 [==============================] - 3s 102ms/step - loss: 1.0442 - R2: 0.6109 - val_loss: 1.4055 - val_R2: 0.4950\n",
      "Epoch 46/100\n",
      "32/32 [==============================] - 3s 102ms/step - loss: 1.0301 - R2: 0.6239 - val_loss: 1.4336 - val_R2: 0.4986\n",
      "Epoch 47/100\n",
      "32/32 [==============================] - 3s 101ms/step - loss: 1.0157 - R2: 0.6221 - val_loss: 1.2443 - val_R2: 0.5650\n",
      "Epoch 48/100\n",
      "32/32 [==============================] - 3s 103ms/step - loss: 0.9678 - R2: 0.6482 - val_loss: 1.3203 - val_R2: 0.5399\n",
      "Epoch 49/100\n",
      "32/32 [==============================] - 3s 102ms/step - loss: 0.9823 - R2: 0.6403 - val_loss: 1.3485 - val_R2: 0.5267\n",
      "Epoch 50/100\n",
      "32/32 [==============================] - 3s 101ms/step - loss: 1.0908 - R2: 0.6000 - val_loss: 1.4929 - val_R2: 0.4695\n",
      "Epoch 51/100\n",
      "32/32 [==============================] - 3s 103ms/step - loss: 0.9865 - R2: 0.6341 - val_loss: 1.2869 - val_R2: 0.5549\n",
      "Epoch 52/100\n",
      "32/32 [==============================] - 3s 99ms/step - loss: 0.9410 - R2: 0.6554 - val_loss: 1.2408 - val_R2: 0.5508\n",
      "Epoch 53/100\n",
      "32/32 [==============================] - 4s 110ms/step - loss: 0.9470 - R2: 0.6507 - val_loss: 1.3469 - val_R2: 0.5328\n",
      "Epoch 54/100\n",
      "32/32 [==============================] - 3s 99ms/step - loss: 0.9633 - R2: 0.6443 - val_loss: 1.2845 - val_R2: 0.5369\n",
      "Epoch 55/100\n",
      "32/32 [==============================] - 3s 99ms/step - loss: 1.0581 - R2: 0.6123 - val_loss: 1.2870 - val_R2: 0.5337\n",
      "Epoch 56/100\n",
      "32/32 [==============================] - 3s 97ms/step - loss: 0.9986 - R2: 0.6346 - val_loss: 1.3136 - val_R2: 0.5427\n",
      "Epoch 57/100\n",
      "32/32 [==============================] - 3s 101ms/step - loss: 0.9110 - R2: 0.6651 - val_loss: 1.4251 - val_R2: 0.5074\n",
      "Epoch 58/100\n",
      "32/32 [==============================] - 3s 97ms/step - loss: 0.9020 - R2: 0.6677 - val_loss: 1.2685 - val_R2: 0.5668\n",
      "Epoch 59/100\n",
      "32/32 [==============================] - 3s 102ms/step - loss: 0.9029 - R2: 0.6686 - val_loss: 1.1709 - val_R2: 0.5680\n",
      "Epoch 60/100\n",
      "32/32 [==============================] - 3s 104ms/step - loss: 0.8965 - R2: 0.6684 - val_loss: 1.2899 - val_R2: 0.5376\n",
      "Epoch 61/100\n",
      "32/32 [==============================] - 3s 105ms/step - loss: 0.8901 - R2: 0.6737 - val_loss: 1.1848 - val_R2: 0.5809\n",
      "Epoch 62/100\n",
      "32/32 [==============================] - 3s 100ms/step - loss: 0.9095 - R2: 0.6680 - val_loss: 1.2557 - val_R2: 0.5421\n",
      "Epoch 63/100\n",
      "32/32 [==============================] - 3s 102ms/step - loss: 0.9015 - R2: 0.6687 - val_loss: 1.2666 - val_R2: 0.5604\n",
      "Epoch 64/100\n",
      "32/32 [==============================] - 3s 99ms/step - loss: 0.9205 - R2: 0.6626 - val_loss: 1.2345 - val_R2: 0.5746\n",
      "Epoch 65/100\n",
      "32/32 [==============================] - 3s 96ms/step - loss: 0.9341 - R2: 0.6527 - val_loss: 1.3348 - val_R2: 0.5429\n",
      "Epoch 66/100\n",
      "32/32 [==============================] - 3s 101ms/step - loss: 0.9098 - R2: 0.6665 - val_loss: 1.2565 - val_R2: 0.5541\n",
      "Epoch 67/100\n",
      "32/32 [==============================] - 3s 96ms/step - loss: 0.9293 - R2: 0.6586 - val_loss: 1.2543 - val_R2: 0.5623\n",
      "Epoch 68/100\n",
      "32/32 [==============================] - 3s 98ms/step - loss: 0.8882 - R2: 0.6784 - val_loss: 1.2284 - val_R2: 0.5594\n",
      "Epoch 69/100\n",
      "32/32 [==============================] - 3s 100ms/step - loss: 0.8972 - R2: 0.6703 - val_loss: 1.2322 - val_R2: 0.5689\n",
      "Epoch 70/100\n",
      "32/32 [==============================] - 3s 98ms/step - loss: 0.8564 - R2: 0.6856 - val_loss: 1.2190 - val_R2: 0.5761\n",
      "Epoch 71/100\n",
      "32/32 [==============================] - 3s 101ms/step - loss: 0.8216 - R2: 0.6910 - val_loss: 1.3504 - val_R2: 0.5256\n",
      "Epoch 72/100\n",
      "32/32 [==============================] - 3s 97ms/step - loss: 0.8586 - R2: 0.6825 - val_loss: 1.2015 - val_R2: 0.5846\n",
      "Epoch 73/100\n",
      "32/32 [==============================] - 3s 99ms/step - loss: 0.8179 - R2: 0.6964 - val_loss: 1.2030 - val_R2: 0.5770\n",
      "Epoch 74/100\n",
      "32/32 [==============================] - 3s 96ms/step - loss: 0.8670 - R2: 0.6799 - val_loss: 1.3112 - val_R2: 0.5519\n",
      "Epoch 75/100\n",
      "32/32 [==============================] - 3s 98ms/step - loss: 0.8105 - R2: 0.7007 - val_loss: 1.1962 - val_R2: 0.5886\n",
      "Epoch 76/100\n",
      "32/32 [==============================] - 3s 99ms/step - loss: 0.8276 - R2: 0.6947 - val_loss: 1.2950 - val_R2: 0.5530\n",
      "Epoch 77/100\n",
      "32/32 [==============================] - 3s 100ms/step - loss: 0.9234 - R2: 0.6566 - val_loss: 1.2061 - val_R2: 0.5696\n",
      "Epoch 78/100\n",
      "32/32 [==============================] - 3s 101ms/step - loss: 0.8416 - R2: 0.6918 - val_loss: 1.1759 - val_R2: 0.5943\n",
      "Epoch 79/100\n",
      "32/32 [==============================] - 3s 97ms/step - loss: 0.7910 - R2: 0.7115 - val_loss: 1.1527 - val_R2: 0.5900\n",
      "Epoch 80/100\n",
      "32/32 [==============================] - 3s 95ms/step - loss: 0.7878 - R2: 0.7072 - val_loss: 1.2376 - val_R2: 0.5660\n",
      "Epoch 81/100\n",
      "32/32 [==============================] - 3s 95ms/step - loss: 0.8197 - R2: 0.6934 - val_loss: 1.1179 - val_R2: 0.6006\n",
      "Epoch 82/100\n",
      "32/32 [==============================] - 3s 94ms/step - loss: 0.8232 - R2: 0.6980 - val_loss: 1.5218 - val_R2: 0.4710\n",
      "Epoch 83/100\n",
      "32/32 [==============================] - 3s 95ms/step - loss: 0.8168 - R2: 0.7006 - val_loss: 1.1909 - val_R2: 0.5828\n",
      "Epoch 84/100\n",
      "32/32 [==============================] - 3s 94ms/step - loss: 0.8149 - R2: 0.7013 - val_loss: 1.1590 - val_R2: 0.5933\n",
      "Epoch 85/100\n",
      "32/32 [==============================] - 3s 96ms/step - loss: 0.8058 - R2: 0.7039 - val_loss: 1.2195 - val_R2: 0.5734\n",
      "Epoch 86/100\n",
      "32/32 [==============================] - 3s 98ms/step - loss: 0.8025 - R2: 0.7040 - val_loss: 1.0874 - val_R2: 0.6038\n",
      "Epoch 87/100\n",
      "32/32 [==============================] - 3s 97ms/step - loss: 0.7688 - R2: 0.7162 - val_loss: 1.1906 - val_R2: 0.5812\n",
      "Epoch 88/100\n",
      "32/32 [==============================] - 3s 102ms/step - loss: 0.7797 - R2: 0.7138 - val_loss: 1.3232 - val_R2: 0.5334\n",
      "Epoch 89/100\n",
      "32/32 [==============================] - 4s 115ms/step - loss: 0.8331 - R2: 0.6867 - val_loss: 1.1836 - val_R2: 0.5728\n",
      "Epoch 90/100\n",
      "32/32 [==============================] - 4s 115ms/step - loss: 0.7611 - R2: 0.7192 - val_loss: 1.2092 - val_R2: 0.5907\n",
      "Epoch 91/100\n",
      "32/32 [==============================] - 4s 111ms/step - loss: 0.8149 - R2: 0.7006 - val_loss: 1.4656 - val_R2: 0.4990\n",
      "Epoch 92/100\n",
      "32/32 [==============================] - 4s 112ms/step - loss: 0.8096 - R2: 0.7029 - val_loss: 1.1976 - val_R2: 0.5834\n",
      "Epoch 93/100\n",
      "32/32 [==============================] - 4s 108ms/step - loss: 0.7709 - R2: 0.7172 - val_loss: 1.2509 - val_R2: 0.5723\n",
      "Epoch 94/100\n",
      "32/32 [==============================] - 4s 109ms/step - loss: 0.8503 - R2: 0.6844 - val_loss: 1.2571 - val_R2: 0.5678\n",
      "Epoch 95/100\n",
      "32/32 [==============================] - 4s 119ms/step - loss: 0.8461 - R2: 0.6855 - val_loss: 1.1500 - val_R2: 0.5880\n",
      "Epoch 96/100\n",
      "32/32 [==============================] - 4s 122ms/step - loss: 0.7429 - R2: 0.7263 - val_loss: 1.1022 - val_R2: 0.5939\n",
      "Epoch 97/100\n",
      "32/32 [==============================] - 4s 124ms/step - loss: 0.7367 - R2: 0.7267 - val_loss: 1.0315 - val_R2: 0.6341\n",
      "Epoch 98/100\n",
      "32/32 [==============================] - 4s 115ms/step - loss: 0.7360 - R2: 0.7247 - val_loss: 0.9942 - val_R2: 0.6497\n",
      "Epoch 99/100\n",
      "32/32 [==============================] - 4s 111ms/step - loss: 0.7394 - R2: 0.7206 - val_loss: 1.0697 - val_R2: 0.6190\n",
      "Epoch 100/100\n",
      "32/32 [==============================] - 4s 112ms/step - loss: 0.7192 - R2: 0.7386 - val_loss: 1.1503 - val_R2: 0.5956\n"
     ]
    }
   ],
   "source": [
    "history = model.fit(dgen_train, epochs=100, validation_data=dgen_test)"
   ]
  },
  {
   "cell_type": "code",
   "execution_count": 43,
   "id": "a0242588-eede-4e85-8b83-f207ea8ab757",
   "metadata": {},
   "outputs": [],
   "source": [
    "X_test_eval = []\n",
    "y_t_eval = []\n",
    "for X_t, y_t in dgen_test:\n",
    "    X_test_eval = X_test_eval + [list(t) for t in X_t]\n",
    "    y_t_eval = y_t_eval + list(y_t)\n",
    "X_test_eval = np.array(X_test_eval)\n",
    "y_test = np.array(y_t_eval)"
   ]
  },
  {
   "cell_type": "code",
   "execution_count": 44,
   "id": "a1437cbf-fe44-4999-a44b-05cea765f22b",
   "metadata": {},
   "outputs": [
    {
     "data": {
      "text/plain": [
       "((1021, 227), (1021,))"
      ]
     },
     "execution_count": 44,
     "metadata": {},
     "output_type": "execute_result"
    }
   ],
   "source": [
    "X_test_eval.shape, y_test.shape"
   ]
  },
  {
   "cell_type": "code",
   "execution_count": 45,
   "id": "0084fbb1-e83e-4808-99bf-1458f3ea3076",
   "metadata": {},
   "outputs": [],
   "source": [
    "y_pred = model.predict(X_test_eval)"
   ]
  },
  {
   "cell_type": "markdown",
   "id": "382979a3-f299-4762-8b6d-10a6ea4d3c70",
   "metadata": {},
   "source": [
    "# Score"
   ]
  },
  {
   "cell_type": "code",
   "execution_count": 34,
   "id": "f9fd5d60-841f-46c3-94b6-5755b4d548cd",
   "metadata": {},
   "outputs": [],
   "source": [
    "r2 = 1 - ((y_test - y_pred.reshape(-1)) ** 2).sum() / ((y_test - y_test.mean()) ** 2).sum()"
   ]
  },
  {
   "cell_type": "code",
   "execution_count": 35,
   "id": "4d2bfabe-2e3e-40cf-a1e8-2d458ee7f328",
   "metadata": {},
   "outputs": [
    {
     "data": {
      "text/plain": [
       "0.6014829262237769"
      ]
     },
     "execution_count": 35,
     "metadata": {},
     "output_type": "execute_result"
    }
   ],
   "source": [
    "r2\n"
   ]
  },
  {
   "cell_type": "code",
   "execution_count": 36,
   "id": "85262541-e04a-4ff2-b3e6-a47643db66f6",
   "metadata": {},
   "outputs": [],
   "source": [
    "filename = 'models/embed_128_text_cnn_aug_100x100_0.0001.h5'\n",
    "model.save(filename)"
   ]
  },
  {
   "cell_type": "code",
   "execution_count": 37,
   "id": "67cf753c-a7f6-4b8a-abe3-3253986cc53a",
   "metadata": {},
   "outputs": [
    {
     "name": "stdout",
     "output_type": "stream",
     "text": [
      "Model: \"model\"\n",
      "__________________________________________________________________________________________________\n",
      "Layer (type)                    Output Shape         Param #     Connected to                     \n",
      "==================================================================================================\n",
      "input_x (InputLayer)            [(None, 227)]        0                                            \n",
      "__________________________________________________________________________________________________\n",
      "embedding (Embedding)           (None, 227, 200)     8600        input_x[0][0]                    \n",
      "__________________________________________________________________________________________________\n",
      "conv1d (Conv1D)                 (None, 227, 32)      12832       embedding[0][0]                  \n",
      "__________________________________________________________________________________________________\n",
      "conv1d_1 (Conv1D)               (None, 227, 32)      19232       embedding[0][0]                  \n",
      "__________________________________________________________________________________________________\n",
      "conv1d_2 (Conv1D)               (None, 227, 32)      32032       embedding[0][0]                  \n",
      "__________________________________________________________________________________________________\n",
      "conv1d_3 (Conv1D)               (None, 227, 32)      51232       embedding[0][0]                  \n",
      "__________________________________________________________________________________________________\n",
      "conv1d_4 (Conv1D)               (None, 227, 32)      83232       embedding[0][0]                  \n",
      "__________________________________________________________________________________________________\n",
      "max_pooling1d (MaxPooling1D)    (None, 226, 32)      0           conv1d[0][0]                     \n",
      "__________________________________________________________________________________________________\n",
      "max_pooling1d_1 (MaxPooling1D)  (None, 226, 32)      0           conv1d_1[0][0]                   \n",
      "__________________________________________________________________________________________________\n",
      "max_pooling1d_2 (MaxPooling1D)  (None, 226, 32)      0           conv1d_2[0][0]                   \n",
      "__________________________________________________________________________________________________\n",
      "max_pooling1d_3 (MaxPooling1D)  (None, 226, 32)      0           conv1d_3[0][0]                   \n",
      "__________________________________________________________________________________________________\n",
      "max_pooling1d_4 (MaxPooling1D)  (None, 226, 32)      0           conv1d_4[0][0]                   \n",
      "__________________________________________________________________________________________________\n",
      "concatenate (Concatenate)       (None, 226, 160)     0           max_pooling1d[0][0]              \n",
      "                                                                 max_pooling1d_1[0][0]            \n",
      "                                                                 max_pooling1d_2[0][0]            \n",
      "                                                                 max_pooling1d_3[0][0]            \n",
      "                                                                 max_pooling1d_4[0][0]            \n",
      "__________________________________________________________________________________________________\n",
      "flatten (Flatten)               (None, 36160)        0           concatenate[0][0]                \n",
      "__________________________________________________________________________________________________\n",
      "dense (Dense)                   (None, 200)          7232200     flatten[0][0]                    \n",
      "__________________________________________________________________________________________________\n",
      "dense_1 (Dense)                 (None, 50)           10050       dense[0][0]                      \n",
      "__________________________________________________________________________________________________\n",
      "dense_2 (Dense)                 (None, 1)            51          dense_1[0][0]                    \n",
      "==================================================================================================\n",
      "Total params: 7,449,461\n",
      "Trainable params: 7,449,461\n",
      "Non-trainable params: 0\n",
      "__________________________________________________________________________________________________\n"
     ]
    }
   ],
   "source": [
    "model.summary()"
   ]
  },
  {
   "cell_type": "markdown",
   "id": "5f683e18-c876-4f7c-93ea-a33d495dcdaa",
   "metadata": {},
   "source": [
    "# Load model (solo si se grabo el modelo)"
   ]
  },
  {
   "cell_type": "code",
   "execution_count": 38,
   "id": "285c8740-f0bb-4237-8593-ff9b815de0e3",
   "metadata": {},
   "outputs": [],
   "source": [
    "from tensorflow.keras.models import load_model"
   ]
  },
  {
   "cell_type": "code",
   "execution_count": 39,
   "id": "2168984f-770c-436e-92da-c1344b1d3abc",
   "metadata": {},
   "outputs": [],
   "source": [
    "model_loaded = load_model(filename, custom_objects={'R2': R2})"
   ]
  },
  {
   "cell_type": "code",
   "execution_count": 40,
   "id": "13a9d7d8-41e0-44a0-a8b9-02157a11f8f2",
   "metadata": {},
   "outputs": [],
   "source": [
    "y_pred = model_loaded.predict(X_test_eval)"
   ]
  },
  {
   "cell_type": "code",
   "execution_count": 41,
   "id": "26c63493-3f25-4383-9654-58ee62aa3ae5",
   "metadata": {},
   "outputs": [
    {
     "data": {
      "text/plain": [
       "0.6014829262237769"
      ]
     },
     "execution_count": 41,
     "metadata": {},
     "output_type": "execute_result"
    }
   ],
   "source": [
    "r2 = 1 - ((y_test - y_pred.reshape(-1)) ** 2).sum() / ((y_test - y_test.mean()) ** 2).sum()\n",
    "r2"
   ]
  },
  {
   "cell_type": "markdown",
   "id": "7f1a6260-e31f-4e5e-a923-ce67bf31152f",
   "metadata": {},
   "source": [
    "# Evaluación"
   ]
  },
  {
   "cell_type": "code",
   "execution_count": 42,
   "id": "7dd9d7e6-2789-459e-b9dd-593e10847fc4",
   "metadata": {},
   "outputs": [
    {
     "data": {
      "text/plain": [
       "<function matplotlib.pyplot.show(close=None, block=None)>"
      ]
     },
     "execution_count": 42,
     "metadata": {},
     "output_type": "execute_result"
    },
    {
     "data": {
      "image/png": "[encoded data removed]",
      "text/plain": [
       "<Figure size 360x360 with 1 Axes>"
      ]
     },
     "metadata": {},
     "output_type": "display_data"
    }
   ],
   "source": [
    "import seaborn as sns\n",
    "import matplotlib.pyplot as plt\n",
    "\n",
    "sns.set(color_codes=True)\n",
    "sns.set_style(\"white\")\n",
    "\n",
    "ax = sns.regplot(x=y_test, y=y_pred, scatter_kws={'alpha':0.4})\n",
    "ax.set_xlabel('Experimental pIC50', fontsize='large', fontweight='bold')\n",
    "ax.set_ylabel('Predicted pIC50', fontsize='large', fontweight='bold')\n",
    "ax.set_xlim(0, 12)\n",
    "ax.set_ylim(0, 12)\n",
    "ax.figure.set_size_inches(5, 5)\n",
    "plt.show"
   ]
  },
  {
   "cell_type": "code",
   "execution_count": null,
   "id": "3f9f2cc6-8687-4676-b1aa-437914379f12",
   "metadata": {},
   "outputs": [],
   "source": []
  }
 ],
 "metadata": {
  "kernelspec": {
   "display_name": "Python 3",
   "language": "python",
   "name": "python3"
  },
  "language_info": {
   "codemirror_mode": {
    "name": "ipython",
    "version": 3
   },
   "file_extension": ".py",
   "mimetype": "text/x-python",
   "name": "python",
   "nbconvert_exporter": "python",
   "pygments_lexer": "ipython3",
   "version": "3.9.7"
  }
 },
 "nbformat": 4,
 "nbformat_minor": 5
}
