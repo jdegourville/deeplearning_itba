{
 "cells": [
  {
   "cell_type": "code",
   "execution_count": 1,
   "id": "3ac13f6c-a061-4c24-a5fc-081ea6283a62",
   "metadata": {},
   "outputs": [],
   "source": [
    "%load_ext autoreload\n",
    "%autoreload 2"
   ]
  },
  {
   "cell_type": "markdown",
   "id": "9dab7de8-eb23-47d7-a771-28a2397d0a54",
   "metadata": {},
   "source": [
    "# Modelo CNN con generador, embedings de smiles y data-augmentation"
   ]
  },
  {
   "cell_type": "code",
   "execution_count": 2,
   "id": "21bee0a3-79a7-43b2-9ac2-15cad5630e22",
   "metadata": {},
   "outputs": [],
   "source": [
    "import pandas as pd\n",
    "import numpy as np\n",
    "from datagen import smiles_dict, smiles_to_seq"
   ]
  },
  {
   "cell_type": "code",
   "execution_count": 3,
   "id": "c7787930",
   "metadata": {},
   "outputs": [
    {
     "name": "stdout",
     "output_type": "stream",
     "text": [
      "\n"
     ]
    }
   ],
   "source": [
    "from tensorflow import test\n",
    "print(test.gpu_device_name())"
   ]
  },
  {
   "cell_type": "markdown",
   "id": "20aa799f-b75c-4d23-869b-fea6d041a6e9",
   "metadata": {},
   "source": [
    "### smiles_dict"
   ]
  },
  {
   "cell_type": "code",
   "execution_count": 4,
   "id": "628a3149-eabe-4de3-8404-d86eb6ad3baf",
   "metadata": {},
   "outputs": [
    {
     "data": {
      "text/plain": [
       "42"
      ]
     },
     "execution_count": 4,
     "metadata": {},
     "output_type": "execute_result"
    }
   ],
   "source": [
    "len(smiles_dict)"
   ]
  },
  {
   "cell_type": "markdown",
   "id": "b9c9312c-4232-414c-b0ff-1e6fb6dba1a6",
   "metadata": {},
   "source": [
    "smiles_dict nos da un tokenizador para simplificar el problema. Puede ver como se construyó en la notebook **deep_chem**.\n",
    "Si al momento de correr el modelo con este diccionario encuentra problemas de key_error, puede agregar los faltantes al diccionario\n",
    "\n",
    "Mirar dentro de **datagen.py** como se usa este diccionario con la función **smiles_to_seq** para tokenizar. El código es muy sencillo"
   ]
  },
  {
   "cell_type": "code",
   "execution_count": 5,
   "id": "e29ef48f-4b67-42a4-83af-e7d0bb980c4b",
   "metadata": {},
   "outputs": [
    {
     "name": "stdout",
     "output_type": "stream",
     "text": [
      "{'#': 1, '(': 2, ')': 3, '+': 4, '-': 5, '/': 6, '1': 7, '2': 8, '3': 9, '4': 10, '5': 11, '6': 12, '7': 13, '8': 14, '=': 15, 'C': 16, 'F': 17, 'H': 18, 'I': 19, 'N': 20, 'O': 21, 'P': 22, 'S': 23, '[': 24, '\\\\': 25, ']': 26, '_': 27, 'c': 28, 'Cl': 29, 'Br': 30, 'n': 31, 'o': 32, 's': 33, '@': 34, '.': 35, 'a': 36, 'B': 37, 'e': 38, 'i': 39, '9': 40, '10': 41, '11': 42}\n"
     ]
    }
   ],
   "source": [
    "print(smiles_dict)"
   ]
  },
  {
   "cell_type": "markdown",
   "id": "b103a4e0-038d-406b-aab8-5c9452ede04e",
   "metadata": {},
   "source": [
    "# Carga de los datos"
   ]
  },
  {
   "cell_type": "code",
   "execution_count": 6,
   "id": "353a2d75-f0f4-4563-9842-c68d77118161",
   "metadata": {},
   "outputs": [],
   "source": [
    "df = pd.read_csv('data/acetylcholinesterase_02_bioactivity_data_preprocessed.csv')"
   ]
  },
  {
   "cell_type": "code",
   "execution_count": 7,
   "id": "4e7fcdcb-ad53-4ebf-bc17-a241c79269da",
   "metadata": {},
   "outputs": [],
   "source": [
    "max_len_idx = df['canonical_smiles'].apply(len).argmax()\n",
    "min_len_idx = df['canonical_smiles'].apply(len).argmin()\n",
    "max_sequence_len = len(df['canonical_smiles'].iloc[max_len_idx]) + 20"
   ]
  },
  {
   "cell_type": "code",
   "execution_count": 8,
   "id": "d1554fa5-d9ee-456c-be20-80571e319fc6",
   "metadata": {},
   "outputs": [
    {
     "data": {
      "text/html": [
       "<div>\n",
       "<style scoped>\n",
       "    .dataframe tbody tr th:only-of-type {\n",
       "        vertical-align: middle;\n",
       "    }\n",
       "\n",
       "    .dataframe tbody tr th {\n",
       "        vertical-align: top;\n",
       "    }\n",
       "\n",
       "    .dataframe thead th {\n",
       "        text-align: right;\n",
       "    }\n",
       "</style>\n",
       "<table border=\"1\" class=\"dataframe\">\n",
       "  <thead>\n",
       "    <tr style=\"text-align: right;\">\n",
       "      <th></th>\n",
       "      <th>molecule_chembl_id</th>\n",
       "      <th>canonical_smiles</th>\n",
       "      <th>standard_value</th>\n",
       "      <th>standard_value_norm</th>\n",
       "      <th>pIC50</th>\n",
       "    </tr>\n",
       "  </thead>\n",
       "  <tbody>\n",
       "    <tr>\n",
       "      <th>0</th>\n",
       "      <td>CHEMBL133897</td>\n",
       "      <td>CCOc1nn(-c2cccc(OCc3ccccc3)c2)c(=O)o1</td>\n",
       "      <td>750.0</td>\n",
       "      <td>750.0</td>\n",
       "      <td>6.124939</td>\n",
       "    </tr>\n",
       "    <tr>\n",
       "      <th>1</th>\n",
       "      <td>CHEMBL336398</td>\n",
       "      <td>O=C(N1CCCCC1)n1nc(-c2ccc(Cl)cc2)nc1SCC1CC1</td>\n",
       "      <td>100.0</td>\n",
       "      <td>100.0</td>\n",
       "      <td>7.000000</td>\n",
       "    </tr>\n",
       "    <tr>\n",
       "      <th>2</th>\n",
       "      <td>CHEMBL131588</td>\n",
       "      <td>CN(C(=O)n1nc(-c2ccc(Cl)cc2)nc1SCC(F)(F)F)c1ccccc1</td>\n",
       "      <td>50000.0</td>\n",
       "      <td>50000.0</td>\n",
       "      <td>4.301030</td>\n",
       "    </tr>\n",
       "    <tr>\n",
       "      <th>3</th>\n",
       "      <td>CHEMBL130628</td>\n",
       "      <td>O=C(N1CCCCC1)n1nc(-c2ccc(Cl)cc2)nc1SCC(F)(F)F</td>\n",
       "      <td>300.0</td>\n",
       "      <td>300.0</td>\n",
       "      <td>6.522879</td>\n",
       "    </tr>\n",
       "    <tr>\n",
       "      <th>4</th>\n",
       "      <td>CHEMBL130478</td>\n",
       "      <td>CSc1nc(-c2ccc(OC(F)(F)F)cc2)nn1C(=O)N(C)C</td>\n",
       "      <td>800.0</td>\n",
       "      <td>800.0</td>\n",
       "      <td>6.096910</td>\n",
       "    </tr>\n",
       "  </tbody>\n",
       "</table>\n",
       "</div>"
      ],
      "text/plain": [
       "  molecule_chembl_id                                   canonical_smiles  \\\n",
       "0       CHEMBL133897              CCOc1nn(-c2cccc(OCc3ccccc3)c2)c(=O)o1   \n",
       "1       CHEMBL336398         O=C(N1CCCCC1)n1nc(-c2ccc(Cl)cc2)nc1SCC1CC1   \n",
       "2       CHEMBL131588  CN(C(=O)n1nc(-c2ccc(Cl)cc2)nc1SCC(F)(F)F)c1ccccc1   \n",
       "3       CHEMBL130628      O=C(N1CCCCC1)n1nc(-c2ccc(Cl)cc2)nc1SCC(F)(F)F   \n",
       "4       CHEMBL130478          CSc1nc(-c2ccc(OC(F)(F)F)cc2)nn1C(=O)N(C)C   \n",
       "\n",
       "   standard_value  standard_value_norm     pIC50  \n",
       "0           750.0                750.0  6.124939  \n",
       "1           100.0                100.0  7.000000  \n",
       "2         50000.0              50000.0  4.301030  \n",
       "3           300.0                300.0  6.522879  \n",
       "4           800.0                800.0  6.096910  "
      ]
     },
     "execution_count": 8,
     "metadata": {},
     "output_type": "execute_result"
    }
   ],
   "source": [
    "df.head()"
   ]
  },
  {
   "cell_type": "code",
   "execution_count": 9,
   "id": "9675f7e8-a8e6-44ff-b1c5-b229cbbeb2e9",
   "metadata": {},
   "outputs": [],
   "source": [
    "X = df['canonical_smiles'].values\n",
    "y = df['pIC50'].values"
   ]
  },
  {
   "cell_type": "markdown",
   "id": "dd87900d-dca2-4f0e-a5c2-58fef4266a67",
   "metadata": {},
   "source": [
    "# Data augmentation:\n",
    "\n",
    "https://arxiv.org/pdf/1703.07076.pdf\n",
    "\n",
    "https://github.com/EBjerrum/molvecgen\n",
    "\n",
    "https://github.com/Ebjerrum/SMILES-enumeration"
   ]
  },
  {
   "cell_type": "markdown",
   "id": "605fb205-e7e7-45fb-99bd-2e6f490977a8",
   "metadata": {},
   "source": [
    "En la publicación de arriba se describe una técnica de aumentación de datos para los smiles. Leerla si es de su interes (Opcional)\n",
    "\n",
    "En el módulo **dataug.py**, tomando como referencia los repositorios arriba citados se implementó la aumentación de datos"
   ]
  },
  {
   "cell_type": "code",
   "execution_count": 10,
   "id": "d4733af9-9c49-4c2f-bb1d-dc7f180cc66f",
   "metadata": {},
   "outputs": [
    {
     "name": "stdout",
     "output_type": "stream",
     "text": [
      "c1(SC)oc(=O)n(-c2cccc(OCc3ccccc3)c2)n1\n",
      "C(C(F)(F)F)Sc1n(C(=O)N2CCCCC2)nc(-c2ccc(Cl)cc2)n1\n",
      "O(c1cc(-n2nc(SC)oc2=O)ccc1)Cc1ccccc1\n",
      "FC(CSc1n(C(N2CCCCC2)=O)nc(-c2ccc(Cl)cc2)n1)(F)F\n",
      "c1cc(-n2nc(SC)oc2=O)cc(OCc2ccccc2)c1\n",
      "C1CN(C(n2nc(-c3ccc(Cl)cc3)nc2SCC(F)(F)F)=O)CCC1\n",
      "c1ccccc1COc1cccc(-n2c(=O)oc(SC)n2)c1\n",
      "c1(-c2nc(SCC(F)(F)F)n(C(=O)N3CCCCC3)n2)ccc(Cl)cc1\n",
      "c1cc(COc2cc(-n3nc(SC)oc3=O)ccc2)ccc1\n",
      "C(C(F)(F)F)Sc1n(C(N2CCCCC2)=O)nc(-c2ccc(Cl)cc2)n1\n",
      "c1c(OCc2ccccc2)cc(-n2c(=O)oc(SC)n2)cc1\n",
      "C(F)(CSc1n(C(=O)N2CCCCC2)nc(-c2ccc(Cl)cc2)n1)(F)F\n",
      "c1(=O)n(-c2cccc(OCc3ccccc3)c2)nc(SC)o1\n",
      "C1CN(C(=O)n2nc(-c3ccc(Cl)cc3)nc2SCC(F)(F)F)CCC1\n",
      "c1(SC)nn(-c2cccc(OCc3ccccc3)c2)c(=O)o1\n",
      "n1c(-c2ccc(Cl)cc2)nn(C(=O)N2CCCCC2)c1SCC(F)(F)F\n",
      "c1cccc(COc2cc(-n3nc(SC)oc3=O)ccc2)c1\n",
      "C1CN(C(=O)n2nc(-c3ccc(Cl)cc3)nc2SCC(F)(F)F)CCC1\n",
      "c1c(COc2cccc(-n3c(=O)oc(SC)n3)c2)cccc1\n",
      "n1c(SCC(F)(F)F)n(C(=O)N2CCCCC2)nc1-c1ccc(Cl)cc1\n"
     ]
    }
   ],
   "source": [
    "from dataaug import SmilesEnumerator\n",
    "sme = SmilesEnumerator()\n",
    "for i in range(10):\n",
    "    print(sme.randomize_smiles('CSc1nn(-c2cccc(OCc3ccccc3)c2)c(=O)o1'))\n",
    "    print(sme.randomize_smiles('O=C(N1CCCCC1)n1nc(-c2ccc(Cl)cc2)nc1SCC(F)(F)F'))"
   ]
  },
  {
   "cell_type": "markdown",
   "id": "7a1923d3-1df0-4df1-a43c-ec30eff6fe4d",
   "metadata": {},
   "source": [
    "# DataGenerator"
   ]
  },
  {
   "cell_type": "markdown",
   "id": "fc6a3c67-9f44-4052-9e93-9e274f08c1b5",
   "metadata": {},
   "source": [
    "Construir un generador al que se le pase al instanciarlo:\n",
    "- X: smiles (formula química)\n",
    "- y: pIC50\n",
    "- batch_size\n",
    "- max_sequence_len (int): La máxima longitud de las secuencias (para hacer el padding)\n",
    "- data_augmentation (boolean): si quiero hacer o no data-augmentation. \n",
    "- shuffle (boolean)\n",
    "\n",
    "Guardarlo en el módulo **datagen.py** con el nombre de la clase **DataGenerator**\n",
    "\n",
    "Notar que el módulo **datagen.py** ya tiene una estructura para completar"
   ]
  },
  {
   "cell_type": "markdown",
   "id": "f602f3e4-24aa-41ee-9f83-89ec3acc96f1",
   "metadata": {},
   "source": [
    "### Importamos el módulo y lo probamos"
   ]
  },
  {
   "cell_type": "code",
   "execution_count": 11,
   "id": "413bce05-2685-4c84-8a43-c3dd8ed74e11",
   "metadata": {},
   "outputs": [],
   "source": [
    "from datagen import DataGenerator"
   ]
  },
  {
   "cell_type": "code",
   "execution_count": 12,
   "id": "52aa520a-a84b-4d8b-a22e-6b4a5cc7e65a",
   "metadata": {},
   "outputs": [],
   "source": [
    "dgen = DataGenerator(X, y, max_sequence_len, batch_size=16)"
   ]
  },
  {
   "cell_type": "code",
   "execution_count": 13,
   "id": "b3212e31-dd2c-4ebc-b9a0-78ed4bb5d78d",
   "metadata": {},
   "outputs": [
    {
     "data": {
      "text/plain": [
       "5104"
      ]
     },
     "execution_count": 13,
     "metadata": {},
     "output_type": "execute_result"
    }
   ],
   "source": [
    "len(dgen) * dgen.batch_size"
   ]
  },
  {
   "cell_type": "code",
   "execution_count": 14,
   "id": "133033ed-a3b1-4572-aaaf-f4cb2a055724",
   "metadata": {},
   "outputs": [
    {
     "name": "stdout",
     "output_type": "stream",
     "text": [
      "318\r"
     ]
    }
   ],
   "source": [
    "for i, (X_b, y_b) in enumerate(dgen):\n",
    "    print(f'{i}\\r', end='')"
   ]
  },
  {
   "cell_type": "markdown",
   "id": "4233710d-9274-4dae-b22d-cf42b57ad862",
   "metadata": {},
   "source": [
    "# Split"
   ]
  },
  {
   "cell_type": "code",
   "execution_count": 15,
   "id": "ce7a95e6-2486-42fb-97fb-865e3fd6a561",
   "metadata": {},
   "outputs": [],
   "source": [
    "from sklearn.model_selection import train_test_split"
   ]
  },
  {
   "cell_type": "code",
   "execution_count": 16,
   "id": "fcb9840f-2f41-45be-99a5-f05f3ab73ed8",
   "metadata": {},
   "outputs": [],
   "source": [
    "X_train, X_test, y_train, y_test = train_test_split(X, y, test_size=0.2, random_state=42)"
   ]
  },
  {
   "cell_type": "code",
   "execution_count": 17,
   "id": "4ad17134-3e15-42d1-b8c9-0c793169e145",
   "metadata": {},
   "outputs": [
    {
     "data": {
      "text/plain": [
       "(4082, 4082, 1021)"
      ]
     },
     "execution_count": 17,
     "metadata": {},
     "output_type": "execute_result"
    }
   ],
   "source": [
    "len(X_train), len(y_train), len(X_test)"
   ]
  },
  {
   "cell_type": "code",
   "execution_count": 18,
   "id": "929de60c-7128-4e35-8efc-4b5f9ee9471c",
   "metadata": {},
   "outputs": [
    {
     "data": {
      "text/plain": [
       "array(['COc1ccccc1C(=O)Nc1ccc2c(c1)CN(C(=O)c1cccc(Cl)c1)C(=O)C2',\n",
       "       'c1ccc2oc(CNCCCCCCCNc3c4c(nc5ccccc35)CCCC4)cc2c1',\n",
       "       'C=C1c2cc(Cl)ccc2N=C2CCCCCN12', ...,\n",
       "       'O=C(Cc1cc(=O)oc2cc(O)ccc12)N/N=C1\\\\SCC(=O)N1c1c2c(nc3ccccc13)CCCC2',\n",
       "       'O=C(NCCCCCc1ccccc1)Oc1ccc(-n2cc(COc3ccc4ccc(=O)oc4c3)nn2)cc1',\n",
       "       'CN(C)Cc1ccc(CSCCCCCCCCSCc2ccc(CN(C)C)o2)o1'], dtype=object)"
      ]
     },
     "execution_count": 18,
     "metadata": {},
     "output_type": "execute_result"
    }
   ],
   "source": [
    "X_train"
   ]
  },
  {
   "cell_type": "code",
   "execution_count": 19,
   "id": "dd72855a-8310-4a5e-b5c8-7fe181ea8edd",
   "metadata": {},
   "outputs": [],
   "source": [
    "dgen_train = DataGenerator(X_train, y_train, seq_length=max_sequence_len, batch_size=128, data_augmentation=True)\n",
    "dgen_test = DataGenerator(X_test, y_test, seq_length=max_sequence_len, batch_size=128, data_augmentation=False)"
   ]
  },
  {
   "cell_type": "code",
   "execution_count": 20,
   "id": "1bf28e8f-b29e-4b60-b7a2-4f08ff5a547b",
   "metadata": {},
   "outputs": [
    {
     "name": "stdout",
     "output_type": "stream",
     "text": [
      "7\r"
     ]
    }
   ],
   "source": [
    "for i, (X_b, y_b) in enumerate(dgen_test):\n",
    "    print(f'{i}\\r', end='')"
   ]
  },
  {
   "cell_type": "code",
   "execution_count": 21,
   "id": "222c7f1c-7f3e-40b4-9fb5-5b3ea340c3b0",
   "metadata": {},
   "outputs": [
    {
     "data": {
      "text/plain": [
       "(125, 227)"
      ]
     },
     "execution_count": 21,
     "metadata": {},
     "output_type": "execute_result"
    }
   ],
   "source": [
    "X_b.shape"
   ]
  },
  {
   "cell_type": "markdown",
   "id": "85941430-2534-4d7d-ba52-d934a31c1bf6",
   "metadata": {},
   "source": [
    "# Network Model"
   ]
  },
  {
   "cell_type": "code",
   "execution_count": 22,
   "id": "6bd5d1bf-4640-4cbc-acd3-72881ddcc07e",
   "metadata": {},
   "outputs": [],
   "source": [
    "from tensorflow.keras import Sequential\n",
    "from tensorflow.keras.layers import LSTM, Dense, Embedding, Bidirectional, Dropout, Activation, BatchNormalization, Conv1D, MaxPool1D, GlobalAveragePooling1D, Flatten\n",
    "from tensorflow.keras.callbacks import ModelCheckpoint\n",
    "from tensorflow.keras.optimizers import Adam, RMSprop\n",
    "from tensorflow.keras import backend as K\n",
    "import tensorflow as tf\n",
    "from tensorflow.keras import layers as L"
   ]
  },
  {
   "cell_type": "code",
   "execution_count": null,
   "id": "8308048c-be62-473c-965a-4a11d0b613d7",
   "metadata": {},
   "outputs": [],
   "source": []
  },
  {
   "cell_type": "code",
   "execution_count": 23,
   "id": "98aa4201-cd4e-4d7f-b695-9e32b5dfe1c6",
   "metadata": {},
   "outputs": [],
   "source": [
    "# Implementar modelo de TextCNN\n",
    "def text_cnn_1d(sequence_length, vocab_size, embedding_size, filter_sizes, num_filters):\n",
    "    # Recordar que estamos en la funcional model API y hay que entender que conectar con que.\n",
    "    input_x = L.Input(shape=(sequence_length,), name='input_x')\n",
    "    embedding = L.Embedding(input_dim = vocab_size + 1, output_dim = embedding_size, name='embedding')(input_x)\n",
    "    pooled_outputs = []\n",
    "    for filter_size in filter_sizes:\n",
    "        conv = L.Conv1D(filters=num_filters, kernel_size=filter_size, padding='same', activation='relu')(embedding)\n",
    "        max_p = L.MaxPool1D(pool_size=2, strides=1)(conv)\n",
    "        pooled_outputs.append(max_p)\n",
    "        \n",
    "    h_pool = L.Concatenate(axis=2)(pooled_outputs)\n",
    "    dense = L.Flatten()(h_pool)\n",
    "    dense = L.Dense(200, activation='relu')(dense)\n",
    "    dense = L.Dense(50, activation='relu')(dense)\n",
    "    dense = L.Dense(1)(dense) # Salida\n",
    "    model = tf.keras.models.Model(input_x, dense)\n",
    "    return model"
   ]
  },
  {
   "cell_type": "code",
   "execution_count": 24,
   "id": "d3db729c-1a80-40ad-b3e5-59329b172ee0",
   "metadata": {},
   "outputs": [],
   "source": [
    "# Puede cambiar estos hiperparámtros. Son solo de referencia\n",
    "FILTER_SIZES = (2, 3, 5, 8, 13)\n",
    "NUM_FILTERS = 32\n",
    "vocab_size = len(smiles_dict)\n",
    "embeddings_size = 200"
   ]
  },
  {
   "cell_type": "code",
   "execution_count": 25,
   "id": "0e0903a5-9840-4994-9964-8e2d3e9eb326",
   "metadata": {},
   "outputs": [
    {
     "name": "stdout",
     "output_type": "stream",
     "text": [
      "Model: \"model\"\n",
      "__________________________________________________________________________________________________\n",
      "Layer (type)                    Output Shape         Param #     Connected to                     \n",
      "==================================================================================================\n",
      "input_x (InputLayer)            [(None, 227)]        0                                            \n",
      "__________________________________________________________________________________________________\n",
      "embedding (Embedding)           (None, 227, 200)     8600        input_x[0][0]                    \n",
      "__________________________________________________________________________________________________\n",
      "conv1d (Conv1D)                 (None, 227, 32)      12832       embedding[0][0]                  \n",
      "__________________________________________________________________________________________________\n",
      "conv1d_1 (Conv1D)               (None, 227, 32)      19232       embedding[0][0]                  \n",
      "__________________________________________________________________________________________________\n",
      "conv1d_2 (Conv1D)               (None, 227, 32)      32032       embedding[0][0]                  \n",
      "__________________________________________________________________________________________________\n",
      "conv1d_3 (Conv1D)               (None, 227, 32)      51232       embedding[0][0]                  \n",
      "__________________________________________________________________________________________________\n",
      "conv1d_4 (Conv1D)               (None, 227, 32)      83232       embedding[0][0]                  \n",
      "__________________________________________________________________________________________________\n",
      "max_pooling1d (MaxPooling1D)    (None, 226, 32)      0           conv1d[0][0]                     \n",
      "__________________________________________________________________________________________________\n",
      "max_pooling1d_1 (MaxPooling1D)  (None, 226, 32)      0           conv1d_1[0][0]                   \n",
      "__________________________________________________________________________________________________\n",
      "max_pooling1d_2 (MaxPooling1D)  (None, 226, 32)      0           conv1d_2[0][0]                   \n",
      "__________________________________________________________________________________________________\n",
      "max_pooling1d_3 (MaxPooling1D)  (None, 226, 32)      0           conv1d_3[0][0]                   \n",
      "__________________________________________________________________________________________________\n",
      "max_pooling1d_4 (MaxPooling1D)  (None, 226, 32)      0           conv1d_4[0][0]                   \n",
      "__________________________________________________________________________________________________\n",
      "concatenate (Concatenate)       (None, 226, 160)     0           max_pooling1d[0][0]              \n",
      "                                                                 max_pooling1d_1[0][0]            \n",
      "                                                                 max_pooling1d_2[0][0]            \n",
      "                                                                 max_pooling1d_3[0][0]            \n",
      "                                                                 max_pooling1d_4[0][0]            \n",
      "__________________________________________________________________________________________________\n",
      "flatten (Flatten)               (None, 36160)        0           concatenate[0][0]                \n",
      "__________________________________________________________________________________________________\n",
      "dense (Dense)                   (None, 200)          7232200     flatten[0][0]                    \n",
      "__________________________________________________________________________________________________\n",
      "dense_1 (Dense)                 (None, 50)           10050       dense[0][0]                      \n",
      "__________________________________________________________________________________________________\n",
      "dense_2 (Dense)                 (None, 1)            51          dense_1[0][0]                    \n",
      "==================================================================================================\n",
      "Total params: 7,449,461\n",
      "Trainable params: 7,449,461\n",
      "Non-trainable params: 0\n",
      "__________________________________________________________________________________________________\n"
     ]
    }
   ],
   "source": [
    "model = text_cnn_1d(max_sequence_len, vocab_size, embeddings_size, FILTER_SIZES, NUM_FILTERS)\n",
    "model.summary()"
   ]
  },
  {
   "cell_type": "code",
   "execution_count": 26,
   "id": "4c4ab9a3-2878-483b-bc76-2627d64fb13e",
   "metadata": {},
   "outputs": [
    {
     "name": "stdout",
     "output_type": "stream",
     "text": [
      "Model: \"model\"\n",
      "__________________________________________________________________________________________________\n",
      "Layer (type)                    Output Shape         Param #     Connected to                     \n",
      "==================================================================================================\n",
      "input_x (InputLayer)            [(None, 227)]        0                                            \n",
      "__________________________________________________________________________________________________\n",
      "embedding (Embedding)           (None, 227, 200)     8600        input_x[0][0]                    \n",
      "__________________________________________________________________________________________________\n",
      "conv1d (Conv1D)                 (None, 227, 32)      12832       embedding[0][0]                  \n",
      "__________________________________________________________________________________________________\n",
      "conv1d_1 (Conv1D)               (None, 227, 32)      19232       embedding[0][0]                  \n",
      "__________________________________________________________________________________________________\n",
      "conv1d_2 (Conv1D)               (None, 227, 32)      32032       embedding[0][0]                  \n",
      "__________________________________________________________________________________________________\n",
      "conv1d_3 (Conv1D)               (None, 227, 32)      51232       embedding[0][0]                  \n",
      "__________________________________________________________________________________________________\n",
      "conv1d_4 (Conv1D)               (None, 227, 32)      83232       embedding[0][0]                  \n",
      "__________________________________________________________________________________________________\n",
      "max_pooling1d (MaxPooling1D)    (None, 226, 32)      0           conv1d[0][0]                     \n",
      "__________________________________________________________________________________________________\n",
      "max_pooling1d_1 (MaxPooling1D)  (None, 226, 32)      0           conv1d_1[0][0]                   \n",
      "__________________________________________________________________________________________________\n",
      "max_pooling1d_2 (MaxPooling1D)  (None, 226, 32)      0           conv1d_2[0][0]                   \n",
      "__________________________________________________________________________________________________\n",
      "max_pooling1d_3 (MaxPooling1D)  (None, 226, 32)      0           conv1d_3[0][0]                   \n",
      "__________________________________________________________________________________________________\n",
      "max_pooling1d_4 (MaxPooling1D)  (None, 226, 32)      0           conv1d_4[0][0]                   \n",
      "__________________________________________________________________________________________________\n",
      "concatenate (Concatenate)       (None, 226, 160)     0           max_pooling1d[0][0]              \n",
      "                                                                 max_pooling1d_1[0][0]            \n",
      "                                                                 max_pooling1d_2[0][0]            \n",
      "                                                                 max_pooling1d_3[0][0]            \n",
      "                                                                 max_pooling1d_4[0][0]            \n",
      "__________________________________________________________________________________________________\n",
      "flatten (Flatten)               (None, 36160)        0           concatenate[0][0]                \n",
      "__________________________________________________________________________________________________\n",
      "dense (Dense)                   (None, 200)          7232200     flatten[0][0]                    \n",
      "__________________________________________________________________________________________________\n",
      "dense_1 (Dense)                 (None, 50)           10050       dense[0][0]                      \n",
      "__________________________________________________________________________________________________\n",
      "dense_2 (Dense)                 (None, 1)            51          dense_1[0][0]                    \n",
      "==================================================================================================\n",
      "Total params: 7,449,461\n",
      "Trainable params: 7,449,461\n",
      "Non-trainable params: 0\n",
      "__________________________________________________________________________________________________\n"
     ]
    }
   ],
   "source": [
    "model.summary()"
   ]
  },
  {
   "cell_type": "code",
   "execution_count": 27,
   "id": "4bf115a2-9f1b-42b8-9b62-59728f1da977",
   "metadata": {},
   "outputs": [],
   "source": [
    "def R2(y_true, y_pred):\n",
    "    SS_res =  K.sum(K.square( y_true-y_pred ))\n",
    "    SS_tot = K.sum(K.square( y_true - K.mean(y_true) ) )\n",
    "    return ( 1 - SS_res/(SS_tot + K.epsilon()) )"
   ]
  },
  {
   "cell_type": "code",
   "execution_count": 28,
   "id": "9138b411-fc5d-41bd-8c8e-c12580cc5b14",
   "metadata": {},
   "outputs": [],
   "source": [
    "model.compile(optimizer=Adam(learning_rate=0.001), loss='mse', metrics=[R2])"
   ]
  },
  {
   "cell_type": "code",
   "execution_count": 29,
   "id": "62c3f792-f413-4150-8ebf-1f59c5fb986d",
   "metadata": {},
   "outputs": [],
   "source": [
    "mcp = ModelCheckpoint('models/best_model_{epoch}', save_best_only=True, save_format=\"h5\")"
   ]
  },
  {
   "cell_type": "code",
   "execution_count": 37,
   "id": "3f37ab4e-0e3a-44c6-a572-ba5c67930c61",
   "metadata": {
    "tags": []
   },
   "outputs": [
    {
     "name": "stdout",
     "output_type": "stream",
     "text": [
      "Epoch 1/100\n",
      "32/32 [==============================] - 15s 475ms/step - loss: 1.4848 - R2: 0.4551 - val_loss: 1.6943 - val_R2: 0.4105\n",
      "Epoch 2/100\n",
      "32/32 [==============================] - 15s 466ms/step - loss: 1.3247 - R2: 0.5185 - val_loss: 1.5185 - val_R2: 0.4776\n",
      "Epoch 3/100\n",
      "32/32 [==============================] - 15s 467ms/step - loss: 1.4642 - R2: 0.4722 - val_loss: 1.5372 - val_R2: 0.4767\n",
      "Epoch 4/100\n",
      "32/32 [==============================] - 15s 467ms/step - loss: 1.2928 - R2: 0.5360 - val_loss: 1.5347 - val_R2: 0.4593\n",
      "Epoch 5/100\n",
      "32/32 [==============================] - 15s 466ms/step - loss: 1.3242 - R2: 0.5199 - val_loss: 1.6091 - val_R2: 0.4332\n",
      "Epoch 6/100\n",
      "32/32 [==============================] - 15s 464ms/step - loss: 1.3319 - R2: 0.5167 - val_loss: 1.5129 - val_R2: 0.4765\n",
      "Epoch 7/100\n",
      "32/32 [==============================] - 15s 467ms/step - loss: 1.2556 - R2: 0.5460 - val_loss: 1.4965 - val_R2: 0.4680\n",
      "Epoch 8/100\n",
      "32/32 [==============================] - 16s 495ms/step - loss: 1.2824 - R2: 0.5382 - val_loss: 1.5785 - val_R2: 0.4416\n",
      "Epoch 9/100\n",
      "32/32 [==============================] - 15s 469ms/step - loss: 1.2260 - R2: 0.5530 - val_loss: 1.4530 - val_R2: 0.4853\n",
      "Epoch 10/100\n",
      "32/32 [==============================] - 15s 471ms/step - loss: 1.2394 - R2: 0.5481 - val_loss: 1.4712 - val_R2: 0.4955\n",
      "Epoch 11/100\n",
      "32/32 [==============================] - 15s 466ms/step - loss: 1.3417 - R2: 0.5082 - val_loss: 1.5334 - val_R2: 0.4659\n",
      "Epoch 12/100\n",
      "32/32 [==============================] - 15s 467ms/step - loss: 1.2384 - R2: 0.5547 - val_loss: 1.4372 - val_R2: 0.4980\n",
      "Epoch 13/100\n",
      "32/32 [==============================] - 15s 478ms/step - loss: 1.1838 - R2: 0.5740 - val_loss: 1.5250 - val_R2: 0.4679\n",
      "Epoch 14/100\n",
      "32/32 [==============================] - 15s 468ms/step - loss: 1.1198 - R2: 0.5951 - val_loss: 1.4608 - val_R2: 0.4978\n",
      "Epoch 15/100\n",
      "32/32 [==============================] - 15s 469ms/step - loss: 1.1606 - R2: 0.5781 - val_loss: 1.3940 - val_R2: 0.5141\n",
      "Epoch 16/100\n",
      "32/32 [==============================] - 15s 473ms/step - loss: 1.1954 - R2: 0.5637 - val_loss: 1.3850 - val_R2: 0.5182\n",
      "Epoch 17/100\n",
      "32/32 [==============================] - 15s 471ms/step - loss: 1.0998 - R2: 0.5991 - val_loss: 1.3785 - val_R2: 0.5270\n",
      "Epoch 18/100\n",
      "32/32 [==============================] - 15s 478ms/step - loss: 1.2351 - R2: 0.5461 - val_loss: 1.4124 - val_R2: 0.5117\n",
      "Epoch 19/100\n",
      "32/32 [==============================] - 15s 469ms/step - loss: 1.1277 - R2: 0.5907 - val_loss: 1.3651 - val_R2: 0.5290\n",
      "Epoch 20/100\n",
      "32/32 [==============================] - 15s 476ms/step - loss: 1.0582 - R2: 0.6151 - val_loss: 1.3661 - val_R2: 0.5264\n",
      "Epoch 21/100\n",
      "32/32 [==============================] - 15s 474ms/step - loss: 1.1106 - R2: 0.5921 - val_loss: 1.3802 - val_R2: 0.5183\n",
      "Epoch 22/100\n",
      "32/32 [==============================] - 15s 457ms/step - loss: 1.0715 - R2: 0.6101 - val_loss: 1.3595 - val_R2: 0.5390\n",
      "Epoch 23/100\n",
      "32/32 [==============================] - 16s 494ms/step - loss: 1.0717 - R2: 0.6072 - val_loss: 1.2779 - val_R2: 0.5362\n",
      "Epoch 24/100\n",
      "32/32 [==============================] - 15s 468ms/step - loss: 1.0718 - R2: 0.6098 - val_loss: 1.2972 - val_R2: 0.5450\n",
      "Epoch 25/100\n",
      "32/32 [==============================] - 14s 422ms/step - loss: 1.0379 - R2: 0.6200 - val_loss: 1.3198 - val_R2: 0.5450\n",
      "Epoch 26/100\n",
      "32/32 [==============================] - 14s 436ms/step - loss: 1.0338 - R2: 0.6181 - val_loss: 1.2727 - val_R2: 0.5542\n",
      "Epoch 27/100\n",
      "32/32 [==============================] - 13s 410ms/step - loss: 1.0063 - R2: 0.6311 - val_loss: 1.2661 - val_R2: 0.5572\n",
      "Epoch 28/100\n",
      "32/32 [==============================] - 13s 409ms/step - loss: 0.9965 - R2: 0.6354 - val_loss: 1.1798 - val_R2: 0.5806\n",
      "Epoch 29/100\n",
      "32/32 [==============================] - 13s 410ms/step - loss: 1.0556 - R2: 0.6136 - val_loss: 1.3961 - val_R2: 0.5065\n",
      "Epoch 30/100\n",
      "32/32 [==============================] - 13s 412ms/step - loss: 1.1119 - R2: 0.5868 - val_loss: 1.2860 - val_R2: 0.5469\n",
      "Epoch 31/100\n",
      "32/32 [==============================] - 13s 413ms/step - loss: 1.0423 - R2: 0.6215 - val_loss: 1.3182 - val_R2: 0.5438\n",
      "Epoch 32/100\n",
      "32/32 [==============================] - 13s 414ms/step - loss: 0.9993 - R2: 0.6332 - val_loss: 1.2564 - val_R2: 0.5609\n",
      "Epoch 33/100\n",
      "32/32 [==============================] - 13s 409ms/step - loss: 0.9370 - R2: 0.6514 - val_loss: 1.2319 - val_R2: 0.5609\n",
      "Epoch 34/100\n",
      "32/32 [==============================] - 13s 413ms/step - loss: 0.9674 - R2: 0.6426 - val_loss: 1.2186 - val_R2: 0.5842\n",
      "Epoch 35/100\n",
      "32/32 [==============================] - 13s 411ms/step - loss: 0.9283 - R2: 0.6618 - val_loss: 1.2145 - val_R2: 0.5818\n",
      "Epoch 36/100\n",
      "32/32 [==============================] - 13s 412ms/step - loss: 0.9500 - R2: 0.6480 - val_loss: 1.4275 - val_R2: 0.5087\n",
      "Epoch 37/100\n",
      "32/32 [==============================] - 13s 408ms/step - loss: 0.9599 - R2: 0.6492 - val_loss: 1.2494 - val_R2: 0.5656\n",
      "Epoch 38/100\n",
      "32/32 [==============================] - 13s 409ms/step - loss: 0.9357 - R2: 0.6518 - val_loss: 1.3025 - val_R2: 0.5443\n",
      "Epoch 39/100\n",
      "32/32 [==============================] - 13s 410ms/step - loss: 0.9531 - R2: 0.6522 - val_loss: 1.2085 - val_R2: 0.5614\n",
      "Epoch 40/100\n",
      "32/32 [==============================] - 13s 408ms/step - loss: 0.8584 - R2: 0.6863 - val_loss: 1.2289 - val_R2: 0.5712\n",
      "Epoch 41/100\n",
      "32/32 [==============================] - 13s 411ms/step - loss: 0.8900 - R2: 0.6756 - val_loss: 1.3306 - val_R2: 0.5298\n",
      "Epoch 42/100\n",
      "32/32 [==============================] - 13s 410ms/step - loss: 0.9416 - R2: 0.6543 - val_loss: 1.2293 - val_R2: 0.5678\n",
      "Epoch 43/100\n",
      "32/32 [==============================] - 13s 416ms/step - loss: 0.9202 - R2: 0.6613 - val_loss: 1.1488 - val_R2: 0.6018\n",
      "Epoch 44/100\n",
      "32/32 [==============================] - 13s 411ms/step - loss: 0.9030 - R2: 0.6611 - val_loss: 1.1786 - val_R2: 0.5935\n",
      "Epoch 45/100\n",
      "32/32 [==============================] - 13s 408ms/step - loss: 0.8573 - R2: 0.6803 - val_loss: 1.1269 - val_R2: 0.5991\n",
      "Epoch 46/100\n",
      "32/32 [==============================] - 13s 408ms/step - loss: 0.9318 - R2: 0.6599 - val_loss: 1.3534 - val_R2: 0.5076\n",
      "Epoch 47/100\n",
      "32/32 [==============================] - 13s 409ms/step - loss: 0.9185 - R2: 0.6628 - val_loss: 1.2164 - val_R2: 0.5707\n",
      "Epoch 48/100\n",
      "32/32 [==============================] - 13s 408ms/step - loss: 0.8510 - R2: 0.6848 - val_loss: 1.2052 - val_R2: 0.5701\n",
      "Epoch 49/100\n",
      "32/32 [==============================] - 14s 423ms/step - loss: 0.8350 - R2: 0.6954 - val_loss: 1.2248 - val_R2: 0.5750\n",
      "Epoch 50/100\n",
      "32/32 [==============================] - 15s 453ms/step - loss: 0.8296 - R2: 0.6946 - val_loss: 1.2923 - val_R2: 0.5454\n",
      "Epoch 51/100\n",
      "32/32 [==============================] - 14s 437ms/step - loss: 0.8756 - R2: 0.6810 - val_loss: 1.2925 - val_R2: 0.5391\n",
      "Epoch 52/100\n",
      "32/32 [==============================] - 15s 473ms/step - loss: 0.9106 - R2: 0.6672 - val_loss: 1.4474 - val_R2: 0.4849\n",
      "Epoch 53/100\n",
      "32/32 [==============================] - 14s 451ms/step - loss: 0.9216 - R2: 0.6604 - val_loss: 1.3496 - val_R2: 0.5167\n",
      "Epoch 54/100\n",
      "32/32 [==============================] - 14s 421ms/step - loss: 0.8944 - R2: 0.6681 - val_loss: 1.2627 - val_R2: 0.5628\n",
      "Epoch 55/100\n",
      "32/32 [==============================] - 13s 412ms/step - loss: 0.8508 - R2: 0.6872 - val_loss: 1.1608 - val_R2: 0.5894\n",
      "Epoch 56/100\n",
      "32/32 [==============================] - 14s 436ms/step - loss: 0.8228 - R2: 0.6976 - val_loss: 1.2456 - val_R2: 0.5618\n",
      "Epoch 57/100\n",
      "32/32 [==============================] - 16s 498ms/step - loss: 0.8038 - R2: 0.7060 - val_loss: 1.3438 - val_R2: 0.5283\n",
      "Epoch 58/100\n",
      "32/32 [==============================] - 14s 442ms/step - loss: 0.8221 - R2: 0.6995 - val_loss: 1.1128 - val_R2: 0.6190\n",
      "Epoch 59/100\n",
      "32/32 [==============================] - 14s 435ms/step - loss: 0.7656 - R2: 0.7178 - val_loss: 1.0822 - val_R2: 0.6207\n",
      "Epoch 60/100\n",
      "32/32 [==============================] - 15s 454ms/step - loss: 0.7757 - R2: 0.7198 - val_loss: 1.1417 - val_R2: 0.6024\n",
      "Epoch 61/100\n",
      "32/32 [==============================] - 14s 449ms/step - loss: 0.8189 - R2: 0.6995 - val_loss: 1.2423 - val_R2: 0.5700\n",
      "Epoch 62/100\n",
      "32/32 [==============================] - 15s 464ms/step - loss: 0.8230 - R2: 0.6974 - val_loss: 1.2488 - val_R2: 0.5716\n",
      "Epoch 63/100\n",
      "32/32 [==============================] - 14s 421ms/step - loss: 0.7988 - R2: 0.7053 - val_loss: 1.1843 - val_R2: 0.5820\n",
      "Epoch 64/100\n",
      "32/32 [==============================] - 15s 466ms/step - loss: 0.7772 - R2: 0.7147 - val_loss: 1.1086 - val_R2: 0.6238\n",
      "Epoch 65/100\n",
      "32/32 [==============================] - 16s 498ms/step - loss: 0.7774 - R2: 0.7148 - val_loss: 1.1691 - val_R2: 0.5920\n",
      "Epoch 66/100\n",
      "32/32 [==============================] - 16s 509ms/step - loss: 0.7569 - R2: 0.7205 - val_loss: 1.2655 - val_R2: 0.5615\n",
      "Epoch 67/100\n",
      "32/32 [==============================] - 15s 463ms/step - loss: 0.7762 - R2: 0.7126 - val_loss: 1.1887 - val_R2: 0.5713\n",
      "Epoch 68/100\n",
      "32/32 [==============================] - 14s 447ms/step - loss: 0.7875 - R2: 0.7090 - val_loss: 1.5420 - val_R2: 0.4758\n",
      "Epoch 69/100\n",
      "32/32 [==============================] - 15s 459ms/step - loss: 0.8161 - R2: 0.7009 - val_loss: 1.2296 - val_R2: 0.5765\n",
      "Epoch 70/100\n",
      "32/32 [==============================] - 14s 436ms/step - loss: 0.7806 - R2: 0.7049 - val_loss: 1.2865 - val_R2: 0.5537\n",
      "Epoch 71/100\n",
      "32/32 [==============================] - 15s 457ms/step - loss: 0.7759 - R2: 0.7136 - val_loss: 1.1018 - val_R2: 0.6115\n",
      "Epoch 72/100\n",
      "32/32 [==============================] - 15s 453ms/step - loss: 0.7517 - R2: 0.7214 - val_loss: 1.1858 - val_R2: 0.5906\n",
      "Epoch 73/100\n",
      "32/32 [==============================] - 17s 538ms/step - loss: 0.7815 - R2: 0.7127 - val_loss: 1.0997 - val_R2: 0.6182\n",
      "Epoch 74/100\n",
      "32/32 [==============================] - 16s 499ms/step - loss: 0.6993 - R2: 0.7393 - val_loss: 1.1676 - val_R2: 0.6000\n",
      "Epoch 75/100\n",
      "32/32 [==============================] - 15s 467ms/step - loss: 0.7716 - R2: 0.7143 - val_loss: 1.4991 - val_R2: 0.4684\n",
      "Epoch 76/100\n",
      "32/32 [==============================] - 15s 453ms/step - loss: 0.7717 - R2: 0.7108 - val_loss: 1.2278 - val_R2: 0.5693\n",
      "Epoch 77/100\n",
      "32/32 [==============================] - 14s 443ms/step - loss: 0.7346 - R2: 0.7313 - val_loss: 1.2313 - val_R2: 0.5554\n",
      "Epoch 78/100\n",
      "32/32 [==============================] - 15s 467ms/step - loss: 0.7044 - R2: 0.7357 - val_loss: 1.1544 - val_R2: 0.5956\n",
      "Epoch 79/100\n",
      "32/32 [==============================] - 17s 527ms/step - loss: 0.6982 - R2: 0.7408 - val_loss: 1.1239 - val_R2: 0.6059\n",
      "Epoch 80/100\n",
      "32/32 [==============================] - 15s 473ms/step - loss: 0.7055 - R2: 0.7370 - val_loss: 1.2050 - val_R2: 0.5606\n",
      "Epoch 81/100\n",
      "32/32 [==============================] - 15s 456ms/step - loss: 0.7535 - R2: 0.7191 - val_loss: 1.2235 - val_R2: 0.5710\n",
      "Epoch 82/100\n",
      "32/32 [==============================] - 16s 497ms/step - loss: 0.7156 - R2: 0.7374 - val_loss: 1.2285 - val_R2: 0.5812\n",
      "Epoch 83/100\n",
      "32/32 [==============================] - 15s 461ms/step - loss: 0.7652 - R2: 0.7188 - val_loss: 1.1750 - val_R2: 0.5899\n",
      "Epoch 84/100\n",
      "32/32 [==============================] - 15s 468ms/step - loss: 0.7239 - R2: 0.7337 - val_loss: 1.2329 - val_R2: 0.5637\n",
      "Epoch 85/100\n",
      "32/32 [==============================] - 15s 456ms/step - loss: 0.7114 - R2: 0.7409 - val_loss: 1.1053 - val_R2: 0.6131\n",
      "Epoch 86/100\n",
      "32/32 [==============================] - 15s 459ms/step - loss: 0.6838 - R2: 0.7478 - val_loss: 1.1485 - val_R2: 0.5992\n",
      "Epoch 87/100\n",
      "32/32 [==============================] - 15s 471ms/step - loss: 0.6989 - R2: 0.7411 - val_loss: 1.1003 - val_R2: 0.6219\n",
      "Epoch 88/100\n",
      "32/32 [==============================] - 15s 462ms/step - loss: 0.7095 - R2: 0.7415 - val_loss: 1.1204 - val_R2: 0.5987\n",
      "Epoch 89/100\n",
      "32/32 [==============================] - 15s 469ms/step - loss: 0.6915 - R2: 0.7453 - val_loss: 1.1104 - val_R2: 0.6177\n",
      "Epoch 90/100\n",
      "32/32 [==============================] - 15s 466ms/step - loss: 0.7073 - R2: 0.7341 - val_loss: 1.1209 - val_R2: 0.6140\n",
      "Epoch 91/100\n",
      "32/32 [==============================] - 15s 465ms/step - loss: 0.6677 - R2: 0.7527 - val_loss: 1.1624 - val_R2: 0.5847\n",
      "Epoch 92/100\n",
      "32/32 [==============================] - 15s 453ms/step - loss: 0.6986 - R2: 0.7448 - val_loss: 1.1144 - val_R2: 0.5933\n",
      "Epoch 93/100\n",
      "32/32 [==============================] - 15s 452ms/step - loss: 0.6532 - R2: 0.7595 - val_loss: 1.1783 - val_R2: 0.5885\n",
      "Epoch 94/100\n",
      "32/32 [==============================] - 15s 459ms/step - loss: 0.6549 - R2: 0.7595 - val_loss: 1.1657 - val_R2: 0.5957\n",
      "Epoch 95/100\n",
      "32/32 [==============================] - 14s 444ms/step - loss: 0.6549 - R2: 0.7582 - val_loss: 1.2839 - val_R2: 0.5548\n",
      "Epoch 96/100\n",
      "32/32 [==============================] - 15s 465ms/step - loss: 0.6766 - R2: 0.7533 - val_loss: 1.2124 - val_R2: 0.5766\n",
      "Epoch 97/100\n",
      "32/32 [==============================] - 14s 421ms/step - loss: 0.6545 - R2: 0.7578 - val_loss: 1.2186 - val_R2: 0.5624\n",
      "Epoch 98/100\n",
      "32/32 [==============================] - 13s 412ms/step - loss: 0.6622 - R2: 0.7548 - val_loss: 1.1741 - val_R2: 0.5971\n",
      "Epoch 99/100\n",
      "32/32 [==============================] - 13s 420ms/step - loss: 0.6414 - R2: 0.7670 - val_loss: 1.1585 - val_R2: 0.5970\n",
      "Epoch 100/100\n",
      "32/32 [==============================] - 13s 417ms/step - loss: 0.6395 - R2: 0.7640 - val_loss: 1.1980 - val_R2: 0.5851\n"
     ]
    }
   ],
   "source": [
    "history = model.fit(dgen_train, epochs=100, validation_data=dgen_test)"
   ]
  },
  {
   "cell_type": "code",
   "execution_count": 38,
   "id": "a0242588-eede-4e85-8b83-f207ea8ab757",
   "metadata": {},
   "outputs": [],
   "source": [
    "X_test_eval = []\n",
    "y_t_eval = []\n",
    "for X_t, y_t in dgen_test:\n",
    "    X_test_eval = X_test_eval + [list(t) for t in X_t]\n",
    "    y_t_eval = y_t_eval + list(y_t)\n",
    "X_test_eval = np.array(X_test_eval)\n",
    "y_test = np.array(y_t_eval)"
   ]
  },
  {
   "cell_type": "code",
   "execution_count": 39,
   "id": "a1437cbf-fe44-4999-a44b-05cea765f22b",
   "metadata": {},
   "outputs": [
    {
     "data": {
      "text/plain": [
       "((1021, 227), (1021,))"
      ]
     },
     "execution_count": 39,
     "metadata": {},
     "output_type": "execute_result"
    }
   ],
   "source": [
    "X_test_eval.shape, y_test.shape"
   ]
  },
  {
   "cell_type": "code",
   "execution_count": 40,
   "id": "0084fbb1-e83e-4808-99bf-1458f3ea3076",
   "metadata": {},
   "outputs": [],
   "source": [
    "y_pred = model.predict(X_test_eval)"
   ]
  },
  {
   "cell_type": "markdown",
   "id": "382979a3-f299-4762-8b6d-10a6ea4d3c70",
   "metadata": {},
   "source": [
    "# Score"
   ]
  },
  {
   "cell_type": "code",
   "execution_count": 41,
   "id": "f9fd5d60-841f-46c3-94b6-5755b4d548cd",
   "metadata": {},
   "outputs": [],
   "source": [
    "r2 = 1 - ((y_test - y_pred.reshape(-1)) ** 2).sum() / ((y_test - y_test.mean()) ** 2).sum()"
   ]
  },
  {
   "cell_type": "code",
   "execution_count": 42,
   "id": "4d2bfabe-2e3e-40cf-a1e8-2d458ee7f328",
   "metadata": {},
   "outputs": [
    {
     "data": {
      "text/plain": [
       "0.5849745262563306"
      ]
     },
     "execution_count": 42,
     "metadata": {},
     "output_type": "execute_result"
    }
   ],
   "source": [
    "r2\n"
   ]
  },
  {
   "cell_type": "code",
   "execution_count": 43,
   "id": "85262541-e04a-4ff2-b3e6-a47643db66f6",
   "metadata": {},
   "outputs": [],
   "source": [
    "filename = 'models/embed_128_text_cnn_aug_100x100_0.0001.h5'\n",
    "model.save(filename)"
   ]
  },
  {
   "cell_type": "code",
   "execution_count": 44,
   "id": "67cf753c-a7f6-4b8a-abe3-3253986cc53a",
   "metadata": {},
   "outputs": [
    {
     "name": "stdout",
     "output_type": "stream",
     "text": [
      "Model: \"model\"\n",
      "__________________________________________________________________________________________________\n",
      "Layer (type)                    Output Shape         Param #     Connected to                     \n",
      "==================================================================================================\n",
      "input_x (InputLayer)            [(None, 227)]        0                                            \n",
      "__________________________________________________________________________________________________\n",
      "embedding (Embedding)           (None, 227, 200)     8600        input_x[0][0]                    \n",
      "__________________________________________________________________________________________________\n",
      "conv1d (Conv1D)                 (None, 227, 32)      12832       embedding[0][0]                  \n",
      "__________________________________________________________________________________________________\n",
      "conv1d_1 (Conv1D)               (None, 227, 32)      19232       embedding[0][0]                  \n",
      "__________________________________________________________________________________________________\n",
      "conv1d_2 (Conv1D)               (None, 227, 32)      32032       embedding[0][0]                  \n",
      "__________________________________________________________________________________________________\n",
      "conv1d_3 (Conv1D)               (None, 227, 32)      51232       embedding[0][0]                  \n",
      "__________________________________________________________________________________________________\n",
      "conv1d_4 (Conv1D)               (None, 227, 32)      83232       embedding[0][0]                  \n",
      "__________________________________________________________________________________________________\n",
      "max_pooling1d (MaxPooling1D)    (None, 226, 32)      0           conv1d[0][0]                     \n",
      "__________________________________________________________________________________________________\n",
      "max_pooling1d_1 (MaxPooling1D)  (None, 226, 32)      0           conv1d_1[0][0]                   \n",
      "__________________________________________________________________________________________________\n",
      "max_pooling1d_2 (MaxPooling1D)  (None, 226, 32)      0           conv1d_2[0][0]                   \n",
      "__________________________________________________________________________________________________\n",
      "max_pooling1d_3 (MaxPooling1D)  (None, 226, 32)      0           conv1d_3[0][0]                   \n",
      "__________________________________________________________________________________________________\n",
      "max_pooling1d_4 (MaxPooling1D)  (None, 226, 32)      0           conv1d_4[0][0]                   \n",
      "__________________________________________________________________________________________________\n",
      "concatenate (Concatenate)       (None, 226, 160)     0           max_pooling1d[0][0]              \n",
      "                                                                 max_pooling1d_1[0][0]            \n",
      "                                                                 max_pooling1d_2[0][0]            \n",
      "                                                                 max_pooling1d_3[0][0]            \n",
      "                                                                 max_pooling1d_4[0][0]            \n",
      "__________________________________________________________________________________________________\n",
      "flatten (Flatten)               (None, 36160)        0           concatenate[0][0]                \n",
      "__________________________________________________________________________________________________\n",
      "dense (Dense)                   (None, 200)          7232200     flatten[0][0]                    \n",
      "__________________________________________________________________________________________________\n",
      "dense_1 (Dense)                 (None, 50)           10050       dense[0][0]                      \n",
      "__________________________________________________________________________________________________\n",
      "dense_2 (Dense)                 (None, 1)            51          dense_1[0][0]                    \n",
      "==================================================================================================\n",
      "Total params: 7,449,461\n",
      "Trainable params: 7,449,461\n",
      "Non-trainable params: 0\n",
      "__________________________________________________________________________________________________\n"
     ]
    }
   ],
   "source": [
    "model.summary()"
   ]
  },
  {
   "cell_type": "markdown",
   "id": "5f683e18-c876-4f7c-93ea-a33d495dcdaa",
   "metadata": {},
   "source": [
    "# Load model (solo si se grabo el modelo)"
   ]
  },
  {
   "cell_type": "code",
   "execution_count": 45,
   "id": "285c8740-f0bb-4237-8593-ff9b815de0e3",
   "metadata": {},
   "outputs": [],
   "source": [
    "from tensorflow.keras.models import load_model"
   ]
  },
  {
   "cell_type": "code",
   "execution_count": 46,
   "id": "2168984f-770c-436e-92da-c1344b1d3abc",
   "metadata": {},
   "outputs": [],
   "source": [
    "model_loaded = load_model(filename, custom_objects={'R2': R2})"
   ]
  },
  {
   "cell_type": "code",
   "execution_count": 47,
   "id": "13a9d7d8-41e0-44a0-a8b9-02157a11f8f2",
   "metadata": {},
   "outputs": [],
   "source": [
    "y_pred = model_loaded.predict(X_test_eval)"
   ]
  },
  {
   "cell_type": "code",
   "execution_count": 48,
   "id": "26c63493-3f25-4383-9654-58ee62aa3ae5",
   "metadata": {},
   "outputs": [
    {
     "data": {
      "text/plain": [
       "0.5849745262563306"
      ]
     },
     "execution_count": 48,
     "metadata": {},
     "output_type": "execute_result"
    }
   ],
   "source": [
    "r2 = 1 - ((y_test - y_pred.reshape(-1)) ** 2).sum() / ((y_test - y_test.mean()) ** 2).sum()\n",
    "r2"
   ]
  },
  {
   "cell_type": "markdown",
   "id": "7f1a6260-e31f-4e5e-a923-ce67bf31152f",
   "metadata": {},
   "source": [
    "# Evaluación"
   ]
  },
  {
   "cell_type": "code",
   "execution_count": 49,
   "id": "7dd9d7e6-2789-459e-b9dd-593e10847fc4",
   "metadata": {},
   "outputs": [
    {
     "data": {
      "text/plain": [
       "<function matplotlib.pyplot.show(close=None, block=None)>"
      ]
     },
     "execution_count": 49,
     "metadata": {},
     "output_type": "execute_result"
    },
    {
     "data": {
      "image/png": "[encoded data removed]",
      "text/plain": [
       "<Figure size 360x360 with 1 Axes>"
      ]
     },
     "metadata": {},
     "output_type": "display_data"
    }
   ],
   "source": [
    "import seaborn as sns\n",
    "import matplotlib.pyplot as plt\n",
    "\n",
    "sns.set(color_codes=True)\n",
    "sns.set_style(\"white\")\n",
    "\n",
    "ax = sns.regplot(x=y_test, y=y_pred, scatter_kws={'alpha':0.4})\n",
    "ax.set_xlabel('Experimental pIC50', fontsize='large', fontweight='bold')\n",
    "ax.set_ylabel('Predicted pIC50', fontsize='large', fontweight='bold')\n",
    "ax.set_xlim(0, 12)\n",
    "ax.set_ylim(0, 12)\n",
    "ax.figure.set_size_inches(5, 5)\n",
    "plt.show"
   ]
  },
  {
   "cell_type": "code",
   "execution_count": null,
   "id": "3f9f2cc6-8687-4676-b1aa-437914379f12",
   "metadata": {},
   "outputs": [],
   "source": []
  }
 ],
 "metadata": {
  "kernelspec": {
   "display_name": "Python 3",
   "language": "python",
   "name": "python3"
  },
  "language_info": {
   "codemirror_mode": {
    "name": "ipython",
    "version": 3
   },
   "file_extension": ".py",
   "mimetype": "text/x-python",
   "name": "python",
   "nbconvert_exporter": "python",
   "pygments_lexer": "ipython3",
   "version": "3.7.9"
  }
 },
 "nbformat": 4,
 "nbformat_minor": 5
}
