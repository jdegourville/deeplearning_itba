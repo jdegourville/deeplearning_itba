{
 "cells": [
  {
   "cell_type": "markdown",
   "id": "afc92861-86dc-44ad-b27c-b5ffd044472a",
   "metadata": {},
   "source": [
    "# ¿Que más se podría hacer?"
   ]
  },
  {
   "cell_type": "markdown",
   "id": "704dd533-a652-4bbf-97b9-e2923e11d78d",
   "metadata": {},
   "source": [
    "- Test con data augmentation y la LSTM\n",
    "- Usar los tokenizadores usados en los transformers para ver como funcionan\n",
    "- TSNE de embeddings y analizar si hay interpretación\n",
    "- Probar con otras encimas o proteinas\n",
    "- Usar los embeddings entrenados para analizar resultados de proteinas o encimas con menos data\n",
    "- Entrenar una red neuronal con los features (fingerprints por ejemplo) y comparar los resultados con los embeddings\n"
   ]
  },
  {
   "cell_type": "markdown",
   "id": "2085f015-56fa-4364-958d-b7a0786372af",
   "metadata": {},
   "source": [
    "# Tome cualquiera de estas propuestas o alguna suya y desarrolle"
   ]
  },
  {
   "cell_type": "code",
   "execution_count": 1,
   "id": "3bda68d7-f66c-4457-a876-9a8808961880",
   "metadata": {},
   "outputs": [],
   "source": [
    "# LSTM con data augmentation\n",
    "\n",
    "import pandas as pd\n",
    "import numpy as np"
   ]
  },
  {
   "cell_type": "code",
   "execution_count": 2,
   "id": "26d63009",
   "metadata": {},
   "outputs": [],
   "source": [
    "df = pd.read_csv('data/acetylcholinesterase_02_bioactivity_data_preprocessed.csv')"
   ]
  },
  {
   "cell_type": "code",
   "execution_count": 3,
   "id": "0a8247fa",
   "metadata": {},
   "outputs": [
    {
     "data": {
      "text/html": [
       "<div>\n",
       "<style scoped>\n",
       "    .dataframe tbody tr th:only-of-type {\n",
       "        vertical-align: middle;\n",
       "    }\n",
       "\n",
       "    .dataframe tbody tr th {\n",
       "        vertical-align: top;\n",
       "    }\n",
       "\n",
       "    .dataframe thead th {\n",
       "        text-align: right;\n",
       "    }\n",
       "</style>\n",
       "<table border=\"1\" class=\"dataframe\">\n",
       "  <thead>\n",
       "    <tr style=\"text-align: right;\">\n",
       "      <th></th>\n",
       "      <th>molecule_chembl_id</th>\n",
       "      <th>canonical_smiles</th>\n",
       "      <th>standard_value</th>\n",
       "      <th>standard_value_norm</th>\n",
       "      <th>pIC50</th>\n",
       "    </tr>\n",
       "  </thead>\n",
       "  <tbody>\n",
       "    <tr>\n",
       "      <th>0</th>\n",
       "      <td>CHEMBL133897</td>\n",
       "      <td>CCOc1nn(-c2cccc(OCc3ccccc3)c2)c(=O)o1</td>\n",
       "      <td>750.0</td>\n",
       "      <td>750.0</td>\n",
       "      <td>6.124939</td>\n",
       "    </tr>\n",
       "    <tr>\n",
       "      <th>1</th>\n",
       "      <td>CHEMBL336398</td>\n",
       "      <td>O=C(N1CCCCC1)n1nc(-c2ccc(Cl)cc2)nc1SCC1CC1</td>\n",
       "      <td>100.0</td>\n",
       "      <td>100.0</td>\n",
       "      <td>7.000000</td>\n",
       "    </tr>\n",
       "    <tr>\n",
       "      <th>2</th>\n",
       "      <td>CHEMBL131588</td>\n",
       "      <td>CN(C(=O)n1nc(-c2ccc(Cl)cc2)nc1SCC(F)(F)F)c1ccccc1</td>\n",
       "      <td>50000.0</td>\n",
       "      <td>50000.0</td>\n",
       "      <td>4.301030</td>\n",
       "    </tr>\n",
       "    <tr>\n",
       "      <th>3</th>\n",
       "      <td>CHEMBL130628</td>\n",
       "      <td>O=C(N1CCCCC1)n1nc(-c2ccc(Cl)cc2)nc1SCC(F)(F)F</td>\n",
       "      <td>300.0</td>\n",
       "      <td>300.0</td>\n",
       "      <td>6.522879</td>\n",
       "    </tr>\n",
       "    <tr>\n",
       "      <th>4</th>\n",
       "      <td>CHEMBL130478</td>\n",
       "      <td>CSc1nc(-c2ccc(OC(F)(F)F)cc2)nn1C(=O)N(C)C</td>\n",
       "      <td>800.0</td>\n",
       "      <td>800.0</td>\n",
       "      <td>6.096910</td>\n",
       "    </tr>\n",
       "  </tbody>\n",
       "</table>\n",
       "</div>"
      ],
      "text/plain": [
       "  molecule_chembl_id                                   canonical_smiles  \\\n",
       "0       CHEMBL133897              CCOc1nn(-c2cccc(OCc3ccccc3)c2)c(=O)o1   \n",
       "1       CHEMBL336398         O=C(N1CCCCC1)n1nc(-c2ccc(Cl)cc2)nc1SCC1CC1   \n",
       "2       CHEMBL131588  CN(C(=O)n1nc(-c2ccc(Cl)cc2)nc1SCC(F)(F)F)c1ccccc1   \n",
       "3       CHEMBL130628      O=C(N1CCCCC1)n1nc(-c2ccc(Cl)cc2)nc1SCC(F)(F)F   \n",
       "4       CHEMBL130478          CSc1nc(-c2ccc(OC(F)(F)F)cc2)nn1C(=O)N(C)C   \n",
       "\n",
       "   standard_value  standard_value_norm     pIC50  \n",
       "0           750.0                750.0  6.124939  \n",
       "1           100.0                100.0  7.000000  \n",
       "2         50000.0              50000.0  4.301030  \n",
       "3           300.0                300.0  6.522879  \n",
       "4           800.0                800.0  6.096910  "
      ]
     },
     "execution_count": 3,
     "metadata": {},
     "output_type": "execute_result"
    }
   ],
   "source": [
    "df.head()"
   ]
  },
  {
   "cell_type": "code",
   "execution_count": 4,
   "id": "3538cd02",
   "metadata": {},
   "outputs": [],
   "source": [
    "X = df['canonical_smiles'].values\n",
    "y = df['pIC50'].values"
   ]
  },
  {
   "cell_type": "code",
   "execution_count": 5,
   "id": "f77d64cb",
   "metadata": {},
   "outputs": [],
   "source": [
    "from tensorflow.keras.preprocessing.text import Tokenizer\n",
    "from tensorflow.keras.preprocessing.sequence import pad_sequences"
   ]
  },
  {
   "cell_type": "code",
   "execution_count": 6,
   "id": "c2dac37d",
   "metadata": {},
   "outputs": [
    {
     "name": "stdout",
     "output_type": "stream",
     "text": [
      "[PhysicalDevice(name='/physical_device:GPU:0', device_type='GPU')]\n"
     ]
    }
   ],
   "source": [
    "import tensorflow as tf\n",
    "\n",
    "physical_devices = tf.config.list_physical_devices('GPU')\n",
    "print(physical_devices)\n"
   ]
  },
  {
   "cell_type": "code",
   "execution_count": 7,
   "id": "dd4ca036",
   "metadata": {},
   "outputs": [],
   "source": [
    "\n",
    "tf.config.experimental.set_memory_growth(physical_devices[0], enable=True)"
   ]
  },
  {
   "cell_type": "code",
   "execution_count": 8,
   "id": "7ebd9f28",
   "metadata": {},
   "outputs": [
    {
     "name": "stdout",
     "output_type": "stream",
     "text": [
      "n1c(SC)oc(=O)n1-c1cc(OCc2ccccc2)ccc1\n",
      "C(n1c(SCC(F)(F)F)nc(-c2ccc(Cl)cc2)n1)(=O)N1CCCCC1\n",
      "c1ccccc1COc1cc(-n2c(=O)oc(SC)n2)ccc1\n",
      "c1cc(Cl)ccc1-c1nc(SCC(F)(F)F)n(C(=O)N2CCCCC2)n1\n",
      "c1cc(COc2cc(-n3nc(SC)oc3=O)ccc2)ccc1\n",
      "C(C(F)(F)F)Sc1nc(-c2ccc(Cl)cc2)nn1C(=O)N1CCCCC1\n",
      "c1ccc(COc2cccc(-n3nc(SC)oc3=O)c2)cc1\n",
      "S(CC(F)(F)F)c1nc(-c2ccc(Cl)cc2)nn1C(N1CCCCC1)=O\n",
      "c1ccccc1COc1cccc(-n2nc(SC)oc2=O)c1\n",
      "C1CCCCN1C(=O)n1nc(-c2ccc(Cl)cc2)nc1SCC(F)(F)F\n",
      "c1ccc(COc2cccc(-n3nc(SC)oc3=O)c2)cc1\n",
      "n1n(C(=O)N2CCCCC2)c(SCC(F)(F)F)nc1-c1ccc(Cl)cc1\n",
      "c1c(COc2cc(-n3nc(SC)oc3=O)ccc2)cccc1\n",
      "C1CCN(C(=O)n2c(SCC(F)(F)F)nc(-c3ccc(Cl)cc3)n2)CC1\n",
      "c1c(-n2nc(SC)oc2=O)cccc1OCc1ccccc1\n",
      "O=C(N1CCCCC1)n1nc(-c2ccc(Cl)cc2)nc1SCC(F)(F)F\n",
      "c1(COc2cc(-n3nc(SC)oc3=O)ccc2)ccccc1\n",
      "C1CCCN(C(=O)n2c(SCC(F)(F)F)nc(-c3ccc(Cl)cc3)n2)C1\n",
      "S(C)c1nn(-c2cccc(OCc3ccccc3)c2)c(=O)o1\n",
      "C1CCN(C(=O)n2nc(-c3ccc(Cl)cc3)nc2SCC(F)(F)F)CC1\n"
     ]
    }
   ],
   "source": [
    "# data augmentation\n",
    "\n",
    "from dataaug import SmilesEnumerator\n",
    "sme = SmilesEnumerator()\n",
    "for i in range(10):\n",
    "    print(sme.randomize_smiles('CSc1nn(-c2cccc(OCc3ccccc3)c2)c(=O)o1'))\n",
    "    print(sme.randomize_smiles('O=C(N1CCCCC1)n1nc(-c2ccc(Cl)cc2)nc1SCC(F)(F)F'))"
   ]
  },
  {
   "cell_type": "code",
   "execution_count": 9,
   "id": "db50f6b3",
   "metadata": {},
   "outputs": [],
   "source": [
    "\n",
    "from datagen import smiles_dict, smiles_to_seq\n"
   ]
  },
  {
   "cell_type": "code",
   "execution_count": 10,
   "id": "359a3b33",
   "metadata": {},
   "outputs": [],
   "source": [
    "from datagen import DataGenerator"
   ]
  },
  {
   "cell_type": "code",
   "execution_count": 11,
   "id": "6f9cf583",
   "metadata": {},
   "outputs": [],
   "source": [
    "max_len_idx = df['canonical_smiles'].apply(len).argmax()\n",
    "min_len_idx = df['canonical_smiles'].apply(len).argmin()\n",
    "\n",
    "max_sequence_len = len(df['canonical_smiles'].iloc[max_len_idx]) + 20"
   ]
  },
  {
   "cell_type": "code",
   "execution_count": 12,
   "id": "6d9f0f6c",
   "metadata": {},
   "outputs": [
    {
     "data": {
      "text/plain": [
       "227"
      ]
     },
     "execution_count": 12,
     "metadata": {},
     "output_type": "execute_result"
    }
   ],
   "source": [
    "max_sequence_len"
   ]
  },
  {
   "cell_type": "code",
   "execution_count": 13,
   "id": "2a6eaf2e",
   "metadata": {},
   "outputs": [],
   "source": [
    "dgen = DataGenerator(X, y, max_sequence_len, batch_size=16)"
   ]
  },
  {
   "cell_type": "code",
   "execution_count": 14,
   "id": "f4bdb1fe",
   "metadata": {},
   "outputs": [
    {
     "data": {
      "text/plain": [
       "5104"
      ]
     },
     "execution_count": 14,
     "metadata": {},
     "output_type": "execute_result"
    }
   ],
   "source": [
    "len(dgen) * dgen.batch_size"
   ]
  },
  {
   "cell_type": "code",
   "execution_count": 15,
   "id": "9faccb0e",
   "metadata": {},
   "outputs": [
    {
     "name": "stdout",
     "output_type": "stream",
     "text": [
      "318\r"
     ]
    }
   ],
   "source": [
    "for i, (X_b, y_b) in enumerate(dgen):\n",
    "    print(f'{i}\\r', end='')"
   ]
  },
  {
   "cell_type": "code",
   "execution_count": 16,
   "id": "1483d715",
   "metadata": {},
   "outputs": [
    {
     "data": {
      "text/plain": [
       "319"
      ]
     },
     "execution_count": 16,
     "metadata": {},
     "output_type": "execute_result"
    }
   ],
   "source": [
    "len(dgen)"
   ]
  },
  {
   "cell_type": "code",
   "execution_count": 17,
   "id": "28b4c004",
   "metadata": {},
   "outputs": [
    {
     "data": {
      "text/plain": [
       "(array([[21,  2, 16, ...,  0,  0,  0],\n",
       "        [16,  7, 16, ...,  0,  0,  0],\n",
       "        [28,  7,  2, ...,  0,  0,  0],\n",
       "        ...,\n",
       "        [28,  7,  8, ...,  0,  0,  0],\n",
       "        [28,  7, 28, ...,  0,  0,  0],\n",
       "        [28,  7, 28, ...,  0,  0,  0]]),\n",
       " array([6.57057074, 5.30103   , 6.56863624, 4.87999991, 7.        ,\n",
       "        3.74472749, 5.        , 6.06550155, 6.40011693, 5.32975415,\n",
       "        7.13076828, 4.69897   , 4.        , 4.90354189, 7.7212464 ]))"
      ]
     },
     "execution_count": 17,
     "metadata": {},
     "output_type": "execute_result"
    }
   ],
   "source": [
    "dgen[318]"
   ]
  },
  {
   "cell_type": "code",
   "execution_count": 18,
   "id": "c93ae363",
   "metadata": {},
   "outputs": [
    {
     "data": {
      "text/plain": [
       "array(['CCOc1nn(-c2cccc(OCc3ccccc3)c2)c(=O)o1',\n",
       "       'O=C(N1CCCCC1)n1nc(-c2ccc(Cl)cc2)nc1SCC1CC1',\n",
       "       'CN(C(=O)n1nc(-c2ccc(Cl)cc2)nc1SCC(F)(F)F)c1ccccc1', ...,\n",
       "       'COc1ccc(-c2csc(NC(=O)CCN3CCCC3)n2)cc1',\n",
       "       'COc1cc(C2C3=C(CCCC3=O)NC3=C2C(=O)CCC3)ccc1OCc1ccc(F)cc1',\n",
       "       'O=C1CCCC2=C1C(c1ccc(OCc3cccc(F)c3)c(Br)c1)C1=C(CCCC1=O)N2'],\n",
       "      dtype=object)"
      ]
     },
     "execution_count": 18,
     "metadata": {},
     "output_type": "execute_result"
    }
   ],
   "source": [
    "X"
   ]
  },
  {
   "cell_type": "code",
   "execution_count": 19,
   "id": "1bb54b97",
   "metadata": {},
   "outputs": [
    {
     "data": {
      "text/plain": [
       "(5103,)"
      ]
     },
     "execution_count": 19,
     "metadata": {},
     "output_type": "execute_result"
    }
   ],
   "source": [
    "X.shape"
   ]
  },
  {
   "cell_type": "code",
   "execution_count": null,
   "id": "d8de2a4e",
   "metadata": {},
   "outputs": [],
   "source": []
  },
  {
   "cell_type": "code",
   "execution_count": 20,
   "id": "507459a7",
   "metadata": {},
   "outputs": [
    {
     "data": {
      "text/plain": [
       "(15, 227)"
      ]
     },
     "execution_count": 20,
     "metadata": {},
     "output_type": "execute_result"
    }
   ],
   "source": [
    "X_b.shape"
   ]
  },
  {
   "cell_type": "code",
   "execution_count": 21,
   "id": "288a22e1",
   "metadata": {},
   "outputs": [
    {
     "data": {
      "text/plain": [
       "(15,)"
      ]
     },
     "execution_count": 21,
     "metadata": {},
     "output_type": "execute_result"
    }
   ],
   "source": [
    "y_b.shape"
   ]
  },
  {
   "cell_type": "code",
   "execution_count": null,
   "id": "1bff5294",
   "metadata": {},
   "outputs": [],
   "source": []
  },
  {
   "cell_type": "code",
   "execution_count": 22,
   "id": "aeb1cbfa",
   "metadata": {},
   "outputs": [
    {
     "data": {
      "text/plain": [
       "(4082, 4082, 1021)"
      ]
     },
     "execution_count": 22,
     "metadata": {},
     "output_type": "execute_result"
    }
   ],
   "source": [
    "#split\n",
    "\n",
    "from sklearn.model_selection import train_test_split\n",
    "\n",
    "X_train, X_test, y_train, y_test = train_test_split(X, y, test_size=0.2, random_state=42)\n",
    "\n",
    "len(X_train), len(y_train), len(X_test)"
   ]
  },
  {
   "cell_type": "code",
   "execution_count": 23,
   "id": "8234ea90",
   "metadata": {},
   "outputs": [
    {
     "data": {
      "text/plain": [
       "array(['COc1ccccc1C(=O)Nc1ccc2c(c1)CN(C(=O)c1cccc(Cl)c1)C(=O)C2',\n",
       "       'c1ccc2oc(CNCCCCCCCNc3c4c(nc5ccccc35)CCCC4)cc2c1',\n",
       "       'C=C1c2cc(Cl)ccc2N=C2CCCCCN12', ...,\n",
       "       'O=C(Cc1cc(=O)oc2cc(O)ccc12)N/N=C1\\\\SCC(=O)N1c1c2c(nc3ccccc13)CCCC2',\n",
       "       'O=C(NCCCCCc1ccccc1)Oc1ccc(-n2cc(COc3ccc4ccc(=O)oc4c3)nn2)cc1',\n",
       "       'CN(C)Cc1ccc(CSCCCCCCCCSCc2ccc(CN(C)C)o2)o1'], dtype=object)"
      ]
     },
     "execution_count": 23,
     "metadata": {},
     "output_type": "execute_result"
    }
   ],
   "source": [
    "X_train"
   ]
  },
  {
   "cell_type": "code",
   "execution_count": 24,
   "id": "6cf6f645",
   "metadata": {},
   "outputs": [],
   "source": [
    "dgen_train = DataGenerator(X_train, y_train, seq_length=max_sequence_len, batch_size=128, data_augmentation=True)\n",
    "dgen_test = DataGenerator(X_test, y_test, seq_length=max_sequence_len, batch_size=128, data_augmentation=False)"
   ]
  },
  {
   "cell_type": "code",
   "execution_count": 25,
   "id": "4fc5d62c",
   "metadata": {},
   "outputs": [
    {
     "data": {
      "text/plain": [
       "(array([[16,  2, 21, ...,  0,  0,  0],\n",
       "        [28,  7,  8, ...,  0,  0,  0],\n",
       "        [28,  7,  2, ...,  0,  0,  0],\n",
       "        ...,\n",
       "        [16,  2, 20, ...,  0,  0,  0],\n",
       "        [16,  7, 16, ...,  0,  0,  0],\n",
       "        [16,  7, 16, ...,  0,  0,  0]]),\n",
       " array([ 5.88999985, 14.30103   ,  7.04575749,  5.45593196,  4.70245833,\n",
       "         3.        ,  4.53047252,  3.95900231,  9.13667714,  5.16241156,\n",
       "         7.09691001,  6.80134291,  6.70996539,  8.48148606,  5.88999985,\n",
       "         4.63563665,  7.65757732,  6.76955108,  7.77469072,  6.4202164 ,\n",
       "         5.        ,  7.48945499,  5.22184875,  4.96137984,  5.37675071,\n",
       "         4.08884239,  7.2915791 ,  5.52287875,  4.        ,  5.19654288,\n",
       "         4.28999999,  3.11350927,  5.87942607,  5.04575749,  2.627088  ,\n",
       "         5.16001944,  4.30627305,  4.88605665,  6.42481216,  2.8068754 ,\n",
       "         5.        ,  5.30103   ,  6.56863624,  3.        ,  3.35654732,\n",
       "         4.82623118,  4.25963731,  5.23657201,  5.52287875,  5.00966115,\n",
       "         5.52287875,  7.19928292,  8.59006688,  5.00877392,  5.38090667,\n",
       "         8.56863624,  6.2588484 ,  6.30891851,  5.70996539,  7.52287875,\n",
       "         4.26760624,  5.7721133 ,  5.79588002,  3.34872199,  4.86646109,\n",
       "         6.79588002,  8.82973828,  5.86646109,  5.63638802,  5.94692156,\n",
       "         4.        ,  2.01999663,  6.79588002,  6.64493179,  6.66154351,\n",
       "         8.09691001,  3.30103   ,  4.89962945,  6.95999136,  9.15490196,\n",
       "         6.95860731,  7.50003813,  4.87942607,  3.77314243,  6.56863624,\n",
       "         8.30364361,  6.82390874,  5.21467016,  5.01322827,  5.07572071,\n",
       "         4.67778071,  3.22621356,  7.69897   ,  5.20620962,  8.04575749,\n",
       "         4.04095861,  3.03151705,  5.06048075,  5.        ,  7.87614836,\n",
       "         4.31000002,  8.26760624,  5.20065945,  3.61978876,  7.37675071,\n",
       "         6.77001116,  9.15490196,  4.30103   ,  5.1079054 , 14.30103   ,\n",
       "         6.12493874,  2.74714697,  6.        ,  4.00130484,  6.4202164 ,\n",
       "         4.5559552 ,  4.16749109,  5.87160073,  5.41000016,  5.16070426,\n",
       "         3.69897   ,  5.13076828,  5.30103   ,  7.7856861 ,  6.86966623,\n",
       "         6.07058107,  7.61978876,  4.69250396]))"
      ]
     },
     "execution_count": 25,
     "metadata": {},
     "output_type": "execute_result"
    }
   ],
   "source": [
    "dgen_train[0]"
   ]
  },
  {
   "cell_type": "code",
   "execution_count": 26,
   "id": "95cf8c1b",
   "metadata": {},
   "outputs": [
    {
     "data": {
      "text/plain": [
       "32"
      ]
     },
     "execution_count": 26,
     "metadata": {},
     "output_type": "execute_result"
    }
   ],
   "source": [
    "len(dgen_train)"
   ]
  },
  {
   "cell_type": "code",
   "execution_count": 27,
   "id": "61a104b1",
   "metadata": {},
   "outputs": [
    {
     "data": {
      "text/plain": [
       "8"
      ]
     },
     "execution_count": 27,
     "metadata": {},
     "output_type": "execute_result"
    }
   ],
   "source": [
    "len(dgen_test)"
   ]
  },
  {
   "cell_type": "code",
   "execution_count": 28,
   "id": "6d097dd7",
   "metadata": {},
   "outputs": [],
   "source": [
    "from tensorflow.keras import Sequential\n",
    "from tensorflow.keras.layers import LSTM, Dense, Embedding, Bidirectional, Dropout, Activation, BatchNormalization\n",
    "from tensorflow.keras.callbacks import ModelCheckpoint\n",
    "from tensorflow.keras.optimizers import Adam, RMSprop\n",
    "from tensorflow.keras import backend as K"
   ]
  },
  {
   "cell_type": "code",
   "execution_count": 29,
   "id": "a1175fbb",
   "metadata": {},
   "outputs": [],
   "source": [
    "# Métrica\n",
    "\n",
    "def R2(y_true, y_pred):\n",
    "    SS_res =  K.sum(K.square( y_true-y_pred ))\n",
    "    SS_tot = K.sum(K.square( y_true - K.mean(y_true) ) )\n",
    "    return ( 1 - SS_res/(SS_tot + K.epsilon()) )"
   ]
  },
  {
   "cell_type": "code",
   "execution_count": 30,
   "id": "ad98cdba",
   "metadata": {},
   "outputs": [
    {
     "data": {
      "text/plain": [
       "38"
      ]
     },
     "execution_count": 30,
     "metadata": {},
     "output_type": "execute_result"
    }
   ],
   "source": [
    "vocab_size = 38 # valor del len del tokenizer en la LSTM previa\n",
    "vocab_size"
   ]
  },
  {
   "cell_type": "code",
   "execution_count": 31,
   "id": "b6ebaa97",
   "metadata": {},
   "outputs": [],
   "source": [
    "model = Sequential()\n",
    "\n",
    "# Implementar modelo completo\n",
    "\n",
    "model.add(Embedding(input_dim = vocab_size + 1, output_dim= 64, input_length=max_sequence_len))\n",
    "model.add(Bidirectional(LSTM(50, return_sequences=False, activation='tanh')))\n",
    "model.add(Dense(50))\n",
    "model.add(BatchNormalization())\n",
    "model.add(Activation('relu'))\n",
    "model.add(Dense(1))"
   ]
  },
  {
   "cell_type": "code",
   "execution_count": 32,
   "id": "5971e806",
   "metadata": {},
   "outputs": [
    {
     "name": "stdout",
     "output_type": "stream",
     "text": [
      "Model: \"sequential\"\n",
      "_________________________________________________________________\n",
      "Layer (type)                 Output Shape              Param #   \n",
      "=================================================================\n",
      "embedding (Embedding)        (None, 227, 64)           2496      \n",
      "_________________________________________________________________\n",
      "bidirectional (Bidirectional (None, 100)               46000     \n",
      "_________________________________________________________________\n",
      "dense (Dense)                (None, 50)                5050      \n",
      "_________________________________________________________________\n",
      "batch_normalization (BatchNo (None, 50)                200       \n",
      "_________________________________________________________________\n",
      "activation (Activation)      (None, 50)                0         \n",
      "_________________________________________________________________\n",
      "dense_1 (Dense)              (None, 1)                 51        \n",
      "=================================================================\n",
      "Total params: 53,797\n",
      "Trainable params: 53,697\n",
      "Non-trainable params: 100\n",
      "_________________________________________________________________\n"
     ]
    }
   ],
   "source": [
    "model.summary()"
   ]
  },
  {
   "cell_type": "code",
   "execution_count": 33,
   "id": "af2e0e35",
   "metadata": {},
   "outputs": [],
   "source": [
    "model.compile(optimizer=RMSprop(learning_rate=0.0005), loss='mse', metrics=[R2])"
   ]
  },
  {
   "cell_type": "code",
   "execution_count": 34,
   "id": "8f919884",
   "metadata": {},
   "outputs": [],
   "source": [
    "mcp = ModelCheckpoint('models/best_model_{epoch}', save_best_only=True, save_format=\"h5\")"
   ]
  },
  {
   "cell_type": "code",
   "execution_count": 35,
   "id": "29271bc9",
   "metadata": {},
   "outputs": [
    {
     "name": "stdout",
     "output_type": "stream",
     "text": [
      "Epoch 1/100\n",
      "32/32 [==============================] - 10s 130ms/step - loss: 25.5503 - R2: -8.7214 - val_loss: 34.5625 - val_R2: -11.3336\n",
      "Epoch 2/100\n",
      "32/32 [==============================] - 3s 93ms/step - loss: 17.9678 - R2: -5.9143 - val_loss: 31.7588 - val_R2: -11.0758\n",
      "Epoch 3/100\n",
      "32/32 [==============================] - 3s 93ms/step - loss: 14.9933 - R2: -4.6626 - val_loss: 28.9170 - val_R2: -9.8555\n",
      "Epoch 4/100\n",
      "32/32 [==============================] - 3s 94ms/step - loss: 12.2502 - R2: -3.5767 - val_loss: 25.5943 - val_R2: -8.4353\n",
      "Epoch 5/100\n",
      "32/32 [==============================] - 3s 92ms/step - loss: 9.8847 - R2: -2.6586 - val_loss: 21.3315 - val_R2: -6.7732\n",
      "Epoch 6/100\n",
      "32/32 [==============================] - 3s 95ms/step - loss: 7.5476 - R2: -1.8135 - val_loss: 15.7322 - val_R2: -4.7570\n",
      "Epoch 7/100\n",
      "32/32 [==============================] - 3s 95ms/step - loss: 5.7365 - R2: -1.1575 - val_loss: 9.3382 - val_R2: -2.4158\n",
      "Epoch 8/100\n",
      "32/32 [==============================] - 3s 95ms/step - loss: 4.3831 - R2: -0.5998 - val_loss: 3.3464 - val_R2: -0.1758\n",
      "Epoch 9/100\n",
      "32/32 [==============================] - 3s 91ms/step - loss: 3.5922 - R2: -0.3132 - val_loss: 4.4257 - val_R2: -0.5520\n",
      "Epoch 10/100\n",
      "32/32 [==============================] - 3s 97ms/step - loss: 2.9161 - R2: -0.0651 - val_loss: 4.9742 - val_R2: -0.7239\n",
      "Epoch 11/100\n",
      "32/32 [==============================] - 3s 92ms/step - loss: 2.5987 - R2: 0.0561 - val_loss: 5.2162 - val_R2: -0.8791\n",
      "Epoch 12/100\n",
      "32/32 [==============================] - 3s 92ms/step - loss: 2.5134 - R2: 0.0970 - val_loss: 2.6657 - val_R2: 0.0794\n",
      "Epoch 13/100\n",
      "32/32 [==============================] - 3s 92ms/step - loss: 2.4647 - R2: 0.1076 - val_loss: 2.6318 - val_R2: 0.0892\n",
      "Epoch 14/100\n",
      "32/32 [==============================] - 3s 94ms/step - loss: 2.4491 - R2: 0.1145 - val_loss: 3.2095 - val_R2: -0.1446\n",
      "Epoch 15/100\n",
      "32/32 [==============================] - 3s 92ms/step - loss: 2.5004 - R2: 0.0929 - val_loss: 2.7519 - val_R2: 0.0320\n",
      "Epoch 16/100\n",
      "32/32 [==============================] - 3s 91ms/step - loss: 2.4696 - R2: 0.1091 - val_loss: 2.9428 - val_R2: -0.0282\n",
      "Epoch 17/100\n",
      "32/32 [==============================] - 3s 93ms/step - loss: 2.3964 - R2: 0.1282 - val_loss: 3.2958 - val_R2: -0.1819\n",
      "Epoch 18/100\n",
      "32/32 [==============================] - 3s 92ms/step - loss: 2.5036 - R2: 0.0772 - val_loss: 3.2089 - val_R2: -0.1333\n",
      "Epoch 19/100\n",
      "32/32 [==============================] - 3s 93ms/step - loss: 2.4021 - R2: 0.1322 - val_loss: 3.0013 - val_R2: -0.0452\n",
      "Epoch 20/100\n",
      "32/32 [==============================] - 3s 89ms/step - loss: 2.4108 - R2: 0.1223 - val_loss: 4.2801 - val_R2: -0.5224\n",
      "Epoch 21/100\n",
      "32/32 [==============================] - 3s 90ms/step - loss: 2.4645 - R2: 0.1143 - val_loss: 6.1862 - val_R2: -1.1653\n",
      "Epoch 22/100\n",
      "32/32 [==============================] - 3s 90ms/step - loss: 2.3965 - R2: 0.1274 - val_loss: 2.8131 - val_R2: -0.0057\n",
      "Epoch 23/100\n",
      "32/32 [==============================] - 3s 92ms/step - loss: 2.4445 - R2: 0.1152 - val_loss: 4.2600 - val_R2: -0.5173\n",
      "Epoch 24/100\n",
      "32/32 [==============================] - 3s 90ms/step - loss: 2.4110 - R2: 0.1250 - val_loss: 3.3145 - val_R2: -0.1684\n",
      "Epoch 25/100\n",
      "32/32 [==============================] - 3s 89ms/step - loss: 2.4375 - R2: 0.1193 - val_loss: 6.4924 - val_R2: -1.3410\n",
      "Epoch 26/100\n",
      "32/32 [==============================] - 3s 89ms/step - loss: 2.3442 - R2: 0.1538 - val_loss: 4.6465 - val_R2: -0.6847\n",
      "Epoch 27/100\n",
      "32/32 [==============================] - 3s 90ms/step - loss: 2.2977 - R2: 0.1729 - val_loss: 4.9511 - val_R2: -0.8246\n",
      "Epoch 28/100\n",
      "32/32 [==============================] - 3s 88ms/step - loss: 2.3235 - R2: 0.1618 - val_loss: 4.6557 - val_R2: -0.6734\n",
      "Epoch 29/100\n",
      "32/32 [==============================] - 3s 91ms/step - loss: 2.2740 - R2: 0.1788 - val_loss: 3.1517 - val_R2: -0.1039\n",
      "Epoch 30/100\n",
      "32/32 [==============================] - 3s 90ms/step - loss: 2.2667 - R2: 0.1730 - val_loss: 2.4402 - val_R2: 0.1640\n",
      "Epoch 31/100\n",
      "32/32 [==============================] - 3s 89ms/step - loss: 2.3246 - R2: 0.1584 - val_loss: 2.9348 - val_R2: -0.0427\n",
      "Epoch 32/100\n",
      "32/32 [==============================] - 3s 89ms/step - loss: 2.2142 - R2: 0.1966 - val_loss: 2.8497 - val_R2: 0.0041\n",
      "Epoch 33/100\n",
      "32/32 [==============================] - 3s 89ms/step - loss: 2.2409 - R2: 0.1924 - val_loss: 3.5184 - val_R2: -0.2421\n",
      "Epoch 34/100\n",
      "32/32 [==============================] - 3s 90ms/step - loss: 2.2420 - R2: 0.1832 - val_loss: 6.6662 - val_R2: -1.3630\n",
      "Epoch 35/100\n",
      "32/32 [==============================] - 3s 91ms/step - loss: 2.2623 - R2: 0.1810 - val_loss: 2.6552 - val_R2: 0.0630\n",
      "Epoch 36/100\n",
      "32/32 [==============================] - 3s 89ms/step - loss: 2.2973 - R2: 0.1631 - val_loss: 3.4124 - val_R2: -0.2125\n",
      "Epoch 37/100\n",
      "32/32 [==============================] - 3s 89ms/step - loss: 2.2019 - R2: 0.1998 - val_loss: 2.3944 - val_R2: 0.1610\n",
      "Epoch 38/100\n",
      "32/32 [==============================] - 3s 90ms/step - loss: 2.2323 - R2: 0.1984 - val_loss: 2.2698 - val_R2: 0.2159\n",
      "Epoch 39/100\n",
      "32/32 [==============================] - 3s 89ms/step - loss: 2.2226 - R2: 0.1989 - val_loss: 3.1600 - val_R2: -0.1129\n",
      "Epoch 40/100\n",
      "32/32 [==============================] - 3s 90ms/step - loss: 2.2616 - R2: 0.1777 - val_loss: 2.4116 - val_R2: 0.1562\n",
      "Epoch 41/100\n",
      "32/32 [==============================] - 3s 91ms/step - loss: 2.2401 - R2: 0.1775 - val_loss: 2.6318 - val_R2: 0.0874\n",
      "Epoch 42/100\n",
      "32/32 [==============================] - 3s 94ms/step - loss: 2.2052 - R2: 0.1951 - val_loss: 2.6635 - val_R2: 0.0770\n",
      "Epoch 43/100\n",
      "32/32 [==============================] - 3s 91ms/step - loss: 2.2558 - R2: 0.1755 - val_loss: 2.3655 - val_R2: 0.1811\n",
      "Epoch 44/100\n",
      "32/32 [==============================] - 3s 91ms/step - loss: 2.1449 - R2: 0.2246 - val_loss: 2.3947 - val_R2: 0.1631\n",
      "Epoch 45/100\n",
      "32/32 [==============================] - 3s 93ms/step - loss: 2.1723 - R2: 0.2118 - val_loss: 3.1536 - val_R2: -0.1017\n",
      "Epoch 46/100\n",
      "32/32 [==============================] - 3s 92ms/step - loss: 2.1707 - R2: 0.2054 - val_loss: 2.2469 - val_R2: 0.2144\n",
      "Epoch 47/100\n",
      "32/32 [==============================] - 3s 93ms/step - loss: 2.1675 - R2: 0.2102 - val_loss: 2.3483 - val_R2: 0.1910\n",
      "Epoch 48/100\n",
      "32/32 [==============================] - 3s 93ms/step - loss: 2.1993 - R2: 0.2064 - val_loss: 2.7137 - val_R2: 0.0517\n",
      "Epoch 49/100\n",
      "32/32 [==============================] - 3s 91ms/step - loss: 2.1447 - R2: 0.2196 - val_loss: 2.4371 - val_R2: 0.1588\n",
      "Epoch 50/100\n",
      "32/32 [==============================] - 3s 97ms/step - loss: 2.1600 - R2: 0.2173 - val_loss: 2.4860 - val_R2: 0.1351\n",
      "Epoch 51/100\n",
      "32/32 [==============================] - 3s 97ms/step - loss: 2.1419 - R2: 0.2232 - val_loss: 4.7725 - val_R2: -0.6872\n",
      "Epoch 52/100\n",
      "32/32 [==============================] - 3s 93ms/step - loss: 2.1153 - R2: 0.2321 - val_loss: 2.2160 - val_R2: 0.2259\n",
      "Epoch 53/100\n",
      "32/32 [==============================] - 3s 90ms/step - loss: 2.1165 - R2: 0.2191 - val_loss: 3.2357 - val_R2: -0.1626\n",
      "Epoch 54/100\n",
      "32/32 [==============================] - 3s 90ms/step - loss: 2.1788 - R2: 0.2067 - val_loss: 2.3652 - val_R2: 0.1872\n",
      "Epoch 55/100\n",
      "32/32 [==============================] - 3s 96ms/step - loss: 2.1222 - R2: 0.2329 - val_loss: 2.1939 - val_R2: 0.2457\n",
      "Epoch 56/100\n",
      "32/32 [==============================] - 3s 91ms/step - loss: 2.0867 - R2: 0.2403 - val_loss: 2.2452 - val_R2: 0.2100\n",
      "Epoch 57/100\n",
      "32/32 [==============================] - 3s 90ms/step - loss: 2.1528 - R2: 0.2121 - val_loss: 2.2374 - val_R2: 0.2119\n",
      "Epoch 58/100\n",
      "32/32 [==============================] - 3s 89ms/step - loss: 2.1555 - R2: 0.2140 - val_loss: 3.5438 - val_R2: -0.2892\n",
      "Epoch 59/100\n",
      "32/32 [==============================] - 3s 88ms/step - loss: 2.0839 - R2: 0.2375 - val_loss: 2.3973 - val_R2: 0.1593\n",
      "Epoch 60/100\n",
      "32/32 [==============================] - 3s 92ms/step - loss: 2.1114 - R2: 0.2313 - val_loss: 2.4353 - val_R2: 0.1326\n",
      "Epoch 61/100\n",
      "32/32 [==============================] - 3s 89ms/step - loss: 2.1065 - R2: 0.2307 - val_loss: 2.2113 - val_R2: 0.2144\n",
      "Epoch 62/100\n",
      "32/32 [==============================] - 3s 96ms/step - loss: 2.0734 - R2: 0.2479 - val_loss: 3.0593 - val_R2: -0.0929\n",
      "Epoch 63/100\n",
      "32/32 [==============================] - 3s 89ms/step - loss: 2.0811 - R2: 0.2337 - val_loss: 2.1684 - val_R2: 0.2441\n",
      "Epoch 64/100\n",
      "32/32 [==============================] - 3s 93ms/step - loss: 2.0073 - R2: 0.2703 - val_loss: 2.4771 - val_R2: 0.1239\n",
      "Epoch 65/100\n",
      "32/32 [==============================] - 3s 91ms/step - loss: 2.0614 - R2: 0.2498 - val_loss: 2.4896 - val_R2: 0.1251\n",
      "Epoch 66/100\n",
      "32/32 [==============================] - 3s 93ms/step - loss: 2.1121 - R2: 0.2277 - val_loss: 4.6123 - val_R2: -0.6576\n",
      "Epoch 67/100\n",
      "32/32 [==============================] - 3s 92ms/step - loss: 2.0559 - R2: 0.2486 - val_loss: 3.3778 - val_R2: -0.2156\n",
      "Epoch 68/100\n",
      "32/32 [==============================] - 3s 90ms/step - loss: 2.0337 - R2: 0.2553 - val_loss: 2.4043 - val_R2: 0.1641\n",
      "Epoch 69/100\n",
      "32/32 [==============================] - 3s 95ms/step - loss: 2.0164 - R2: 0.2694 - val_loss: 2.2318 - val_R2: 0.2257\n",
      "Epoch 70/100\n",
      "32/32 [==============================] - 3s 100ms/step - loss: 2.0011 - R2: 0.2754 - val_loss: 2.4070 - val_R2: 0.1339\n",
      "Epoch 71/100\n",
      "32/32 [==============================] - 3s 90ms/step - loss: 1.9730 - R2: 0.2871 - val_loss: 2.0358 - val_R2: 0.2700\n",
      "Epoch 72/100\n",
      "32/32 [==============================] - 3s 90ms/step - loss: 2.0310 - R2: 0.2564 - val_loss: 1.9876 - val_R2: 0.2806\n",
      "Epoch 73/100\n",
      "32/32 [==============================] - 3s 89ms/step - loss: 1.9809 - R2: 0.2742 - val_loss: 2.2231 - val_R2: 0.2201\n",
      "Epoch 74/100\n",
      "32/32 [==============================] - 3s 91ms/step - loss: 1.9624 - R2: 0.2889 - val_loss: 2.3781 - val_R2: 0.1557\n",
      "Epoch 75/100\n",
      "32/32 [==============================] - 3s 89ms/step - loss: 2.0031 - R2: 0.2680 - val_loss: 2.3416 - val_R2: 0.1820\n",
      "Epoch 76/100\n",
      "32/32 [==============================] - 3s 90ms/step - loss: 1.9538 - R2: 0.2897 - val_loss: 2.0161 - val_R2: 0.2994\n",
      "Epoch 77/100\n",
      "32/32 [==============================] - 3s 89ms/step - loss: 1.9652 - R2: 0.2785 - val_loss: 2.2122 - val_R2: 0.2239\n",
      "Epoch 78/100\n",
      "32/32 [==============================] - 3s 89ms/step - loss: 1.9813 - R2: 0.2814 - val_loss: 2.0879 - val_R2: 0.2710\n",
      "Epoch 79/100\n",
      "32/32 [==============================] - 3s 94ms/step - loss: 1.9743 - R2: 0.2750 - val_loss: 2.0411 - val_R2: 0.2865\n",
      "Epoch 80/100\n",
      "32/32 [==============================] - 3s 92ms/step - loss: 1.9352 - R2: 0.3022 - val_loss: 2.4763 - val_R2: 0.1294\n",
      "Epoch 81/100\n",
      "32/32 [==============================] - 3s 91ms/step - loss: 1.9208 - R2: 0.2983 - val_loss: 2.0160 - val_R2: 0.2960\n",
      "Epoch 82/100\n",
      "32/32 [==============================] - 3s 89ms/step - loss: 1.9439 - R2: 0.2915 - val_loss: 2.0367 - val_R2: 0.2739\n",
      "Epoch 83/100\n",
      "32/32 [==============================] - 3s 93ms/step - loss: 1.9937 - R2: 0.2751 - val_loss: 2.0950 - val_R2: 0.2581\n",
      "Epoch 84/100\n",
      "32/32 [==============================] - 3s 92ms/step - loss: 1.8828 - R2: 0.3183 - val_loss: 2.3220 - val_R2: 0.1833\n",
      "Epoch 85/100\n",
      "32/32 [==============================] - 3s 90ms/step - loss: 1.8743 - R2: 0.3166 - val_loss: 2.3482 - val_R2: 0.1641\n",
      "Epoch 86/100\n",
      "32/32 [==============================] - 3s 90ms/step - loss: 1.8669 - R2: 0.3220 - val_loss: 2.4051 - val_R2: 0.1605\n",
      "Epoch 87/100\n",
      "32/32 [==============================] - 3s 91ms/step - loss: 1.9105 - R2: 0.3068 - val_loss: 2.9232 - val_R2: -0.0224\n",
      "Epoch 88/100\n",
      "32/32 [==============================] - 3s 95ms/step - loss: 1.9152 - R2: 0.2969 - val_loss: 2.5788 - val_R2: 0.0870\n",
      "Epoch 89/100\n",
      "32/32 [==============================] - 3s 91ms/step - loss: 1.9118 - R2: 0.3011 - val_loss: 2.2431 - val_R2: 0.2171\n",
      "Epoch 90/100\n",
      "32/32 [==============================] - 3s 90ms/step - loss: 1.8823 - R2: 0.3186 - val_loss: 2.3519 - val_R2: 0.1866\n",
      "Epoch 91/100\n",
      "32/32 [==============================] - 3s 90ms/step - loss: 1.8391 - R2: 0.3316 - val_loss: 3.4979 - val_R2: -0.2767\n",
      "Epoch 92/100\n",
      "32/32 [==============================] - 3s 92ms/step - loss: 1.9203 - R2: 0.3017 - val_loss: 3.0184 - val_R2: -0.0763\n",
      "Epoch 93/100\n",
      "32/32 [==============================] - 3s 91ms/step - loss: 1.8717 - R2: 0.3195 - val_loss: 2.9804 - val_R2: -0.0605\n",
      "Epoch 94/100\n",
      "32/32 [==============================] - 3s 92ms/step - loss: 1.8392 - R2: 0.3301 - val_loss: 2.1623 - val_R2: 0.2483\n",
      "Epoch 95/100\n",
      "32/32 [==============================] - 3s 91ms/step - loss: 1.8863 - R2: 0.3162 - val_loss: 6.5379 - val_R2: -1.3929\n",
      "Epoch 96/100\n",
      "32/32 [==============================] - 3s 89ms/step - loss: 1.8083 - R2: 0.3446 - val_loss: 2.0655 - val_R2: 0.2752\n",
      "Epoch 97/100\n",
      "32/32 [==============================] - 3s 93ms/step - loss: 1.8364 - R2: 0.3379 - val_loss: 2.1498 - val_R2: 0.2406\n",
      "Epoch 98/100\n",
      "32/32 [==============================] - 3s 98ms/step - loss: 1.8318 - R2: 0.3381 - val_loss: 2.2926 - val_R2: 0.1893\n",
      "Epoch 99/100\n",
      "32/32 [==============================] - 3s 90ms/step - loss: 1.8423 - R2: 0.3268 - val_loss: 2.3647 - val_R2: 0.1543\n",
      "Epoch 100/100\n",
      "32/32 [==============================] - 3s 92ms/step - loss: 1.8917 - R2: 0.3037 - val_loss: 2.4438 - val_R2: 0.1378\n"
     ]
    }
   ],
   "source": [
    "history = model.fit(dgen_train, epochs=100, batch_size=128, validation_data=dgen_test, callbacks=[])"
   ]
  },
  {
   "cell_type": "code",
   "execution_count": 36,
   "id": "dc70c7e3",
   "metadata": {},
   "outputs": [],
   "source": [
    "X_test_eval = []\n",
    "y_t_eval = []\n",
    "for X_t, y_t in dgen_test:\n",
    "    X_test_eval = X_test_eval + [list(t) for t in X_t]\n",
    "    y_t_eval = y_t_eval + list(y_t)\n",
    "X_test_eval = np.array(X_test_eval)\n",
    "y_test = np.array(y_t_eval)"
   ]
  },
  {
   "cell_type": "code",
   "execution_count": 37,
   "id": "dc25220e",
   "metadata": {},
   "outputs": [
    {
     "data": {
      "text/plain": [
       "((1021, 227), (1021,))"
      ]
     },
     "execution_count": 37,
     "metadata": {},
     "output_type": "execute_result"
    }
   ],
   "source": [
    "X_test_eval.shape, y_test.shape"
   ]
  },
  {
   "cell_type": "code",
   "execution_count": 38,
   "id": "7a6aafb8",
   "metadata": {},
   "outputs": [],
   "source": [
    "y_pred = model.predict(X_test_eval)"
   ]
  },
  {
   "cell_type": "code",
   "execution_count": 39,
   "id": "71175a8b",
   "metadata": {},
   "outputs": [],
   "source": [
    "from sklearn.metrics import r2_score\n",
    "r2 = r2_score(y_test, y_pred)"
   ]
  },
  {
   "cell_type": "code",
   "execution_count": 40,
   "id": "9da69f21",
   "metadata": {},
   "outputs": [
    {
     "data": {
      "text/plain": [
       "0.15335519495010097"
      ]
     },
     "execution_count": 40,
     "metadata": {},
     "output_type": "execute_result"
    }
   ],
   "source": [
    "r2"
   ]
  },
  {
   "cell_type": "code",
   "execution_count": 41,
   "id": "8b3ccc91",
   "metadata": {},
   "outputs": [],
   "source": [
    "model.save('models/embed_64_bi_lstm_100_augmented.h5', )"
   ]
  },
  {
   "cell_type": "code",
   "execution_count": 42,
   "id": "d6cf466a",
   "metadata": {},
   "outputs": [
    {
     "data": {
      "text/plain": [
       "<function matplotlib.pyplot.show(close=None, block=None)>"
      ]
     },
     "execution_count": 42,
     "metadata": {},
     "output_type": "execute_result"
    },
    {
     "data": {
      "image/png": "[encoded data removed]",
      "text/plain": [
       "<Figure size 360x360 with 1 Axes>"
      ]
     },
     "metadata": {},
     "output_type": "display_data"
    }
   ],
   "source": [
    "import seaborn as sns\n",
    "import matplotlib.pyplot as plt\n",
    "\n",
    "sns.set(color_codes=True)\n",
    "sns.set_style(\"white\")\n",
    "\n",
    "ax = sns.regplot(x=y_test, y=y_pred, scatter_kws={'alpha':0.4})\n",
    "ax.set_xlabel('Experimental pIC50', fontsize='large', fontweight='bold')\n",
    "ax.set_ylabel('Predicted pIC50', fontsize='large', fontweight='bold')\n",
    "ax.set_xlim(0, 12)\n",
    "ax.set_ylim(0, 12)\n",
    "ax.figure.set_size_inches(5, 5)\n",
    "plt.show"
   ]
  }
 ],
 "metadata": {
  "kernelspec": {
   "display_name": "Python 3",
   "language": "python",
   "name": "python3"
  },
  "language_info": {
   "codemirror_mode": {
    "name": "ipython",
    "version": 3
   },
   "file_extension": ".py",
   "mimetype": "text/x-python",
   "name": "python",
   "nbconvert_exporter": "python",
   "pygments_lexer": "ipython3",
   "version": "3.9.7"
  }
 },
 "nbformat": 4,
 "nbformat_minor": 5
}
