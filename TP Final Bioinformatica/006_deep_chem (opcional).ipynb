{
 "cells": [
  {
   "cell_type": "code",
   "execution_count": 1,
   "id": "4d51cf97-2013-4d44-a625-46c72bf85dfd",
   "metadata": {},
   "outputs": [],
   "source": [
    "import pandas as pd"
   ]
  },
  {
   "cell_type": "code",
   "execution_count": 2,
   "id": "6fbb2723-7583-4cb6-a7e5-4294d8140530",
   "metadata": {},
   "outputs": [],
   "source": [
    "import deepchem as dc"
   ]
  },
  {
   "cell_type": "markdown",
   "id": "606b84ac-193a-4a45-94ef-63038fa1091c",
   "metadata": {},
   "source": [
    "# Cargo dataset"
   ]
  },
  {
   "cell_type": "code",
   "execution_count": 3,
   "id": "f2e4e0e3-4c6a-43f6-8b46-f2aa3edb3dbc",
   "metadata": {},
   "outputs": [],
   "source": [
    "df = pd.read_csv('data/acetylcholinesterase_02_bioactivity_data_preprocessed.csv')"
   ]
  },
  {
   "cell_type": "code",
   "execution_count": 4,
   "id": "3aed68a2-b156-4f9a-95d1-6d06e70a3447",
   "metadata": {},
   "outputs": [
    {
     "data": {
      "text/html": [
       "<div>\n",
       "<style scoped>\n",
       "    .dataframe tbody tr th:only-of-type {\n",
       "        vertical-align: middle;\n",
       "    }\n",
       "\n",
       "    .dataframe tbody tr th {\n",
       "        vertical-align: top;\n",
       "    }\n",
       "\n",
       "    .dataframe thead th {\n",
       "        text-align: right;\n",
       "    }\n",
       "</style>\n",
       "<table border=\"1\" class=\"dataframe\">\n",
       "  <thead>\n",
       "    <tr style=\"text-align: right;\">\n",
       "      <th></th>\n",
       "      <th>molecule_chembl_id</th>\n",
       "      <th>canonical_smiles</th>\n",
       "      <th>standard_value</th>\n",
       "      <th>standard_value_norm</th>\n",
       "      <th>pIC50</th>\n",
       "    </tr>\n",
       "  </thead>\n",
       "  <tbody>\n",
       "    <tr>\n",
       "      <th>0</th>\n",
       "      <td>CHEMBL133897</td>\n",
       "      <td>CCOc1nn(-c2cccc(OCc3ccccc3)c2)c(=O)o1</td>\n",
       "      <td>750.0</td>\n",
       "      <td>750.0</td>\n",
       "      <td>6.124939</td>\n",
       "    </tr>\n",
       "    <tr>\n",
       "      <th>1</th>\n",
       "      <td>CHEMBL336398</td>\n",
       "      <td>O=C(N1CCCCC1)n1nc(-c2ccc(Cl)cc2)nc1SCC1CC1</td>\n",
       "      <td>100.0</td>\n",
       "      <td>100.0</td>\n",
       "      <td>7.000000</td>\n",
       "    </tr>\n",
       "    <tr>\n",
       "      <th>2</th>\n",
       "      <td>CHEMBL131588</td>\n",
       "      <td>CN(C(=O)n1nc(-c2ccc(Cl)cc2)nc1SCC(F)(F)F)c1ccccc1</td>\n",
       "      <td>50000.0</td>\n",
       "      <td>50000.0</td>\n",
       "      <td>4.301030</td>\n",
       "    </tr>\n",
       "    <tr>\n",
       "      <th>3</th>\n",
       "      <td>CHEMBL130628</td>\n",
       "      <td>O=C(N1CCCCC1)n1nc(-c2ccc(Cl)cc2)nc1SCC(F)(F)F</td>\n",
       "      <td>300.0</td>\n",
       "      <td>300.0</td>\n",
       "      <td>6.522879</td>\n",
       "    </tr>\n",
       "    <tr>\n",
       "      <th>4</th>\n",
       "      <td>CHEMBL130478</td>\n",
       "      <td>CSc1nc(-c2ccc(OC(F)(F)F)cc2)nn1C(=O)N(C)C</td>\n",
       "      <td>800.0</td>\n",
       "      <td>800.0</td>\n",
       "      <td>6.096910</td>\n",
       "    </tr>\n",
       "    <tr>\n",
       "      <th>...</th>\n",
       "      <td>...</td>\n",
       "      <td>...</td>\n",
       "      <td>...</td>\n",
       "      <td>...</td>\n",
       "      <td>...</td>\n",
       "    </tr>\n",
       "    <tr>\n",
       "      <th>5098</th>\n",
       "      <td>CHEMBL4645476</td>\n",
       "      <td>CN(C)C(=O)Oc1ccc(C(O)CNC2CCCCC2)cc1.Cl</td>\n",
       "      <td>266000.0</td>\n",
       "      <td>266000.0</td>\n",
       "      <td>3.575118</td>\n",
       "    </tr>\n",
       "    <tr>\n",
       "      <th>5099</th>\n",
       "      <td>CHEMBL4645659</td>\n",
       "      <td>COc1ccc(CCC(=O)Nc2nc(-c3cc4ccccc4oc3=O)cs2)cc1OC</td>\n",
       "      <td>740.0</td>\n",
       "      <td>740.0</td>\n",
       "      <td>6.130768</td>\n",
       "    </tr>\n",
       "    <tr>\n",
       "      <th>5100</th>\n",
       "      <td>CHEMBL513063</td>\n",
       "      <td>COc1ccc(-c2csc(NC(=O)CCN3CCCC3)n2)cc1</td>\n",
       "      <td>510.0</td>\n",
       "      <td>510.0</td>\n",
       "      <td>6.292430</td>\n",
       "    </tr>\n",
       "    <tr>\n",
       "      <th>5101</th>\n",
       "      <td>CHEMBL4640608</td>\n",
       "      <td>COc1cc(C2C3=C(CCCC3=O)NC3=C2C(=O)CCC3)ccc1OCc1...</td>\n",
       "      <td>125000.0</td>\n",
       "      <td>125000.0</td>\n",
       "      <td>3.903090</td>\n",
       "    </tr>\n",
       "    <tr>\n",
       "      <th>5102</th>\n",
       "      <td>CHEMBL4173961</td>\n",
       "      <td>O=C1CCCC2=C1C(c1ccc(OCc3cccc(F)c3)c(Br)c1)C1=C...</td>\n",
       "      <td>100000.0</td>\n",
       "      <td>100000.0</td>\n",
       "      <td>4.000000</td>\n",
       "    </tr>\n",
       "  </tbody>\n",
       "</table>\n",
       "<p>5103 rows × 5 columns</p>\n",
       "</div>"
      ],
      "text/plain": [
       "     molecule_chembl_id                                   canonical_smiles  \\\n",
       "0          CHEMBL133897              CCOc1nn(-c2cccc(OCc3ccccc3)c2)c(=O)o1   \n",
       "1          CHEMBL336398         O=C(N1CCCCC1)n1nc(-c2ccc(Cl)cc2)nc1SCC1CC1   \n",
       "2          CHEMBL131588  CN(C(=O)n1nc(-c2ccc(Cl)cc2)nc1SCC(F)(F)F)c1ccccc1   \n",
       "3          CHEMBL130628      O=C(N1CCCCC1)n1nc(-c2ccc(Cl)cc2)nc1SCC(F)(F)F   \n",
       "4          CHEMBL130478          CSc1nc(-c2ccc(OC(F)(F)F)cc2)nn1C(=O)N(C)C   \n",
       "...                 ...                                                ...   \n",
       "5098      CHEMBL4645476             CN(C)C(=O)Oc1ccc(C(O)CNC2CCCCC2)cc1.Cl   \n",
       "5099      CHEMBL4645659   COc1ccc(CCC(=O)Nc2nc(-c3cc4ccccc4oc3=O)cs2)cc1OC   \n",
       "5100       CHEMBL513063              COc1ccc(-c2csc(NC(=O)CCN3CCCC3)n2)cc1   \n",
       "5101      CHEMBL4640608  COc1cc(C2C3=C(CCCC3=O)NC3=C2C(=O)CCC3)ccc1OCc1...   \n",
       "5102      CHEMBL4173961  O=C1CCCC2=C1C(c1ccc(OCc3cccc(F)c3)c(Br)c1)C1=C...   \n",
       "\n",
       "      standard_value  standard_value_norm     pIC50  \n",
       "0              750.0                750.0  6.124939  \n",
       "1              100.0                100.0  7.000000  \n",
       "2            50000.0              50000.0  4.301030  \n",
       "3              300.0                300.0  6.522879  \n",
       "4              800.0                800.0  6.096910  \n",
       "...              ...                  ...       ...  \n",
       "5098        266000.0             266000.0  3.575118  \n",
       "5099           740.0                740.0  6.130768  \n",
       "5100           510.0                510.0  6.292430  \n",
       "5101        125000.0             125000.0  3.903090  \n",
       "5102        100000.0             100000.0  4.000000  \n",
       "\n",
       "[5103 rows x 5 columns]"
      ]
     },
     "execution_count": 4,
     "metadata": {},
     "output_type": "execute_result"
    }
   ],
   "source": [
    "df"
   ]
  },
  {
   "cell_type": "markdown",
   "id": "f86f0c1c-2b49-4f8a-927b-f1e1d0de0511",
   "metadata": {},
   "source": [
    "# Pongo el dataset en el formato que deepchem necesita\n",
    "Quizas aca se podía bajar directo en el formato"
   ]
  },
  {
   "cell_type": "code",
   "execution_count": 5,
   "id": "aabb264c-28d1-4457-add6-59ab0063f961",
   "metadata": {},
   "outputs": [],
   "source": [
    "dataset = dc.data.NumpyDataset(X=df['canonical_smiles'].values, y=df['pIC50'].values, ids=df['canonical_smiles'].values)"
   ]
  },
  {
   "cell_type": "markdown",
   "id": "29f715d2-43cd-48a7-8a83-5f5a31e0a7e5",
   "metadata": {},
   "source": [
    "# Divido en train y test\n",
    "Faltaría validación estrictametne"
   ]
  },
  {
   "cell_type": "code",
   "execution_count": 6,
   "id": "7fb0977e-8077-4855-8877-f7cff12d00a7",
   "metadata": {},
   "outputs": [],
   "source": [
    "splitter = dc.splits.RandomSplitter()"
   ]
  },
  {
   "cell_type": "code",
   "execution_count": 7,
   "id": "c699ac34-8ec5-427d-90ad-a9fe84269914",
   "metadata": {},
   "outputs": [],
   "source": [
    "train, test = splitter.train_test_split(dataset)"
   ]
  },
  {
   "cell_type": "markdown",
   "id": "4c4f3eb9-1d7b-4135-9d48-83e5a7bc6e5a",
   "metadata": {},
   "source": [
    "# Genero el diccionario de smiles que necesita el modelo para contruir el embedding"
   ]
  },
  {
   "cell_type": "code",
   "execution_count": 8,
   "id": "5ef22116-02a5-4744-a003-dbf42dce1326",
   "metadata": {},
   "outputs": [],
   "source": [
    "smiles_dict, lenght = dc.models.TextCNNModel.build_char_dict(dataset)"
   ]
  },
  {
   "cell_type": "code",
   "execution_count": 9,
   "id": "ec8e8868-8ff1-494d-ba44-0b092d79030f",
   "metadata": {},
   "outputs": [
    {
     "data": {
      "text/plain": [
       "{'#': 1,\n",
       " '(': 2,\n",
       " ')': 3,\n",
       " '+': 4,\n",
       " '-': 5,\n",
       " '/': 6,\n",
       " '1': 7,\n",
       " '2': 8,\n",
       " '3': 9,\n",
       " '4': 10,\n",
       " '5': 11,\n",
       " '6': 12,\n",
       " '7': 13,\n",
       " '8': 14,\n",
       " '=': 15,\n",
       " 'C': 16,\n",
       " 'F': 17,\n",
       " 'H': 18,\n",
       " 'I': 19,\n",
       " 'N': 20,\n",
       " 'O': 21,\n",
       " 'P': 22,\n",
       " 'S': 23,\n",
       " '[': 24,\n",
       " '\\\\': 25,\n",
       " ']': 26,\n",
       " '_': 27,\n",
       " 'c': 28,\n",
       " 'Cl': 29,\n",
       " 'Br': 30,\n",
       " 'n': 31,\n",
       " 'o': 32,\n",
       " 's': 33,\n",
       " '@': 34,\n",
       " '.': 35,\n",
       " 'a': 36,\n",
       " 'B': 37,\n",
       " 'e': 38,\n",
       " 'i': 39}"
      ]
     },
     "execution_count": 9,
     "metadata": {},
     "output_type": "execute_result"
    }
   ],
   "source": [
    "smiles_dict"
   ]
  },
  {
   "cell_type": "markdown",
   "id": "30945da2-37eb-4781-a52a-60c6c20618d5",
   "metadata": {},
   "source": [
    "# Instancio el modelo"
   ]
  },
  {
   "cell_type": "code",
   "execution_count": 10,
   "id": "4daaf2d0-681b-41c6-85d6-9ab6ea63fb32",
   "metadata": {},
   "outputs": [],
   "source": [
    "model = dc.models.TextCNNModel(\n",
    "    1, smiles_dict, lenght, mode='regression', n_embedding=128, kernel_sizes=[3, 4, 5], num_filters=[128, 128, 128], dropout=0., \n",
    "    log_frequency=5, batch_size=128, optimizer=dc.models.optimizers.Adam()\n",
    ")"
   ]
  },
  {
   "cell_type": "code",
   "execution_count": 11,
   "id": "bba7fe09-7d35-4ff0-8581-af16998770b2",
   "metadata": {},
   "outputs": [
    {
     "name": "stdout",
     "output_type": "stream",
     "text": [
      "Model: \"model\"\n",
      "__________________________________________________________________________________________________\n",
      "Layer (type)                    Output Shape         Param #     Connected to                     \n",
      "==================================================================================================\n",
      "input_1 (InputLayer)            [(None, 248)]        0                                            \n",
      "__________________________________________________________________________________________________\n",
      "dtnn_embedding (DTNNEmbedding)  (None, 248, 128)     5120        input_1[0][0]                    \n",
      "__________________________________________________________________________________________________\n",
      "conv1d (Conv1D)                 (None, 246, 128)     49280       dtnn_embedding[0][0]             \n",
      "__________________________________________________________________________________________________\n",
      "conv1d_1 (Conv1D)               (None, 245, 128)     65664       dtnn_embedding[0][0]             \n",
      "__________________________________________________________________________________________________\n",
      "conv1d_2 (Conv1D)               (None, 244, 128)     82048       dtnn_embedding[0][0]             \n",
      "__________________________________________________________________________________________________\n",
      "lambda (Lambda)                 (None, 128)          0           conv1d[0][0]                     \n",
      "__________________________________________________________________________________________________\n",
      "lambda_1 (Lambda)               (None, 128)          0           conv1d_1[0][0]                   \n",
      "__________________________________________________________________________________________________\n",
      "lambda_2 (Lambda)               (None, 128)          0           conv1d_2[0][0]                   \n",
      "__________________________________________________________________________________________________\n",
      "concatenate (Concatenate)       (None, 384)          0           lambda[0][0]                     \n",
      "                                                                 lambda_1[0][0]                   \n",
      "                                                                 lambda_2[0][0]                   \n",
      "__________________________________________________________________________________________________\n",
      "dropout (Dropout)               (None, 384)          0           concatenate[0][0]                \n",
      "__________________________________________________________________________________________________\n",
      "dense (Dense)                   (None, 200)          77000       dropout[0][0]                    \n",
      "__________________________________________________________________________________________________\n",
      "highway (Highway)               (None, 200)          80400       dense[0][0]                      \n",
      "__________________________________________________________________________________________________\n",
      "dense_1 (Dense)                 (None, 1)            201         highway[0][0]                    \n",
      "__________________________________________________________________________________________________\n",
      "reshape (Reshape)               (None, 1, 1)         0           dense_1[0][0]                    \n",
      "==================================================================================================\n",
      "Total params: 359,713\n",
      "Trainable params: 359,713\n",
      "Non-trainable params: 0\n",
      "__________________________________________________________________________________________________\n"
     ]
    }
   ],
   "source": [
    "model.model.summary()"
   ]
  },
  {
   "cell_type": "code",
   "execution_count": 12,
   "id": "902f4e29-2b30-4bb9-9485-ef7bc24f48eb",
   "metadata": {},
   "outputs": [],
   "source": [
    "# Es necesario para ver resultados mientras entrana\n",
    "vc = dc.models.ValidationCallback(test, 20, dc.metrics.r2_score)"
   ]
  },
  {
   "cell_type": "markdown",
   "id": "c58bc3fd-6cee-4441-97eb-2c812ac55d55",
   "metadata": {},
   "source": [
    "# Entreno"
   ]
  },
  {
   "cell_type": "code",
   "execution_count": 13,
   "id": "fbebae78-32a4-4c46-a0d2-0d543c672bd4",
   "metadata": {
    "tags": []
   },
   "outputs": [
    {
     "name": "stdout",
     "output_type": "stream",
     "text": [
      "Step 20 validation: metric-1=-0.26015\n",
      "Step 40 validation: metric-1=0.178156\n",
      "Step 60 validation: metric-1=0.279214\n",
      "Step 80 validation: metric-1=0.315085\n",
      "Step 100 validation: metric-1=0.349968\n",
      "Step 120 validation: metric-1=0.378427\n",
      "Step 140 validation: metric-1=0.413849\n",
      "Step 160 validation: metric-1=0.442941\n",
      "Step 180 validation: metric-1=0.469297\n",
      "Step 200 validation: metric-1=0.464651\n",
      "Step 220 validation: metric-1=0.510545\n",
      "Step 240 validation: metric-1=0.536553\n",
      "Step 260 validation: metric-1=0.513326\n",
      "Step 280 validation: metric-1=0.550606\n",
      "Step 300 validation: metric-1=0.569912\n",
      "Step 320 validation: metric-1=0.587733\n",
      "Step 340 validation: metric-1=0.594023\n",
      "Step 360 validation: metric-1=0.612401\n",
      "Step 380 validation: metric-1=0.615017\n",
      "Step 400 validation: metric-1=0.611056\n",
      "Step 420 validation: metric-1=0.581846\n",
      "Step 440 validation: metric-1=0.620759\n",
      "Step 460 validation: metric-1=0.600989\n",
      "Step 480 validation: metric-1=0.598885\n",
      "Step 500 validation: metric-1=0.647026\n",
      "Step 520 validation: metric-1=0.631962\n",
      "Step 540 validation: metric-1=0.638849\n",
      "Step 560 validation: metric-1=0.656133\n",
      "Step 580 validation: metric-1=0.585272\n",
      "Step 600 validation: metric-1=0.670578\n",
      "Step 620 validation: metric-1=0.617442\n",
      "Step 640 validation: metric-1=0.633353\n",
      "Step 660 validation: metric-1=0.679422\n",
      "Step 680 validation: metric-1=0.663483\n",
      "Step 700 validation: metric-1=0.678866\n",
      "Step 720 validation: metric-1=0.654137\n",
      "Step 740 validation: metric-1=0.677866\n",
      "Step 760 validation: metric-1=0.664584\n",
      "Step 780 validation: metric-1=0.644619\n",
      "Step 800 validation: metric-1=0.683346\n",
      "Step 820 validation: metric-1=0.674529\n",
      "Step 840 validation: metric-1=0.679813\n",
      "Step 860 validation: metric-1=0.658848\n",
      "Step 880 validation: metric-1=0.672681\n",
      "Step 900 validation: metric-1=0.651107\n",
      "Step 920 validation: metric-1=0.670366\n",
      "Step 940 validation: metric-1=0.669578\n",
      "Step 960 validation: metric-1=0.679089\n",
      "Step 980 validation: metric-1=0.671965\n",
      "Step 1000 validation: metric-1=0.659939\n",
      "Step 1020 validation: metric-1=0.667728\n",
      "Step 1040 validation: metric-1=0.674457\n",
      "Step 1060 validation: metric-1=0.653103\n",
      "Step 1080 validation: metric-1=0.683784\n",
      "Step 1100 validation: metric-1=0.672598\n",
      "Step 1120 validation: metric-1=0.668647\n",
      "Step 1140 validation: metric-1=0.670993\n",
      "Step 1160 validation: metric-1=0.685398\n",
      "Step 1180 validation: metric-1=0.672151\n",
      "Step 1200 validation: metric-1=0.678727\n",
      "Step 1220 validation: metric-1=0.60059\n",
      "Step 1240 validation: metric-1=0.686403\n",
      "Step 1260 validation: metric-1=0.687796\n",
      "Step 1280 validation: metric-1=0.682155\n",
      "Step 1300 validation: metric-1=0.669142\n",
      "Step 1320 validation: metric-1=0.660394\n",
      "Step 1340 validation: metric-1=0.694612\n",
      "Step 1360 validation: metric-1=0.687353\n",
      "Step 1380 validation: metric-1=0.67303\n",
      "Step 1400 validation: metric-1=0.642524\n",
      "Step 1420 validation: metric-1=0.680322\n",
      "Step 1440 validation: metric-1=0.685376\n",
      "Step 1460 validation: metric-1=0.671166\n",
      "Step 1480 validation: metric-1=0.684416\n",
      "Step 1500 validation: metric-1=0.663224\n",
      "Step 1520 validation: metric-1=0.68531\n",
      "Step 1540 validation: metric-1=0.680532\n",
      "Step 1560 validation: metric-1=0.674039\n",
      "Step 1580 validation: metric-1=0.667478\n",
      "Step 1600 validation: metric-1=0.66717\n",
      "Step 1620 validation: metric-1=0.678064\n",
      "Step 1640 validation: metric-1=0.689016\n",
      "Step 1660 validation: metric-1=0.662885\n",
      "Step 1680 validation: metric-1=0.687422\n",
      "Step 1700 validation: metric-1=0.658981\n",
      "Step 1720 validation: metric-1=0.684729\n",
      "Step 1740 validation: metric-1=0.672627\n",
      "Step 1760 validation: metric-1=0.672112\n",
      "Step 1780 validation: metric-1=0.687335\n",
      "Step 1800 validation: metric-1=0.68063\n",
      "Step 1820 validation: metric-1=0.674352\n",
      "Step 1840 validation: metric-1=0.684429\n",
      "Step 1860 validation: metric-1=0.675051\n",
      "Step 1880 validation: metric-1=0.674495\n",
      "Step 1900 validation: metric-1=0.67313\n",
      "Step 1920 validation: metric-1=0.678536\n",
      "Step 1940 validation: metric-1=0.663737\n",
      "Step 1960 validation: metric-1=0.681031\n",
      "Step 1980 validation: metric-1=0.656226\n",
      "Step 2000 validation: metric-1=0.668026\n",
      "Step 2020 validation: metric-1=0.681477\n",
      "Step 2040 validation: metric-1=0.666887\n",
      "Step 2060 validation: metric-1=0.679332\n",
      "Step 2080 validation: metric-1=0.659676\n",
      "Step 2100 validation: metric-1=0.673105\n",
      "Step 2120 validation: metric-1=0.672453\n",
      "Step 2140 validation: metric-1=0.669838\n",
      "Step 2160 validation: metric-1=0.668509\n",
      "Step 2180 validation: metric-1=0.684021\n",
      "Step 2200 validation: metric-1=0.679303\n",
      "Step 2220 validation: metric-1=0.671264\n",
      "Step 2240 validation: metric-1=0.671806\n",
      "Step 2260 validation: metric-1=0.668217\n",
      "Step 2280 validation: metric-1=0.666343\n",
      "Step 2300 validation: metric-1=0.662877\n",
      "Step 2320 validation: metric-1=0.662254\n",
      "Step 2340 validation: metric-1=0.657521\n",
      "Step 2360 validation: metric-1=0.638114\n",
      "Step 2380 validation: metric-1=0.667893\n",
      "Step 2400 validation: metric-1=0.678332\n",
      "Step 2420 validation: metric-1=0.663658\n",
      "Step 2440 validation: metric-1=0.667353\n",
      "Step 2460 validation: metric-1=0.672057\n",
      "Step 2480 validation: metric-1=0.672114\n",
      "Step 2500 validation: metric-1=0.658236\n",
      "Step 2520 validation: metric-1=0.637351\n",
      "Step 2540 validation: metric-1=0.649416\n",
      "Step 2560 validation: metric-1=0.646624\n",
      "Step 2580 validation: metric-1=0.683492\n",
      "Step 2600 validation: metric-1=0.659626\n",
      "Step 2620 validation: metric-1=0.646046\n",
      "Step 2640 validation: metric-1=0.656371\n",
      "Step 2660 validation: metric-1=0.685063\n",
      "Step 2680 validation: metric-1=0.658305\n",
      "Step 2700 validation: metric-1=0.649545\n",
      "Step 2720 validation: metric-1=0.650502\n",
      "Step 2740 validation: metric-1=0.65812\n",
      "Step 2760 validation: metric-1=0.625683\n",
      "Step 2780 validation: metric-1=0.663322\n",
      "Step 2800 validation: metric-1=0.653351\n",
      "Step 2820 validation: metric-1=0.666871\n",
      "Step 2840 validation: metric-1=0.667241\n",
      "Step 2860 validation: metric-1=0.667517\n",
      "Step 2880 validation: metric-1=0.651793\n",
      "Step 2900 validation: metric-1=0.662768\n",
      "Step 2920 validation: metric-1=0.673176\n",
      "Step 2940 validation: metric-1=0.661257\n",
      "Step 2960 validation: metric-1=0.661004\n",
      "Step 2980 validation: metric-1=0.658529\n",
      "Step 3000 validation: metric-1=0.667861\n",
      "Step 3020 validation: metric-1=0.654862\n",
      "Step 3040 validation: metric-1=0.658351\n",
      "Step 3060 validation: metric-1=0.650591\n",
      "Step 3080 validation: metric-1=0.664894\n",
      "Step 3100 validation: metric-1=0.63783\n",
      "Step 3120 validation: metric-1=0.668371\n",
      "Step 3140 validation: metric-1=0.632715\n",
      "Step 3160 validation: metric-1=0.664499\n",
      "Step 3180 validation: metric-1=0.662036\n",
      "Step 3200 validation: metric-1=0.657996\n"
     ]
    },
    {
     "data": {
      "text/plain": [
       "0.21847932338714598"
      ]
     },
     "execution_count": 13,
     "metadata": {},
     "output_type": "execute_result"
    }
   ],
   "source": [
    "model.fit(train, 100, callbacks=[vc])"
   ]
  },
  {
   "cell_type": "markdown",
   "id": "f0c63f7a-12dc-4e08-8313-762c38341ff1",
   "metadata": {},
   "source": [
    "# Evaluó"
   ]
  },
  {
   "cell_type": "code",
   "execution_count": 16,
   "id": "e5396dd0-6e26-4394-8622-2f763bbb6070",
   "metadata": {},
   "outputs": [
    {
     "data": {
      "text/plain": [
       "{'metric-1': 0.94145719438699}"
      ]
     },
     "execution_count": 16,
     "metadata": {},
     "output_type": "execute_result"
    }
   ],
   "source": [
    "model.evaluate(train, dc.metrics.r2_score)"
   ]
  },
  {
   "cell_type": "code",
   "execution_count": 17,
   "id": "d742002f-c864-478c-9e58-cd3a525273dc",
   "metadata": {},
   "outputs": [
    {
     "data": {
      "text/plain": [
       "{'metric-1': 0.657996203431649}"
      ]
     },
     "execution_count": 17,
     "metadata": {},
     "output_type": "execute_result"
    }
   ],
   "source": [
    "model.evaluate(test, dc.metrics.r2_score)"
   ]
  },
  {
   "cell_type": "code",
   "execution_count": null,
   "id": "50bcd3a1-e412-4f74-884f-00ccbb056adb",
   "metadata": {},
   "outputs": [],
   "source": []
  }
 ],
 "metadata": {
  "kernelspec": {
   "display_name": "Python 3",
   "language": "python",
   "name": "python3"
  },
  "language_info": {
   "codemirror_mode": {
    "name": "ipython",
    "version": 3
   },
   "file_extension": ".py",
   "mimetype": "text/x-python",
   "name": "python",
   "nbconvert_exporter": "python",
   "pygments_lexer": "ipython3",
   "version": "3.7.9"
  }
 },
 "nbformat": 4,
 "nbformat_minor": 5
}
